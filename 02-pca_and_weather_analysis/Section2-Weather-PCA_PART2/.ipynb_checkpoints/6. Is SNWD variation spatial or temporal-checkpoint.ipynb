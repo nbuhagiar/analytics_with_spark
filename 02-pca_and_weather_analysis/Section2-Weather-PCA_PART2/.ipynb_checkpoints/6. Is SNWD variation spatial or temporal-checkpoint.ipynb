{
 "cells": [
  {
   "cell_type": "markdown",
   "metadata": {
    "slideshow": {
     "slide_type": "slide"
    }
   },
   "source": [
    "## Analyze whether early or late snow changes more year to year or place to place.\n",
    "\n",
    "* We know from previous notebooks that the value of `coef_2` corresponds to whether the snow season is early or late. \n",
    "* We want to study whether early/late season is more dependent on the year or on the location.\n",
    "* We will use RMS Error to quantify the strength of these dependencies."
   ]
  },
  {
   "cell_type": "code",
   "execution_count": 1,
   "metadata": {
    "ExecuteTime": {
     "end_time": "2018-04-26T15:38:54.494789Z",
     "start_time": "2018-04-26T15:38:54.082547Z"
    },
    "slideshow": {
     "slide_type": "skip"
    }
   },
   "outputs": [
    {
     "name": "stderr",
     "output_type": "stream",
     "text": [
      "/usr/lib/python3.5/importlib/_bootstrap.py:222: RuntimeWarning: numpy.dtype size changed, may indicate binary incompatibility. Expected 96, got 88\n",
      "  return f(*args, **kwds)\n",
      "/usr/lib/python3.5/importlib/_bootstrap.py:222: RuntimeWarning: numpy.dtype size changed, may indicate binary incompatibility. Expected 96, got 88\n",
      "  return f(*args, **kwds)\n"
     ]
    }
   ],
   "source": [
    "import pandas as pd\n",
    "import numpy as np\n",
    "import urllib\n",
    "import math"
   ]
  },
  {
   "cell_type": "code",
   "execution_count": 2,
   "metadata": {
    "ExecuteTime": {
     "end_time": "2018-04-26T15:38:59.301231Z",
     "start_time": "2018-04-26T15:38:56.680609Z"
    },
    "collapsed": true,
    "slideshow": {
     "slide_type": "skip"
    }
   },
   "outputs": [],
   "source": [
    "#import findspark\n",
    "#findspark.init()\n",
    "\n",
    "from pyspark import SparkContext\n",
    "#sc.stop()\n",
    "sc = SparkContext(master=\"local[3]\",pyFiles=['lib/numpy_pack.py','lib/spark_PCA.py','lib/computeStatistics.py'])\n",
    "\n",
    "from pyspark import SparkContext\n",
    "from pyspark.sql import *\n",
    "sqlContext = SQLContext(sc)"
   ]
  },
  {
   "cell_type": "code",
   "execution_count": 3,
   "metadata": {
    "ExecuteTime": {
     "end_time": "2018-04-26T15:39:00.212243Z",
     "start_time": "2018-04-26T15:39:00.028202Z"
    },
    "slideshow": {
     "slide_type": "skip"
    }
   },
   "outputs": [
    {
     "name": "stdout",
     "output_type": "stream",
     "text": [
      "Populating the interactive namespace from numpy and matplotlib\n"
     ]
    }
   ],
   "source": [
    "%pylab inline\n",
    "import numpy as np\n",
    "from lib.numpy_pack import packArray,unpackArray\n",
    "from lib.spark_PCA import computeCov\n",
    "from lib.computeStatistics import *"
   ]
  },
  {
   "cell_type": "code",
   "execution_count": 4,
   "metadata": {
    "ExecuteTime": {
     "end_time": "2018-04-26T15:39:01.303639Z",
     "start_time": "2018-04-26T15:39:01.217000Z"
    },
    "slideshow": {
     "slide_type": "skip"
    }
   },
   "outputs": [
    {
     "name": "stdout",
     "output_type": "stream",
     "text": [
      "keys from STAT= dict_keys(['TMIN', 'TOBS', 'PRCP', 'TMIN_s20', 'TMAX', 'SNWD_s20', 'PRCP_s20', 'SNOW_s20', 'SNOW', 'TMAX_s20', 'TOBS_s20', 'SNWD'])\n"
     ]
    }
   ],
   "source": [
    "### Read the data frame from pickle file\n",
    "\n",
    "data_dir='../Data/Weather'\n",
    "state='NY'\n",
    "meas='SNWD'\n",
    "\n",
    "from pickle import load\n",
    "\n",
    "#read statistics\n",
    "filename=data_dir+'/STAT_%s.pickle'%state\n",
    "STAT,STAT_Descriptions = load(open(filename,'rb'))\n",
    "print('keys from STAT=',STAT.keys())"
   ]
  },
  {
   "cell_type": "code",
   "execution_count": 5,
   "metadata": {
    "ExecuteTime": {
     "end_time": "2018-04-26T15:39:06.616421Z",
     "start_time": "2018-04-26T15:39:03.497687Z"
    },
    "slideshow": {
     "slide_type": "skip"
    }
   },
   "outputs": [
    {
     "name": "stdout",
     "output_type": "stream",
     "text": [
      "8174\n"
     ]
    }
   ],
   "source": [
    "#!ls -ld $data_dir/*.parquet\n",
    "\n",
    "#read data\n",
    "filename=data_dir+'/decon_%s_%s.parquet'%(state,meas)\n",
    "\n",
    "df=sqlContext.read.parquet(filename)\n",
    "print(df.count())\n"
   ]
  },
  {
   "cell_type": "code",
   "execution_count": 6,
   "metadata": {
    "ExecuteTime": {
     "end_time": "2018-04-26T15:39:07.451903Z",
     "start_time": "2018-04-26T15:39:06.618892Z"
    },
    "slideshow": {
     "slide_type": "subslide"
    }
   },
   "outputs": [
    {
     "data": {
      "text/html": [
       "<div>\n",
       "<style scoped>\n",
       "    .dataframe tbody tr th:only-of-type {\n",
       "        vertical-align: middle;\n",
       "    }\n",
       "\n",
       "    .dataframe tbody tr th {\n",
       "        vertical-align: top;\n",
       "    }\n",
       "\n",
       "    .dataframe thead th {\n",
       "        text-align: right;\n",
       "    }\n",
       "</style>\n",
       "<table border=\"1\" class=\"dataframe\">\n",
       "  <thead>\n",
       "    <tr style=\"text-align: right;\">\n",
       "      <th></th>\n",
       "      <th>Station</th>\n",
       "      <th>Measurement</th>\n",
       "      <th>Values</th>\n",
       "      <th>Year</th>\n",
       "      <th>coeff_1</th>\n",
       "      <th>coeff_2</th>\n",
       "      <th>coeff_3</th>\n",
       "      <th>coeff_4</th>\n",
       "      <th>coeff_5</th>\n",
       "      <th>dist_coast</th>\n",
       "      <th>...</th>\n",
       "      <th>longitude</th>\n",
       "      <th>name</th>\n",
       "      <th>res_1</th>\n",
       "      <th>res_2</th>\n",
       "      <th>res_3</th>\n",
       "      <th>res_4</th>\n",
       "      <th>res_5</th>\n",
       "      <th>res_mean</th>\n",
       "      <th>total_var</th>\n",
       "      <th>State</th>\n",
       "    </tr>\n",
       "  </thead>\n",
       "  <tbody>\n",
       "    <tr>\n",
       "      <th>0</th>\n",
       "      <td>USC00306411</td>\n",
       "      <td>SNWD</td>\n",
       "      <td>[0, 126, 0, 126, 0, 126, 0, 126, 0, 126, 0, 12...</td>\n",
       "      <td>1941</td>\n",
       "      <td>1.335004</td>\n",
       "      <td>1.636196</td>\n",
       "      <td>20.11617</td>\n",
       "      <td>-19.059189</td>\n",
       "      <td>-6.872523</td>\n",
       "      <td>370.621002</td>\n",
       "      <td>...</td>\n",
       "      <td>-74.833298</td>\n",
       "      <td>PARISHVILLE 1 WNW</td>\n",
       "      <td>0.999985</td>\n",
       "      <td>0.999962</td>\n",
       "      <td>0.996677</td>\n",
       "      <td>0.995718</td>\n",
       "      <td>0.995049</td>\n",
       "      <td>0.538214</td>\n",
       "      <td>433356.0</td>\n",
       "      <td>NY</td>\n",
       "    </tr>\n",
       "  </tbody>\n",
       "</table>\n",
       "<p>1 rows × 22 columns</p>\n",
       "</div>"
      ],
      "text/plain": [
       "       Station Measurement                                             Values  \\\n",
       "0  USC00306411        SNWD  [0, 126, 0, 126, 0, 126, 0, 126, 0, 126, 0, 12...   \n",
       "\n",
       "   Year   coeff_1   coeff_2   coeff_3    coeff_4   coeff_5  dist_coast  ...    \\\n",
       "0  1941  1.335004  1.636196  20.11617 -19.059189 -6.872523  370.621002  ...     \n",
       "\n",
       "   longitude               name     res_1     res_2     res_3     res_4  \\\n",
       "0 -74.833298  PARISHVILLE 1 WNW  0.999985  0.999962  0.996677  0.995718   \n",
       "\n",
       "      res_5  res_mean  total_var  State  \n",
       "0  0.995049  0.538214   433356.0     NY  \n",
       "\n",
       "[1 rows x 22 columns]"
      ]
     },
     "execution_count": 6,
     "metadata": {},
     "output_type": "execute_result"
    }
   ],
   "source": [
    "tmp=df.filter(df.Station=='USC00306411').toPandas()\n",
    "tmp.head(1)"
   ]
  },
  {
   "cell_type": "code",
   "execution_count": 7,
   "metadata": {
    "ExecuteTime": {
     "end_time": "2018-04-26T15:39:07.887180Z",
     "start_time": "2018-04-26T15:39:07.457319Z"
    },
    "scrolled": true,
    "slideshow": {
     "slide_type": "subslide"
    }
   },
   "outputs": [
    {
     "name": "stdout",
     "output_type": "stream",
     "text": [
      "SELECT station, year, coeff_2 FROM weather\n"
     ]
    },
    {
     "data": {
      "text/html": [
       "<div>\n",
       "<style scoped>\n",
       "    .dataframe tbody tr th:only-of-type {\n",
       "        vertical-align: middle;\n",
       "    }\n",
       "\n",
       "    .dataframe tbody tr th {\n",
       "        vertical-align: top;\n",
       "    }\n",
       "\n",
       "    .dataframe thead th {\n",
       "        text-align: right;\n",
       "    }\n",
       "</style>\n",
       "<table border=\"1\" class=\"dataframe\">\n",
       "  <thead>\n",
       "    <tr style=\"text-align: right;\">\n",
       "      <th></th>\n",
       "      <th>station</th>\n",
       "      <th>year</th>\n",
       "      <th>coeff_2</th>\n",
       "    </tr>\n",
       "  </thead>\n",
       "  <tbody>\n",
       "    <tr>\n",
       "      <th>0</th>\n",
       "      <td>USW00014735</td>\n",
       "      <td>1939</td>\n",
       "      <td>-169.322319</td>\n",
       "    </tr>\n",
       "    <tr>\n",
       "      <th>1</th>\n",
       "      <td>USW00014735</td>\n",
       "      <td>1943</td>\n",
       "      <td>272.354092</td>\n",
       "    </tr>\n",
       "    <tr>\n",
       "      <th>2</th>\n",
       "      <td>USW00014735</td>\n",
       "      <td>1945</td>\n",
       "      <td>790.579389</td>\n",
       "    </tr>\n",
       "    <tr>\n",
       "      <th>3</th>\n",
       "      <td>USW00014735</td>\n",
       "      <td>1947</td>\n",
       "      <td>-216.302832</td>\n",
       "    </tr>\n",
       "    <tr>\n",
       "      <th>4</th>\n",
       "      <td>USW00014735</td>\n",
       "      <td>1948</td>\n",
       "      <td>1028.612179</td>\n",
       "    </tr>\n",
       "  </tbody>\n",
       "</table>\n",
       "</div>"
      ],
      "text/plain": [
       "       station  year      coeff_2\n",
       "0  USW00014735  1939  -169.322319\n",
       "1  USW00014735  1943   272.354092\n",
       "2  USW00014735  1945   790.579389\n",
       "3  USW00014735  1947  -216.302832\n",
       "4  USW00014735  1948  1028.612179"
      ]
     },
     "execution_count": 7,
     "metadata": {},
     "output_type": "execute_result"
    }
   ],
   "source": [
    "#extract longitude and latitude for each station\n",
    "feature='coeff_1'\n",
    "sqlContext.registerDataFrameAsTable(df,'weather')\n",
    "Features='station, year, coeff_2'\n",
    "Query=\"SELECT %s FROM weather\"%Features\n",
    "print(Query)\n",
    "pdf = sqlContext.sql(Query).toPandas()\n",
    "pdf.head()"
   ]
  },
  {
   "cell_type": "code",
   "execution_count": 8,
   "metadata": {
    "ExecuteTime": {
     "end_time": "2018-04-26T15:39:08.902260Z",
     "start_time": "2018-04-26T15:39:08.870053Z"
    },
    "slideshow": {
     "slide_type": "subslide"
    }
   },
   "outputs": [
    {
     "data": {
      "text/html": [
       "<div>\n",
       "<style scoped>\n",
       "    .dataframe tbody tr th:only-of-type {\n",
       "        vertical-align: middle;\n",
       "    }\n",
       "\n",
       "    .dataframe tbody tr th {\n",
       "        vertical-align: top;\n",
       "    }\n",
       "\n",
       "    .dataframe thead th {\n",
       "        text-align: right;\n",
       "    }\n",
       "</style>\n",
       "<table border=\"1\" class=\"dataframe\">\n",
       "  <thead>\n",
       "    <tr style=\"text-align: right;\">\n",
       "      <th>station</th>\n",
       "      <th>USC00300015</th>\n",
       "      <th>USC00300023</th>\n",
       "      <th>USC00300047</th>\n",
       "      <th>USC00300055</th>\n",
       "      <th>USC00300063</th>\n",
       "      <th>USC00300077</th>\n",
       "      <th>USC00300085</th>\n",
       "      <th>USC00300090</th>\n",
       "      <th>USC00300093</th>\n",
       "      <th>USC00300159</th>\n",
       "      <th>...</th>\n",
       "      <th>USW00014786</th>\n",
       "      <th>USW00014797</th>\n",
       "      <th>USW00014798</th>\n",
       "      <th>USW00094704</th>\n",
       "      <th>USW00094725</th>\n",
       "      <th>USW00094728</th>\n",
       "      <th>USW00094745</th>\n",
       "      <th>USW00094789</th>\n",
       "      <th>USW00094790</th>\n",
       "      <th>USW00094794</th>\n",
       "    </tr>\n",
       "    <tr>\n",
       "      <th>year</th>\n",
       "      <th></th>\n",
       "      <th></th>\n",
       "      <th></th>\n",
       "      <th></th>\n",
       "      <th></th>\n",
       "      <th></th>\n",
       "      <th></th>\n",
       "      <th></th>\n",
       "      <th></th>\n",
       "      <th></th>\n",
       "      <th></th>\n",
       "      <th></th>\n",
       "      <th></th>\n",
       "      <th></th>\n",
       "      <th></th>\n",
       "      <th></th>\n",
       "      <th></th>\n",
       "      <th></th>\n",
       "      <th></th>\n",
       "      <th></th>\n",
       "      <th></th>\n",
       "    </tr>\n",
       "  </thead>\n",
       "  <tbody>\n",
       "    <tr>\n",
       "      <th>2009</th>\n",
       "      <td>NaN</td>\n",
       "      <td>NaN</td>\n",
       "      <td>NaN</td>\n",
       "      <td>NaN</td>\n",
       "      <td>NaN</td>\n",
       "      <td>NaN</td>\n",
       "      <td>NaN</td>\n",
       "      <td>NaN</td>\n",
       "      <td>870.773867</td>\n",
       "      <td>NaN</td>\n",
       "      <td>...</td>\n",
       "      <td>NaN</td>\n",
       "      <td>NaN</td>\n",
       "      <td>NaN</td>\n",
       "      <td>NaN</td>\n",
       "      <td>NaN</td>\n",
       "      <td>NaN</td>\n",
       "      <td>NaN</td>\n",
       "      <td>NaN</td>\n",
       "      <td>NaN</td>\n",
       "      <td>NaN</td>\n",
       "    </tr>\n",
       "    <tr>\n",
       "      <th>2010</th>\n",
       "      <td>NaN</td>\n",
       "      <td>NaN</td>\n",
       "      <td>NaN</td>\n",
       "      <td>NaN</td>\n",
       "      <td>NaN</td>\n",
       "      <td>NaN</td>\n",
       "      <td>NaN</td>\n",
       "      <td>NaN</td>\n",
       "      <td>-31.805303</td>\n",
       "      <td>NaN</td>\n",
       "      <td>...</td>\n",
       "      <td>NaN</td>\n",
       "      <td>NaN</td>\n",
       "      <td>NaN</td>\n",
       "      <td>NaN</td>\n",
       "      <td>NaN</td>\n",
       "      <td>NaN</td>\n",
       "      <td>NaN</td>\n",
       "      <td>NaN</td>\n",
       "      <td>NaN</td>\n",
       "      <td>NaN</td>\n",
       "    </tr>\n",
       "    <tr>\n",
       "      <th>2011</th>\n",
       "      <td>NaN</td>\n",
       "      <td>NaN</td>\n",
       "      <td>NaN</td>\n",
       "      <td>-120.642691</td>\n",
       "      <td>472.534062</td>\n",
       "      <td>NaN</td>\n",
       "      <td>NaN</td>\n",
       "      <td>NaN</td>\n",
       "      <td>907.925667</td>\n",
       "      <td>NaN</td>\n",
       "      <td>...</td>\n",
       "      <td>NaN</td>\n",
       "      <td>NaN</td>\n",
       "      <td>NaN</td>\n",
       "      <td>NaN</td>\n",
       "      <td>NaN</td>\n",
       "      <td>806.258001</td>\n",
       "      <td>NaN</td>\n",
       "      <td>NaN</td>\n",
       "      <td>NaN</td>\n",
       "      <td>NaN</td>\n",
       "    </tr>\n",
       "    <tr>\n",
       "      <th>2012</th>\n",
       "      <td>NaN</td>\n",
       "      <td>NaN</td>\n",
       "      <td>NaN</td>\n",
       "      <td>NaN</td>\n",
       "      <td>NaN</td>\n",
       "      <td>NaN</td>\n",
       "      <td>NaN</td>\n",
       "      <td>NaN</td>\n",
       "      <td>NaN</td>\n",
       "      <td>NaN</td>\n",
       "      <td>...</td>\n",
       "      <td>NaN</td>\n",
       "      <td>NaN</td>\n",
       "      <td>NaN</td>\n",
       "      <td>NaN</td>\n",
       "      <td>NaN</td>\n",
       "      <td>NaN</td>\n",
       "      <td>NaN</td>\n",
       "      <td>NaN</td>\n",
       "      <td>NaN</td>\n",
       "      <td>NaN</td>\n",
       "    </tr>\n",
       "    <tr>\n",
       "      <th>2013</th>\n",
       "      <td>NaN</td>\n",
       "      <td>149.013363</td>\n",
       "      <td>NaN</td>\n",
       "      <td>NaN</td>\n",
       "      <td>0.977231</td>\n",
       "      <td>NaN</td>\n",
       "      <td>97.643753</td>\n",
       "      <td>NaN</td>\n",
       "      <td>NaN</td>\n",
       "      <td>NaN</td>\n",
       "      <td>...</td>\n",
       "      <td>NaN</td>\n",
       "      <td>NaN</td>\n",
       "      <td>NaN</td>\n",
       "      <td>NaN</td>\n",
       "      <td>NaN</td>\n",
       "      <td>NaN</td>\n",
       "      <td>NaN</td>\n",
       "      <td>NaN</td>\n",
       "      <td>NaN</td>\n",
       "      <td>NaN</td>\n",
       "    </tr>\n",
       "  </tbody>\n",
       "</table>\n",
       "<p>5 rows × 329 columns</p>\n",
       "</div>"
      ],
      "text/plain": [
       "station  USC00300015  USC00300023  USC00300047  USC00300055  USC00300063  \\\n",
       "year                                                                       \n",
       "2009             NaN          NaN          NaN          NaN          NaN   \n",
       "2010             NaN          NaN          NaN          NaN          NaN   \n",
       "2011             NaN          NaN          NaN  -120.642691   472.534062   \n",
       "2012             NaN          NaN          NaN          NaN          NaN   \n",
       "2013             NaN   149.013363          NaN          NaN     0.977231   \n",
       "\n",
       "station  USC00300077  USC00300085  USC00300090  USC00300093  USC00300159  \\\n",
       "year                                                                       \n",
       "2009             NaN          NaN          NaN   870.773867          NaN   \n",
       "2010             NaN          NaN          NaN   -31.805303          NaN   \n",
       "2011             NaN          NaN          NaN   907.925667          NaN   \n",
       "2012             NaN          NaN          NaN          NaN          NaN   \n",
       "2013             NaN    97.643753          NaN          NaN          NaN   \n",
       "\n",
       "station     ...       USW00014786  USW00014797  USW00014798  USW00094704  \\\n",
       "year        ...                                                            \n",
       "2009        ...               NaN          NaN          NaN          NaN   \n",
       "2010        ...               NaN          NaN          NaN          NaN   \n",
       "2011        ...               NaN          NaN          NaN          NaN   \n",
       "2012        ...               NaN          NaN          NaN          NaN   \n",
       "2013        ...               NaN          NaN          NaN          NaN   \n",
       "\n",
       "station  USW00094725  USW00094728  USW00094745  USW00094789  USW00094790  \\\n",
       "year                                                                       \n",
       "2009             NaN          NaN          NaN          NaN          NaN   \n",
       "2010             NaN          NaN          NaN          NaN          NaN   \n",
       "2011             NaN   806.258001          NaN          NaN          NaN   \n",
       "2012             NaN          NaN          NaN          NaN          NaN   \n",
       "2013             NaN          NaN          NaN          NaN          NaN   \n",
       "\n",
       "station  USW00094794  \n",
       "year                  \n",
       "2009             NaN  \n",
       "2010             NaN  \n",
       "2011             NaN  \n",
       "2012             NaN  \n",
       "2013             NaN  \n",
       "\n",
       "[5 rows x 329 columns]"
      ]
     },
     "execution_count": 8,
     "metadata": {},
     "output_type": "execute_result"
    }
   ],
   "source": [
    "year_station_table=pdf.pivot(index='year', columns='station', values='coeff_2')\n",
    "year_station_table.tail(5)"
   ]
  },
  {
   "cell_type": "code",
   "execution_count": 9,
   "metadata": {
    "ExecuteTime": {
     "end_time": "2018-04-26T15:39:11.652326Z",
     "start_time": "2018-04-26T15:39:11.394276Z"
    },
    "scrolled": true,
    "slideshow": {
     "slide_type": "subslide"
    }
   },
   "outputs": [
    {
     "data": {
      "text/plain": [
       "Text(0,0.5,'Number of stations')"
      ]
     },
     "execution_count": 9,
     "metadata": {},
     "output_type": "execute_result"
    },
    {
     "data": {
      "image/png": "[encoded data removed]",
      "text/plain": [
       "<Figure size 432x288 with 1 Axes>"
      ]
     },
     "metadata": {},
     "output_type": "display_data"
    }
   ],
   "source": [
    "station_nulls=pd.isnull(year_station_table).mean()\n",
    "station_nulls.hist();\n",
    "xlabel('Fraction of years that are undefined')\n",
    "ylabel('Number of stations')"
   ]
  },
  {
   "cell_type": "code",
   "execution_count": 10,
   "metadata": {
    "ExecuteTime": {
     "end_time": "2018-04-26T15:39:12.734152Z",
     "start_time": "2018-04-26T15:39:12.606589Z"
    },
    "scrolled": true,
    "slideshow": {
     "slide_type": "subslide"
    }
   },
   "outputs": [
    {
     "data": {
      "text/plain": [
       "Text(0,0.5,'fraction of stations that are undefined')"
      ]
     },
     "execution_count": 10,
     "metadata": {},
     "output_type": "execute_result"
    },
    {
     "data": {
      "image/png": "[encoded data removed]",
      "text/plain": [
       "<Figure size 432x288 with 1 Axes>"
      ]
     },
     "metadata": {},
     "output_type": "display_data"
    }
   ],
   "source": [
    "year_nulls=pd.isnull(year_station_table).mean(axis=1)\n",
    "year_nulls.plot();\n",
    "grid()\n",
    "ylabel('fraction of stations that are undefined')"
   ]
  },
  {
   "cell_type": "code",
   "execution_count": 11,
   "metadata": {
    "ExecuteTime": {
     "end_time": "2018-04-26T15:39:13.462452Z",
     "start_time": "2018-04-26T15:39:13.435062Z"
    },
    "slideshow": {
     "slide_type": "subslide"
    }
   },
   "outputs": [
    {
     "data": {
      "text/html": [
       "<div>\n",
       "<style scoped>\n",
       "    .dataframe tbody tr th:only-of-type {\n",
       "        vertical-align: middle;\n",
       "    }\n",
       "\n",
       "    .dataframe tbody tr th {\n",
       "        vertical-align: top;\n",
       "    }\n",
       "\n",
       "    .dataframe thead th {\n",
       "        text-align: right;\n",
       "    }\n",
       "</style>\n",
       "<table border=\"1\" class=\"dataframe\">\n",
       "  <thead>\n",
       "    <tr style=\"text-align: right;\">\n",
       "      <th>station</th>\n",
       "      <th>USC00300023</th>\n",
       "      <th>USC00300055</th>\n",
       "      <th>USC00300063</th>\n",
       "      <th>USC00300077</th>\n",
       "      <th>USC00300085</th>\n",
       "      <th>USC00300093</th>\n",
       "      <th>USC00300183</th>\n",
       "      <th>USC00300220</th>\n",
       "      <th>USC00300321</th>\n",
       "      <th>USC00300331</th>\n",
       "      <th>...</th>\n",
       "      <th>USW00014768</th>\n",
       "      <th>USW00014771</th>\n",
       "      <th>USW00014786</th>\n",
       "      <th>USW00014798</th>\n",
       "      <th>USW00094725</th>\n",
       "      <th>USW00094728</th>\n",
       "      <th>USW00094745</th>\n",
       "      <th>USW00094789</th>\n",
       "      <th>USW00094790</th>\n",
       "      <th>USW00094794</th>\n",
       "    </tr>\n",
       "    <tr>\n",
       "      <th>year</th>\n",
       "      <th></th>\n",
       "      <th></th>\n",
       "      <th></th>\n",
       "      <th></th>\n",
       "      <th></th>\n",
       "      <th></th>\n",
       "      <th></th>\n",
       "      <th></th>\n",
       "      <th></th>\n",
       "      <th></th>\n",
       "      <th></th>\n",
       "      <th></th>\n",
       "      <th></th>\n",
       "      <th></th>\n",
       "      <th></th>\n",
       "      <th></th>\n",
       "      <th></th>\n",
       "      <th></th>\n",
       "      <th></th>\n",
       "      <th></th>\n",
       "      <th></th>\n",
       "    </tr>\n",
       "  </thead>\n",
       "  <tbody>\n",
       "    <tr>\n",
       "      <th>2009</th>\n",
       "      <td>NaN</td>\n",
       "      <td>NaN</td>\n",
       "      <td>NaN</td>\n",
       "      <td>NaN</td>\n",
       "      <td>NaN</td>\n",
       "      <td>870.773867</td>\n",
       "      <td>576.598705</td>\n",
       "      <td>NaN</td>\n",
       "      <td>580.459651</td>\n",
       "      <td>NaN</td>\n",
       "      <td>...</td>\n",
       "      <td>NaN</td>\n",
       "      <td>627.812099</td>\n",
       "      <td>NaN</td>\n",
       "      <td>NaN</td>\n",
       "      <td>NaN</td>\n",
       "      <td>NaN</td>\n",
       "      <td>NaN</td>\n",
       "      <td>NaN</td>\n",
       "      <td>NaN</td>\n",
       "      <td>NaN</td>\n",
       "    </tr>\n",
       "    <tr>\n",
       "      <th>2010</th>\n",
       "      <td>NaN</td>\n",
       "      <td>NaN</td>\n",
       "      <td>NaN</td>\n",
       "      <td>NaN</td>\n",
       "      <td>NaN</td>\n",
       "      <td>-31.805303</td>\n",
       "      <td>-25.393217</td>\n",
       "      <td>NaN</td>\n",
       "      <td>-188.964850</td>\n",
       "      <td>-531.836350</td>\n",
       "      <td>...</td>\n",
       "      <td>-177.099611</td>\n",
       "      <td>156.548016</td>\n",
       "      <td>NaN</td>\n",
       "      <td>NaN</td>\n",
       "      <td>NaN</td>\n",
       "      <td>NaN</td>\n",
       "      <td>NaN</td>\n",
       "      <td>NaN</td>\n",
       "      <td>NaN</td>\n",
       "      <td>NaN</td>\n",
       "    </tr>\n",
       "    <tr>\n",
       "      <th>2011</th>\n",
       "      <td>NaN</td>\n",
       "      <td>-120.642691</td>\n",
       "      <td>472.534062</td>\n",
       "      <td>NaN</td>\n",
       "      <td>NaN</td>\n",
       "      <td>907.925667</td>\n",
       "      <td>305.092413</td>\n",
       "      <td>NaN</td>\n",
       "      <td>561.781691</td>\n",
       "      <td>566.875416</td>\n",
       "      <td>...</td>\n",
       "      <td>283.597976</td>\n",
       "      <td>584.134272</td>\n",
       "      <td>NaN</td>\n",
       "      <td>NaN</td>\n",
       "      <td>NaN</td>\n",
       "      <td>806.258001</td>\n",
       "      <td>NaN</td>\n",
       "      <td>NaN</td>\n",
       "      <td>NaN</td>\n",
       "      <td>NaN</td>\n",
       "    </tr>\n",
       "    <tr>\n",
       "      <th>2012</th>\n",
       "      <td>NaN</td>\n",
       "      <td>NaN</td>\n",
       "      <td>NaN</td>\n",
       "      <td>NaN</td>\n",
       "      <td>NaN</td>\n",
       "      <td>NaN</td>\n",
       "      <td>NaN</td>\n",
       "      <td>NaN</td>\n",
       "      <td>NaN</td>\n",
       "      <td>NaN</td>\n",
       "      <td>...</td>\n",
       "      <td>NaN</td>\n",
       "      <td>NaN</td>\n",
       "      <td>NaN</td>\n",
       "      <td>NaN</td>\n",
       "      <td>NaN</td>\n",
       "      <td>NaN</td>\n",
       "      <td>NaN</td>\n",
       "      <td>NaN</td>\n",
       "      <td>NaN</td>\n",
       "      <td>NaN</td>\n",
       "    </tr>\n",
       "    <tr>\n",
       "      <th>2013</th>\n",
       "      <td>149.013363</td>\n",
       "      <td>NaN</td>\n",
       "      <td>0.977231</td>\n",
       "      <td>NaN</td>\n",
       "      <td>97.643753</td>\n",
       "      <td>NaN</td>\n",
       "      <td>NaN</td>\n",
       "      <td>NaN</td>\n",
       "      <td>170.083352</td>\n",
       "      <td>43.373130</td>\n",
       "      <td>...</td>\n",
       "      <td>15.194207</td>\n",
       "      <td>86.764841</td>\n",
       "      <td>NaN</td>\n",
       "      <td>NaN</td>\n",
       "      <td>NaN</td>\n",
       "      <td>NaN</td>\n",
       "      <td>NaN</td>\n",
       "      <td>NaN</td>\n",
       "      <td>NaN</td>\n",
       "      <td>NaN</td>\n",
       "    </tr>\n",
       "  </tbody>\n",
       "</table>\n",
       "<p>5 rows × 268 columns</p>\n",
       "</div>"
      ],
      "text/plain": [
       "station  USC00300023  USC00300055  USC00300063  USC00300077  USC00300085  \\\n",
       "year                                                                       \n",
       "2009             NaN          NaN          NaN          NaN          NaN   \n",
       "2010             NaN          NaN          NaN          NaN          NaN   \n",
       "2011             NaN  -120.642691   472.534062          NaN          NaN   \n",
       "2012             NaN          NaN          NaN          NaN          NaN   \n",
       "2013      149.013363          NaN     0.977231          NaN    97.643753   \n",
       "\n",
       "station  USC00300093  USC00300183  USC00300220  USC00300321  USC00300331  \\\n",
       "year                                                                       \n",
       "2009      870.773867   576.598705          NaN   580.459651          NaN   \n",
       "2010      -31.805303   -25.393217          NaN  -188.964850  -531.836350   \n",
       "2011      907.925667   305.092413          NaN   561.781691   566.875416   \n",
       "2012             NaN          NaN          NaN          NaN          NaN   \n",
       "2013             NaN          NaN          NaN   170.083352    43.373130   \n",
       "\n",
       "station     ...       USW00014768  USW00014771  USW00014786  USW00014798  \\\n",
       "year        ...                                                            \n",
       "2009        ...               NaN   627.812099          NaN          NaN   \n",
       "2010        ...       -177.099611   156.548016          NaN          NaN   \n",
       "2011        ...        283.597976   584.134272          NaN          NaN   \n",
       "2012        ...               NaN          NaN          NaN          NaN   \n",
       "2013        ...         15.194207    86.764841          NaN          NaN   \n",
       "\n",
       "station  USW00094725  USW00094728  USW00094745  USW00094789  USW00094790  \\\n",
       "year                                                                       \n",
       "2009             NaN          NaN          NaN          NaN          NaN   \n",
       "2010             NaN          NaN          NaN          NaN          NaN   \n",
       "2011             NaN   806.258001          NaN          NaN          NaN   \n",
       "2012             NaN          NaN          NaN          NaN          NaN   \n",
       "2013             NaN          NaN          NaN          NaN          NaN   \n",
       "\n",
       "station  USW00094794  \n",
       "year                  \n",
       "2009             NaN  \n",
       "2010             NaN  \n",
       "2011             NaN  \n",
       "2012             NaN  \n",
       "2013             NaN  \n",
       "\n",
       "[5 rows x 268 columns]"
      ]
     },
     "execution_count": 11,
     "metadata": {},
     "output_type": "execute_result"
    }
   ],
   "source": [
    "pdf2=pdf[pdf['year']>1960]\n",
    "year_station_table=pdf2.pivot(index='year', columns='station', values='coeff_2')\n",
    "year_station_table.tail(5)"
   ]
  },
  {
   "cell_type": "code",
   "execution_count": 12,
   "metadata": {
    "ExecuteTime": {
     "end_time": "2018-04-26T15:39:14.354001Z",
     "start_time": "2018-04-26T15:39:14.215303Z"
    },
    "slideshow": {
     "slide_type": "subslide"
    }
   },
   "outputs": [
    {
     "data": {
      "text/plain": [
       "Text(0,0.5,'Number of stations')"
      ]
     },
     "execution_count": 12,
     "metadata": {},
     "output_type": "execute_result"
    },
    {
     "data": {
      "image/png": "[encoded data removed]",
      "text/plain": [
       "<Figure size 432x288 with 1 Axes>"
      ]
     },
     "metadata": {},
     "output_type": "display_data"
    }
   ],
   "source": [
    "station_nulls=pd.isnull(year_station_table).mean()\n",
    "station_nulls.hist();\n",
    "xlabel('Fraction of years that are undefined')\n",
    "ylabel('Number of stations')"
   ]
  },
  {
   "cell_type": "markdown",
   "metadata": {
    "slideshow": {
     "slide_type": "slide"
    }
   },
   "source": [
    "### Estimating the effect of the year vs the effect of the station\n",
    "\n",
    "To estimate the effect of time vs. location on the second eigenvector coefficient we\n",
    "compute:\n",
    "\n",
    "* The average row: `mean-by-station`\n",
    "* The average column: `mean-by-year`\n",
    "\n",
    "We then compute the RMS before and after subtracting either  the row or the column vector."
   ]
  },
  {
   "cell_type": "code",
   "execution_count": 13,
   "metadata": {
    "ExecuteTime": {
     "end_time": "2018-04-26T15:39:17.327951Z",
     "start_time": "2018-04-26T15:39:17.208983Z"
    },
    "hide_input": true,
    "slideshow": {
     "slide_type": "subslide"
    }
   },
   "outputs": [
    {
     "name": "stdout",
     "output_type": "stream",
     "text": [
      "total RMS                   =  753.145449514645\n",
      "RMS removing mean-by-station=  701.5445524111517 reduction= 51.60089710349325\n",
      "RMS removing mean-by-year   =  531.4823870967629 reduction= 221.6630624178821\n"
     ]
    }
   ],
   "source": [
    "def RMS(Mat):\n",
    "    return np.sqrt(np.nanmean(Mat**2))\n",
    "\n",
    "mean_by_year=np.nanmean(year_station_table,axis=1)\n",
    "mean_by_station=np.nanmean(year_station_table,axis=0)\n",
    "tbl_minus_year = (year_station_table.transpose()-mean_by_year).transpose()\n",
    "tbl_minus_station = year_station_table-mean_by_station\n",
    "\n",
    "print('total RMS                   = ',RMS(year_station_table))\n",
    "print('RMS removing mean-by-station= ',RMS(tbl_minus_station),'reduction=',RMS(year_station_table)-RMS(tbl_minus_station))\n",
    "print('RMS removing mean-by-year   = ',RMS(tbl_minus_year),'reduction=',RMS(year_station_table)-RMS(tbl_minus_year))"
   ]
  },
  {
   "cell_type": "markdown",
   "metadata": {
    "slideshow": {
     "slide_type": "subslide"
    }
   },
   "source": [
    "### Conclusion Of Analysis\n",
    "The effect of time is about four times as large as the effect of location."
   ]
  },
  {
   "cell_type": "markdown",
   "metadata": {
    "slideshow": {
     "slide_type": "slide"
    }
   },
   "source": [
    "### Iterative reduction\n",
    "* After removing one component, the other component can have an effect.\n",
    "* We can use **alternating minimization** to remove the combined effect of location and time."
   ]
  },
  {
   "cell_type": "code",
   "execution_count": 14,
   "metadata": {
    "ExecuteTime": {
     "end_time": "2018-04-26T15:39:21.340650Z",
     "start_time": "2018-04-26T15:39:21.311423Z"
    },
    "slideshow": {
     "slide_type": "subslide"
    }
   },
   "outputs": [
    {
     "name": "stdout",
     "output_type": "stream",
     "text": [
      "initial RMS= 753.145449514645\n",
      "0 after removing mean by year    = 531.4823870967629\n",
      "0 after removing mean by stations= 490.58111029852466\n",
      "1 after removing mean by year    = 490.11149394795615\n",
      "1 after removing mean by stations= 490.08333935027764\n",
      "2 after removing mean by year    = 490.08010695597295\n",
      "2 after removing mean by stations= 490.0794679008307\n",
      "3 after removing mean by year    = 490.0793022334803\n",
      "3 after removing mean by stations= 490.07925486768687\n",
      "4 after removing mean by year    = 490.0792408655066\n",
      "4 after removing mean by stations= 490.0792366758466\n"
     ]
    }
   ],
   "source": [
    "T=year_station_table\n",
    "print('initial RMS=',RMS(T))\n",
    "for i in range(5):\n",
    "    mean_by_year=np.nanmean(T,axis=1)\n",
    "    T=(T.transpose()-mean_by_year).transpose()\n",
    "    print(i,'after removing mean by year    =',RMS(T))\n",
    "    mean_by_station=np.nanmean(T,axis=0)\n",
    "    T=T-mean_by_station\n",
    "    print(i,'after removing mean by stations=',RMS(T))"
   ]
  },
  {
   "cell_type": "code",
   "execution_count": 15,
   "metadata": {
    "ExecuteTime": {
     "end_time": "2018-04-26T15:39:21.878505Z",
     "start_time": "2018-04-26T15:39:21.871491Z"
    },
    "slideshow": {
     "slide_type": "skip"
    }
   },
   "outputs": [
    {
     "data": {
      "text/plain": [
       "year\n",
       "1961   -0.115733\n",
       "1962   -0.142607\n",
       "1963   -0.143292\n",
       "1964   -0.149812\n",
       "1965   -0.130511\n",
       "Name: mean_by_year, dtype: float64"
      ]
     },
     "execution_count": 15,
     "metadata": {},
     "output_type": "execute_result"
    }
   ],
   "source": [
    "T['mean_by_year']=mean_by_year\n",
    "T['mean_by_year'].head()"
   ]
  },
  {
   "cell_type": "code",
   "execution_count": 16,
   "metadata": {
    "ExecuteTime": {
     "end_time": "2018-04-26T15:39:22.667895Z",
     "start_time": "2018-04-26T15:39:22.504332Z"
    },
    "slideshow": {
     "slide_type": "slide"
    }
   },
   "outputs": [
    {
     "data": {
      "image/png": "[encoded data removed]",
      "text/plain": [
       "<Figure size 720x432 with 1 Axes>"
      ]
     },
     "metadata": {},
     "output_type": "display_data"
    }
   ],
   "source": [
    "figure(figsize=(10,6))\n",
    "T['mean_by_year'].plot();\n",
    "grid()\n",
    "title('A graph showing that in NY state, Snow season has been getting earlier ');"
   ]
  },
  {
   "cell_type": "markdown",
   "metadata": {
    "slideshow": {
     "slide_type": "slide"
    }
   },
   "source": [
    "## Summary\n",
    "* The problem of missing data is prevalent and needs to be addressed.\n",
    "* RMS can be used to quantify the effect of different factors (here, time vs. space)\n",
    "* The snow season in NY has been getting earlier and earlier since 1960."
   ]
  }
 ],
 "metadata": {
  "anaconda-cloud": {},
  "celltoolbar": "Slideshow",
  "hide_input": false,
  "kernelspec": {
   "display_name": "Python 3",
   "language": "python",
   "name": "python3"
  },
  "language_info": {
   "codemirror_mode": {
    "name": "ipython",
    "version": 3
   },
   "file_extension": ".py",
   "mimetype": "text/x-python",
   "name": "python",
   "nbconvert_exporter": "python",
   "pygments_lexer": "ipython3",
   "version": "3.5.2"
  },
  "toc": {
   "nav_menu": {
    "height": "174px",
    "width": "252px"
   },
   "number_sections": true,
   "sideBar": true,
   "skip_h1_title": false,
   "title_cell": "Table of Contents",
   "title_sidebar": "Contents",
   "toc_cell": false,
   "toc_position": {},
   "toc_section_display": "block",
   "toc_window_display": false
  },
  "widgets": {
   "state": {},
   "version": "1.0.0"
  }
 },
 "nbformat": 4,
 "nbformat_minor": 1
}
