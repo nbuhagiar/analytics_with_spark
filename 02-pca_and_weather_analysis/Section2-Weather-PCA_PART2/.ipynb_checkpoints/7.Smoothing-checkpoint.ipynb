{
 "cells": [
  {
   "cell_type": "markdown",
   "metadata": {},
   "source": [
    "### Visualizing weather data"
   ]
  },
  {
   "cell_type": "code",
   "execution_count": 1,
   "metadata": {},
   "outputs": [
    {
     "name": "stderr",
     "output_type": "stream",
     "text": [
      "/usr/lib/python3.5/importlib/_bootstrap.py:222: RuntimeWarning: numpy.dtype size changed, may indicate binary incompatibility. Expected 96, got 88\n",
      "  return f(*args, **kwds)\n",
      "/usr/lib/python3.5/importlib/_bootstrap.py:222: RuntimeWarning: numpy.dtype size changed, may indicate binary incompatibility. Expected 96, got 88\n",
      "  return f(*args, **kwds)\n",
      "/usr/lib/python3.5/importlib/_bootstrap.py:222: RuntimeWarning: numpy.dtype size changed, may indicate binary incompatibility. Expected 96, got 88\n",
      "  return f(*args, **kwds)\n",
      "/usr/lib/python3.5/importlib/_bootstrap.py:222: RuntimeWarning: numpy.dtype size changed, may indicate binary incompatibility. Expected 96, got 88\n",
      "  return f(*args, **kwds)\n",
      "/usr/lib/python3.5/importlib/_bootstrap.py:222: RuntimeWarning: numpy.dtype size changed, may indicate binary incompatibility. Expected 96, got 88\n",
      "  return f(*args, **kwds)\n"
     ]
    },
    {
     "name": "stdout",
     "output_type": "stream",
     "text": [
      "Populating the interactive namespace from numpy and matplotlib\n"
     ]
    }
   ],
   "source": [
    "import pandas as pd\n",
    "import numpy as np\n",
    "import sklearn as sk\n",
    "import urllib\n",
    "import math\n",
    "%pylab inline\n",
    "\n",
    "#import findspark\n",
    "#findspark.init()\n",
    "\n",
    "from pyspark import SparkContext\n",
    "#sc.stop()\n",
    "sc = SparkContext(master=\"local[3]\",pyFiles=['lib/numpy_pack.py','lib/spark_PCA.py','lib/computeStatistics.py'])\n",
    "\n",
    "from pyspark import SparkContext\n",
    "from pyspark.sql import *\n",
    "import pyspark.sql\n",
    "sqlContext = SQLContext(sc)"
   ]
  },
  {
   "cell_type": "code",
   "execution_count": 2,
   "metadata": {
    "collapsed": true
   },
   "outputs": [],
   "source": [
    "import numpy as np\n",
    "from lib.numpy_pack import packArray,unpackArray\n",
    "from spark_PCA import computeCov"
   ]
  },
  {
   "cell_type": "code",
   "execution_count": 3,
   "metadata": {
    "collapsed": true
   },
   "outputs": [],
   "source": [
    "\n",
    "from computeStatistics import computeOverAllDist, STAT_Descriptions"
   ]
  },
  {
   "cell_type": "markdown",
   "metadata": {},
   "source": [
    "### Read weather data for state"
   ]
  },
  {
   "cell_type": "code",
   "execution_count": 4,
   "metadata": {},
   "outputs": [
    {
     "name": "stdout",
     "output_type": "stream",
     "text": [
      "curl https://mas-dse-open.s3.amazonaws.com/Weather/by_state_2/NY.tgz > ../Data/Weather/NY.tgz\n",
      "  % Total    % Received % Xferd  Average Speed   Time    Time     Time  Current\n",
      "                                 Dload  Upload   Total   Spent    Left  Speed\n",
      "100 63.2M  100 63.2M    0     0  4998k      0  0:00:12  0:00:12 --:--:-- 9903k\n",
      "-rw-rw-r-- 1 nick nick 64M Nov 30 23:42 ../Data/Weather/NY.tgz\n"
     ]
    }
   ],
   "source": [
    "state='NY'\n",
    "data_dir='../Data/Weather'\n",
    "\n",
    "tarname=state+'.tgz'\n",
    "parquet=state+'.parquet'\n",
    "\n",
    "%mkdir -p data_dir\n",
    "!rm -rf $data_dir/$tarname\n",
    "\n",
    "command=\"curl https://mas-dse-open.s3.amazonaws.com/Weather/by_state_2/%s > %s/%s\"%(tarname,data_dir,tarname)\n",
    "print(command)\n",
    "!$command\n",
    "!ls -lh $data_dir/$tarname"
   ]
  },
  {
   "cell_type": "code",
   "execution_count": 5,
   "metadata": {},
   "outputs": [
    {
     "name": "stdout",
     "output_type": "stream",
     "text": [
      "/home/nick/git/analytics_with_spark/02-pca_and_weather_analysis/Data/Weather\n",
      "77828\t./NY.parquet\n",
      "/home/nick/git/analytics_with_spark/02-pca_and_weather_analysis/Section2-Weather-PCA_PART2\n",
      "168398\n",
      "+-----------+-----------+----+--------------------+-----------------+--------------+------------------+-----------------+-----+-----------------+\n",
      "|    Station|Measurement|Year|              Values|       dist_coast|      latitude|         longitude|        elevation|state|             name|\n",
      "+-----------+-----------+----+--------------------+-----------------+--------------+------------------+-----------------+-----+-----------------+\n",
      "|USW00094704|   PRCP_s20|1945|[00 00 00 00 00 0...|361.8320007324219|42.57080078125|-77.71330261230469|208.8000030517578|   NY|DANSVILLE MUNI AP|\n",
      "|USW00094704|   PRCP_s20|1946|[99 46 52 46 0B 4...|361.8320007324219|42.57080078125|-77.71330261230469|208.8000030517578|   NY|DANSVILLE MUNI AP|\n",
      "|USW00094704|   PRCP_s20|1947|[79 4C 75 4C 8F 4...|361.8320007324219|42.57080078125|-77.71330261230469|208.8000030517578|   NY|DANSVILLE MUNI AP|\n",
      "|USW00094704|   PRCP_s20|1948|[72 48 7A 48 85 4...|361.8320007324219|42.57080078125|-77.71330261230469|208.8000030517578|   NY|DANSVILLE MUNI AP|\n",
      "|USW00094704|   PRCP_s20|1949|[BB 49 BC 49 BD 4...|361.8320007324219|42.57080078125|-77.71330261230469|208.8000030517578|   NY|DANSVILLE MUNI AP|\n",
      "+-----------+-----------+----+--------------------+-----------------+--------------+------------------+-----------------+-----+-----------------+\n",
      "only showing top 5 rows\n",
      "\n"
     ]
    }
   ],
   "source": [
    "cur_dir,=!pwd\n",
    "%cd $data_dir\n",
    "!tar -xzf $tarname\n",
    "!du ./$parquet\n",
    "%cd $cur_dir\n",
    "\n",
    "\n",
    "weather_df=sqlContext.read.parquet(data_dir+'/'+parquet)\n",
    "print(weather_df.count())\n",
    "weather_df.show(5)"
   ]
  },
  {
   "cell_type": "markdown",
   "metadata": {},
   "source": [
    "### read statistics information for state."
   ]
  },
  {
   "cell_type": "code",
   "execution_count": 6,
   "metadata": {},
   "outputs": [
    {
     "name": "stdout",
     "output_type": "stream",
     "text": [
      "curl https://mas-dse-open.s3.amazonaws.com/Weather/by_state_2/STAT_NY.pickle.gz > ../Data/Weather/STAT_NY.pickle.gz\n",
      "  % Total    % Received % Xferd  Average Speed   Time    Time     Time  Current\n",
      "                                 Dload  Upload   Total   Spent    Left  Speed\n",
      "100 29.9M  100 29.9M    0     0  5610k      0  0:00:05  0:00:05 --:--:-- 7638k\n"
     ]
    }
   ],
   "source": [
    "#read statistics\n",
    "filename='STAT_%s.pickle'%state\n",
    "command=\"curl https://mas-dse-open.s3.amazonaws.com/Weather/by_state_2/%s.gz > %s/%s.gz\"%(filename,data_dir,filename)\n",
    "print(command)\n",
    "!$command"
   ]
  },
  {
   "cell_type": "code",
   "execution_count": 7,
   "metadata": {},
   "outputs": [
    {
     "name": "stdout",
     "output_type": "stream",
     "text": [
      "../Data/Weather/STAT_NY.pickle.gz\n",
      "-rw-rw-r-- 1 nick nick 31373293 Nov 30 23:42 ../Data/Weather/STAT_NY.pickle.gz\n",
      "keys from STAT= dict_keys(['TMAX_s20', 'TOBS_s20', 'TMIN_s20', 'SNWD', 'SNOW_s20', 'PRCP', 'SNOW', 'TOBS', 'SNWD_s20', 'TMAX', 'TMIN', 'PRCP_s20'])\n"
     ]
    }
   ],
   "source": [
    "gzpath='%s/%s.gz'%(data_dir,filename)\n",
    "print(gzpath)\n",
    "!ls -l $gzpath\n",
    "!gunzip -f $gzpath\n",
    "STAT,STAT_Descriptions = load(open(data_dir+'/'+filename,'rb'))\n",
    "print('keys from STAT=',STAT.keys())"
   ]
  },
  {
   "cell_type": "markdown",
   "metadata": {},
   "source": [
    "### Read information about US weather stations."
   ]
  },
  {
   "cell_type": "code",
   "execution_count": 8,
   "metadata": {
    "scrolled": true
   },
   "outputs": [
    {
     "name": "stdout",
     "output_type": "stream",
     "text": [
      "curl https://mas-dse-open.s3.amazonaws.com/Weather/Info/US_stations.tsv.gz > ../Data/Weather/US_stations.tsv.gz\n",
      "  % Total    % Received % Xferd  Average Speed   Time    Time     Time  Current\n",
      "                                 Dload  Upload   Total   Spent    Left  Speed\n",
      "100  320k  100  320k    0     0   301k      0  0:00:01  0:00:01 --:--:--  301k\n",
      "-rw-rw-r-- 1 nick nick 715K Nov 30 23:42 ../Data/Weather/US_stations.tsv\n"
     ]
    }
   ],
   "source": [
    "filename='US_stations.tsv.gz'\n",
    "command=\"curl https://mas-dse-open.s3.amazonaws.com/Weather/Info/%s > %s/%s\"%(filename,data_dir,filename)\n",
    "print(command)\n",
    "!$command\n",
    "filename_no_gz = filename[:-3]\n",
    "!gunzip -f $data_dir/$filename\n",
    "!ls -lh $data_dir/US_stations*"
   ]
  },
  {
   "cell_type": "code",
   "execution_count": 9,
   "metadata": {
    "scrolled": true
   },
   "outputs": [
    {
     "name": "stdout",
     "output_type": "stream",
     "text": [
      "../Data/Weather/US_stations.tsv\n"
     ]
    }
   ],
   "source": [
    "#read csv into pandas dataframe\n",
    "PATH='%s/%s'%(data_dir,filename_no_gz)\n",
    "print(PATH)\n",
    "stations=pd.read_csv(PATH,sep='\\t')"
   ]
  },
  {
   "cell_type": "code",
   "execution_count": 24,
   "metadata": {
    "collapsed": true
   },
   "outputs": [],
   "source": [
    "from pyspark.sql.types import Row, StructField, StructType, StringType, IntegerType, FloatType,BinaryType\n",
    "\n",
    "schema = StructType([StructField(\"Station\", StringType(), False),\n",
    "                     StructField(\"Dist_coast\", FloatType(), False),\n",
    "                     StructField(\"Latitude\", FloatType(), False),\n",
    "                     StructField(\"Longitude\", FloatType(), False),\n",
    "                     StructField(\"Elevation\", FloatType(), False),\n",
    "                     StructField(\"State\", StringType(), True),                  \n",
    "                     StructField(\"Station_Name\", StringType(), False)])                \n"
   ]
  },
  {
   "cell_type": "code",
   "execution_count": 25,
   "metadata": {},
   "outputs": [
    {
     "name": "stdout",
     "output_type": "stream",
     "text": [
      "+-----------+----------+--------+---------+---------+----------------+\n",
      "|    Station|Dist_coast|Latitude|Longitude|Elevation|    Station_Name|\n",
      "+-----------+----------+--------+---------+---------+----------------+\n",
      "|USC00044534|   107.655| 36.0042|  -119.96|     73.2|  KETTLEMAN CITY|\n",
      "|USC00356784|   0.61097| 42.7519|-124.5011|     12.8|PORT ORFORD NO 2|\n",
      "|USC00243581|   1316.54| 47.1064|-104.7183|    632.8|        GLENDIVE|\n",
      "|USC00205601|   685.501|   41.75| -84.2167|    247.2|         MORENCI|\n",
      "+-----------+----------+--------+---------+---------+----------------+\n",
      "only showing top 4 rows\n",
      "\n"
     ]
    }
   ],
   "source": [
    "stations_df = sqlContext.createDataFrame(stations,schema).drop('State')\n",
    "stations_df.show(4)"
   ]
  },
  {
   "cell_type": "code",
   "execution_count": 26,
   "metadata": {
    "scrolled": true
   },
   "outputs": [
    {
     "name": "stdout",
     "output_type": "stream",
     "text": [
      "+-----------+-----------+----+--------------------+-----------------+------------------+------------------+-----------------+-----+-------+----------+--------+---------+---------+------------+\n",
      "|    Station|Measurement|Year|              Values|       dist_coast|          latitude|         longitude|        elevation|state|   name|Dist_coast|Latitude|Longitude|Elevation|Station_Name|\n",
      "+-----------+-----------+----+--------------------+-----------------+------------------+------------------+-----------------+-----+-------+----------+--------+---------+---------+------------+\n",
      "|USC00303955|   SNOW_s20|1992|[00 00 00 00 00 0...|362.2770080566406|42.791900634765625|-77.51360321044922|243.8000030517578|   NY|HONEOYE|   362.277| 42.7919| -77.5136|    243.8|     HONEOYE|\n",
      "|USC00303955|   SNOW_s20|1993|[1C 49 1E 49 25 4...|362.2770080566406|42.791900634765625|-77.51360321044922|243.8000030517578|   NY|HONEOYE|   362.277| 42.7919| -77.5136|    243.8|     HONEOYE|\n",
      "|USC00303955|   SNOW_s20|1994|[2B 4B 4A 4B 68 4...|362.2770080566406|42.791900634765625|-77.51360321044922|243.8000030517578|   NY|HONEOYE|   362.277| 42.7919| -77.5136|    243.8|     HONEOYE|\n",
      "|USC00303955|   SNOW_s20|1995|[7B 46 A0 46 C5 4...|362.2770080566406|42.791900634765625|-77.51360321044922|243.8000030517578|   NY|HONEOYE|   362.277| 42.7919| -77.5136|    243.8|     HONEOYE|\n",
      "+-----------+-----------+----+--------------------+-----------------+------------------+------------------+-----------------+-----+-------+----------+--------+---------+---------+------------+\n",
      "only showing top 4 rows\n",
      "\n"
     ]
    }
   ],
   "source": [
    "jdf=weather_df.join(stations_df,on='Station',how='left')\n",
    "jdf.show(4)"
   ]
  },
  {
   "cell_type": "code",
   "execution_count": 27,
   "metadata": {
    "scrolled": true
   },
   "outputs": [
    {
     "name": "stdout",
     "output_type": "stream",
     "text": [
      "+-----------+-----------+----+------------+\n",
      "|    Station|Measurement|Year|Station_Name|\n",
      "+-----------+-----------+----+------------+\n",
      "|USC00303955|   SNOW_s20|1992|     HONEOYE|\n",
      "|USC00303955|   SNOW_s20|1993|     HONEOYE|\n",
      "|USC00303955|   SNOW_s20|1994|     HONEOYE|\n",
      "|USC00303955|   SNOW_s20|1995|     HONEOYE|\n",
      "+-----------+-----------+----+------------+\n",
      "only showing top 4 rows\n",
      "\n"
     ]
    }
   ],
   "source": [
    "jdf.select(['Station','Measurement','Year','Station_Name']).show(4)"
   ]
  },
  {
   "cell_type": "code",
   "execution_count": 28,
   "metadata": {},
   "outputs": [
    {
     "data": {
      "text/plain": [
       "168398"
      ]
     },
     "execution_count": 28,
     "metadata": {},
     "output_type": "execute_result"
    }
   ],
   "source": [
    "jdf.count()"
   ]
  },
  {
   "cell_type": "code",
   "execution_count": 29,
   "metadata": {
    "collapsed": true,
    "scrolled": true
   },
   "outputs": [],
   "source": [
    "sqlContext.registerDataFrameAsTable(jdf,'jdf')"
   ]
  },
  {
   "cell_type": "code",
   "execution_count": 30,
   "metadata": {
    "scrolled": true
   },
   "outputs": [
    {
     "name": "stdout",
     "output_type": "stream",
     "text": [
      "150\n",
      "+-----------+-----------+----+--------------------+------------------+--------------+---------------+------------------+-----+-------+----------+--------+---------+---------+------------+\n",
      "|    Station|Measurement|Year|              Values|        dist_coast|      latitude|      longitude|         elevation|state|   name|Dist_coast|Latitude|Longitude|Elevation|Station_Name|\n",
      "+-----------+-----------+----+--------------------+------------------+--------------+---------------+------------------+-----+-------+----------+--------+---------+---------+------------+\n",
      "|USC00301010|       PRCP|1871|[00 42 00 00 00 4...|437.75201416015625|42.88330078125|-78.88330078125|-999.9000244140625|   NY|BUFFALO|   437.752| 42.8833| -78.8833|   -999.9|     BUFFALO|\n",
      "|USC00301010|       PRCP|1872|[40 4E 00 00 60 5...|437.75201416015625|42.88330078125|-78.88330078125|-999.9000244140625|   NY|BUFFALO|   437.752| 42.8833| -78.8833|   -999.9|     BUFFALO|\n",
      "|USC00301010|       PRCP|1873|[00 00 40 4E 00 4...|437.75201416015625|42.88330078125|-78.88330078125|-999.9000244140625|   NY|BUFFALO|   437.752| 42.8833| -78.8833|   -999.9|     BUFFALO|\n",
      "+-----------+-----------+----+--------------------+------------------+--------------+---------------+------------------+-----+-------+----------+--------+---------+---------+------------+\n",
      "only showing top 3 rows\n",
      "\n"
     ]
    }
   ],
   "source": [
    "# get all measurements for a particular year and a particular station\n",
    "measurement='PRCP'\n",
    "Query=\"\"\"\n",
    "SELECT *\n",
    "FROM jdf \n",
    "WHERE Measurement='%s'\n",
    "AND Station_Name='BUFFALO'\n",
    "ORDER BY YEAR\"\"\"%(measurement)\n",
    "df=sqlContext.sql(Query)\n",
    "print(df.count())\n",
    "df.show(3)"
   ]
  },
  {
   "cell_type": "code",
   "execution_count": 31,
   "metadata": {},
   "outputs": [
    {
     "data": {
      "text/plain": [
       "StructType(List(StructField(Station,StringType,true),StructField(Year,LongType,true),StructField(Values,BinaryType,true)))"
      ]
     },
     "execution_count": 31,
     "metadata": {},
     "output_type": "execute_result"
    }
   ],
   "source": [
    "df.select(['Station','Year','Values']).schema"
   ]
  },
  {
   "cell_type": "markdown",
   "metadata": {
    "slideshow": {
     "slide_type": "slide"
    }
   },
   "source": [
    "### Smoothing by convolving with gaussian window"
   ]
  },
  {
   "cell_type": "code",
   "execution_count": 33,
   "metadata": {
    "scrolled": false
   },
   "outputs": [
    {
     "name": "stderr",
     "output_type": "stream",
     "text": [
      "/usr/lib/python3.5/importlib/_bootstrap.py:222: RuntimeWarning: numpy.dtype size changed, may indicate binary incompatibility. Expected 96, got 88\n",
      "  return f(*args, **kwds)\n",
      "/usr/lib/python3.5/importlib/_bootstrap.py:222: RuntimeWarning: numpy.dtype size changed, may indicate binary incompatibility. Expected 96, got 88\n",
      "  return f(*args, **kwds)\n"
     ]
    }
   ],
   "source": [
    "from astropy.convolution import convolve\n",
    "from scipy import signal\n",
    "#using astrophy.convolution.convolve and not scipy.signal.convolve because the first can handle nans.\n",
    "\n",
    "orig_pdf=df.toPandas()\n",
    "orig_pdf.head()\n",
    "\n",
    "def Smoother(orig_pdf,order=101,std=20):\n",
    "    window = signal.gaussian(order, std=std)\n",
    "    window/=sum(window)\n",
    "\n",
    "    L=list(orig_pdf['Values'])\n",
    "\n",
    "    orig=np.stack([unpackArray(V,np.float16) for V in L])\n",
    "    orig_shape=orig.shape\n",
    "    orig=orig.flatten()\n",
    "\n",
    "    smoothed = convolve(orig, window)\n",
    "    smoothed=np.reshape(smoothed,orig_shape)\n",
    "\n",
    "    #create a new pandas dataframe\n",
    "    smoothed_pdf=orig_pdf.copy()   # make a copy\n",
    "\n",
    "    L=[packArray(smoothed[i,:]) for i in range(smoothed.shape[0])]\n",
    "    smoothed_pdf['Values']=L\n",
    "\n",
    "    smoothed_pdf.loc[0,'Measurement']\n",
    "\n",
    "    new_name = 'smooth_'+smoothed_pdf.loc[0,'Measurement']\n",
    "    smoothed_pdf['Measurement']=new_name\n",
    "    return smoothed_pdf"
   ]
  },
  {
   "cell_type": "code",
   "execution_count": 34,
   "metadata": {},
   "outputs": [
    {
     "data": {
      "text/html": [
       "<div>\n",
       "<style scoped>\n",
       "    .dataframe tbody tr th:only-of-type {\n",
       "        vertical-align: middle;\n",
       "    }\n",
       "\n",
       "    .dataframe tbody tr th {\n",
       "        vertical-align: top;\n",
       "    }\n",
       "\n",
       "    .dataframe thead th {\n",
       "        text-align: right;\n",
       "    }\n",
       "</style>\n",
       "<table border=\"1\" class=\"dataframe\">\n",
       "  <thead>\n",
       "    <tr style=\"text-align: right;\">\n",
       "      <th></th>\n",
       "      <th>Station</th>\n",
       "      <th>Measurement</th>\n",
       "      <th>Year</th>\n",
       "      <th>Values</th>\n",
       "      <th>dist_coast</th>\n",
       "      <th>latitude</th>\n",
       "      <th>longitude</th>\n",
       "      <th>elevation</th>\n",
       "      <th>state</th>\n",
       "      <th>name</th>\n",
       "      <th>Dist_coast</th>\n",
       "      <th>Latitude</th>\n",
       "      <th>Longitude</th>\n",
       "      <th>Elevation</th>\n",
       "      <th>Station_Name</th>\n",
       "    </tr>\n",
       "  </thead>\n",
       "  <tbody>\n",
       "    <tr>\n",
       "      <th>0</th>\n",
       "      <td>USC00301010</td>\n",
       "      <td>smooth_PRCP</td>\n",
       "      <td>1871</td>\n",
       "      <td>[150, 68, 209, 68, 13, 69, 73, 69, 135, 69, 19...</td>\n",
       "      <td>437.752014</td>\n",
       "      <td>42.883301</td>\n",
       "      <td>-78.883301</td>\n",
       "      <td>-999.900024</td>\n",
       "      <td>NY</td>\n",
       "      <td>BUFFALO</td>\n",
       "      <td>437.752014</td>\n",
       "      <td>42.883301</td>\n",
       "      <td>-78.883301</td>\n",
       "      <td>-999.900024</td>\n",
       "      <td>BUFFALO</td>\n",
       "    </tr>\n",
       "    <tr>\n",
       "      <th>1</th>\n",
       "      <td>USC00301010</td>\n",
       "      <td>smooth_PRCP</td>\n",
       "      <td>1872</td>\n",
       "      <td>[199, 76, 201, 76, 204, 76, 183, 76, 182, 76, ...</td>\n",
       "      <td>437.752014</td>\n",
       "      <td>42.883301</td>\n",
       "      <td>-78.883301</td>\n",
       "      <td>-999.900024</td>\n",
       "      <td>NY</td>\n",
       "      <td>BUFFALO</td>\n",
       "      <td>437.752014</td>\n",
       "      <td>42.883301</td>\n",
       "      <td>-78.883301</td>\n",
       "      <td>-999.900024</td>\n",
       "      <td>BUFFALO</td>\n",
       "    </tr>\n",
       "    <tr>\n",
       "      <th>2</th>\n",
       "      <td>USC00301010</td>\n",
       "      <td>smooth_PRCP</td>\n",
       "      <td>1873</td>\n",
       "      <td>[222, 75, 207, 75, 194, 75, 180, 75, 150, 75, ...</td>\n",
       "      <td>437.752014</td>\n",
       "      <td>42.883301</td>\n",
       "      <td>-78.883301</td>\n",
       "      <td>-999.900024</td>\n",
       "      <td>NY</td>\n",
       "      <td>BUFFALO</td>\n",
       "      <td>437.752014</td>\n",
       "      <td>42.883301</td>\n",
       "      <td>-78.883301</td>\n",
       "      <td>-999.900024</td>\n",
       "      <td>BUFFALO</td>\n",
       "    </tr>\n",
       "  </tbody>\n",
       "</table>\n",
       "</div>"
      ],
      "text/plain": [
       "       Station  Measurement  Year  \\\n",
       "0  USC00301010  smooth_PRCP  1871   \n",
       "1  USC00301010  smooth_PRCP  1872   \n",
       "2  USC00301010  smooth_PRCP  1873   \n",
       "\n",
       "                                              Values  dist_coast   latitude  \\\n",
       "0  [150, 68, 209, 68, 13, 69, 73, 69, 135, 69, 19...  437.752014  42.883301   \n",
       "1  [199, 76, 201, 76, 204, 76, 183, 76, 182, 76, ...  437.752014  42.883301   \n",
       "2  [222, 75, 207, 75, 194, 75, 180, 75, 150, 75, ...  437.752014  42.883301   \n",
       "\n",
       "   longitude   elevation state     name  Dist_coast   Latitude  Longitude  \\\n",
       "0 -78.883301 -999.900024    NY  BUFFALO  437.752014  42.883301 -78.883301   \n",
       "1 -78.883301 -999.900024    NY  BUFFALO  437.752014  42.883301 -78.883301   \n",
       "2 -78.883301 -999.900024    NY  BUFFALO  437.752014  42.883301 -78.883301   \n",
       "\n",
       "    Elevation Station_Name  \n",
       "0 -999.900024      BUFFALO  \n",
       "1 -999.900024      BUFFALO  \n",
       "2 -999.900024      BUFFALO  "
      ]
     },
     "execution_count": 34,
     "metadata": {},
     "output_type": "execute_result"
    }
   ],
   "source": [
    "smoothed_pdf=Smoother(orig_pdf)\n",
    "smoothed_pdf.head(3)"
   ]
  },
  {
   "cell_type": "code",
   "execution_count": 35,
   "metadata": {},
   "outputs": [
    {
     "data": {
      "text/html": [
       "<div>\n",
       "<style scoped>\n",
       "    .dataframe tbody tr th:only-of-type {\n",
       "        vertical-align: middle;\n",
       "    }\n",
       "\n",
       "    .dataframe tbody tr th {\n",
       "        vertical-align: top;\n",
       "    }\n",
       "\n",
       "    .dataframe thead th {\n",
       "        text-align: right;\n",
       "    }\n",
       "</style>\n",
       "<table border=\"1\" class=\"dataframe\">\n",
       "  <thead>\n",
       "    <tr style=\"text-align: right;\">\n",
       "      <th></th>\n",
       "      <th>Station</th>\n",
       "      <th>count</th>\n",
       "    </tr>\n",
       "  </thead>\n",
       "  <tbody>\n",
       "    <tr>\n",
       "      <th>339</th>\n",
       "      <td>USC00306774</td>\n",
       "      <td>121</td>\n",
       "    </tr>\n",
       "    <tr>\n",
       "      <th>340</th>\n",
       "      <td>USC00304912</td>\n",
       "      <td>123</td>\n",
       "    </tr>\n",
       "    <tr>\n",
       "      <th>341</th>\n",
       "      <td>USC00307633</td>\n",
       "      <td>125</td>\n",
       "    </tr>\n",
       "    <tr>\n",
       "      <th>342</th>\n",
       "      <td>USW00094728</td>\n",
       "      <td>138</td>\n",
       "    </tr>\n",
       "  </tbody>\n",
       "</table>\n",
       "</div>"
      ],
      "text/plain": [
       "         Station  count\n",
       "339  USC00306774    121\n",
       "340  USC00304912    123\n",
       "341  USC00307633    125\n",
       "342  USW00094728    138"
      ]
     },
     "execution_count": 35,
     "metadata": {},
     "output_type": "execute_result"
    }
   ],
   "source": [
    "Query=\"\"\"\n",
    "SELECT Station,count(Year) as count\n",
    "FROM jdf \n",
    "WHERE Measurement='%s'\n",
    "GROUP BY Station\n",
    "ORDER BY count\n",
    "\"\"\"%(measurement)\n",
    "stat_pdf=sqlContext.sql(Query).toPandas()\n",
    "stat_pdf.tail(4)"
   ]
  },
  {
   "cell_type": "code",
   "execution_count": 36,
   "metadata": {},
   "outputs": [
    {
     "data": {
      "text/plain": [
       "['USW00094728', 'USC00307633', 'USC00304912', 'USC00306774']"
      ]
     },
     "execution_count": 36,
     "metadata": {},
     "output_type": "execute_result"
    }
   ],
   "source": [
    "stations=list(stat_pdf['Station'])\n",
    "stations=stations[-1:0:-1]\n",
    "stations[:4]"
   ]
  },
  {
   "cell_type": "code",
   "execution_count": 38,
   "metadata": {
    "scrolled": true
   },
   "outputs": [
    {
     "data": {
      "text/plain": [
       "'2.3.1'"
      ]
     },
     "execution_count": 38,
     "metadata": {},
     "output_type": "execute_result"
    }
   ],
   "source": [
    "import pyspark.sql.functions as sqlf\n",
    "import pyspark\n",
    "import pyarrow\n",
    "pyspark.__version__"
   ]
  },
  {
   "cell_type": "code",
   "execution_count": 39,
   "metadata": {
    "scrolled": true
   },
   "outputs": [
    {
     "data": {
      "text/html": [
       "<div>\n",
       "<style scoped>\n",
       "    .dataframe tbody tr th:only-of-type {\n",
       "        vertical-align: middle;\n",
       "    }\n",
       "\n",
       "    .dataframe tbody tr th {\n",
       "        vertical-align: top;\n",
       "    }\n",
       "\n",
       "    .dataframe thead th {\n",
       "        text-align: right;\n",
       "    }\n",
       "</style>\n",
       "<table border=\"1\" class=\"dataframe\">\n",
       "  <thead>\n",
       "    <tr style=\"text-align: right;\">\n",
       "      <th></th>\n",
       "      <th>Station</th>\n",
       "      <th>Measurement</th>\n",
       "      <th>Year</th>\n",
       "      <th>Values</th>\n",
       "      <th>dist_coast</th>\n",
       "      <th>latitude</th>\n",
       "      <th>longitude</th>\n",
       "      <th>elevation</th>\n",
       "      <th>state</th>\n",
       "      <th>name</th>\n",
       "      <th>Dist_coast</th>\n",
       "      <th>Latitude</th>\n",
       "      <th>Longitude</th>\n",
       "      <th>Elevation</th>\n",
       "      <th>Station_Name</th>\n",
       "    </tr>\n",
       "  </thead>\n",
       "  <tbody>\n",
       "    <tr>\n",
       "      <th>0</th>\n",
       "      <td>USC00301010</td>\n",
       "      <td>smooth_PRCP</td>\n",
       "      <td>1871</td>\n",
       "      <td>[150, 68, 209, 68, 13, 69, 73, 69, 135, 69, 19...</td>\n",
       "      <td>437.752014</td>\n",
       "      <td>42.883301</td>\n",
       "      <td>-78.883301</td>\n",
       "      <td>-999.900024</td>\n",
       "      <td>NY</td>\n",
       "      <td>BUFFALO</td>\n",
       "      <td>437.752014</td>\n",
       "      <td>42.883301</td>\n",
       "      <td>-78.883301</td>\n",
       "      <td>-999.900024</td>\n",
       "      <td>BUFFALO</td>\n",
       "    </tr>\n",
       "    <tr>\n",
       "      <th>1</th>\n",
       "      <td>USC00301010</td>\n",
       "      <td>smooth_PRCP</td>\n",
       "      <td>1872</td>\n",
       "      <td>[199, 76, 201, 76, 204, 76, 183, 76, 182, 76, ...</td>\n",
       "      <td>437.752014</td>\n",
       "      <td>42.883301</td>\n",
       "      <td>-78.883301</td>\n",
       "      <td>-999.900024</td>\n",
       "      <td>NY</td>\n",
       "      <td>BUFFALO</td>\n",
       "      <td>437.752014</td>\n",
       "      <td>42.883301</td>\n",
       "      <td>-78.883301</td>\n",
       "      <td>-999.900024</td>\n",
       "      <td>BUFFALO</td>\n",
       "    </tr>\n",
       "    <tr>\n",
       "      <th>2</th>\n",
       "      <td>USC00301010</td>\n",
       "      <td>smooth_PRCP</td>\n",
       "      <td>1873</td>\n",
       "      <td>[222, 75, 207, 75, 194, 75, 180, 75, 150, 75, ...</td>\n",
       "      <td>437.752014</td>\n",
       "      <td>42.883301</td>\n",
       "      <td>-78.883301</td>\n",
       "      <td>-999.900024</td>\n",
       "      <td>NY</td>\n",
       "      <td>BUFFALO</td>\n",
       "      <td>437.752014</td>\n",
       "      <td>42.883301</td>\n",
       "      <td>-78.883301</td>\n",
       "      <td>-999.900024</td>\n",
       "      <td>BUFFALO</td>\n",
       "    </tr>\n",
       "  </tbody>\n",
       "</table>\n",
       "</div>"
      ],
      "text/plain": [
       "       Station  Measurement  Year  \\\n",
       "0  USC00301010  smooth_PRCP  1871   \n",
       "1  USC00301010  smooth_PRCP  1872   \n",
       "2  USC00301010  smooth_PRCP  1873   \n",
       "\n",
       "                                              Values  dist_coast   latitude  \\\n",
       "0  [150, 68, 209, 68, 13, 69, 73, 69, 135, 69, 19...  437.752014  42.883301   \n",
       "1  [199, 76, 201, 76, 204, 76, 183, 76, 182, 76, ...  437.752014  42.883301   \n",
       "2  [222, 75, 207, 75, 194, 75, 180, 75, 150, 75, ...  437.752014  42.883301   \n",
       "\n",
       "   longitude   elevation state     name  Dist_coast   Latitude  Longitude  \\\n",
       "0 -78.883301 -999.900024    NY  BUFFALO  437.752014  42.883301 -78.883301   \n",
       "1 -78.883301 -999.900024    NY  BUFFALO  437.752014  42.883301 -78.883301   \n",
       "2 -78.883301 -999.900024    NY  BUFFALO  437.752014  42.883301 -78.883301   \n",
       "\n",
       "    Elevation Station_Name  \n",
       "0 -999.900024      BUFFALO  \n",
       "1 -999.900024      BUFFALO  \n",
       "2 -999.900024      BUFFALO  "
      ]
     },
     "execution_count": 39,
     "metadata": {},
     "output_type": "execute_result"
    }
   ],
   "source": [
    "ndf=Smoother(orig_pdf)\n",
    "ndf.head(3)"
   ]
  },
  {
   "cell_type": "code",
   "execution_count": 40,
   "metadata": {
    "scrolled": false
   },
   "outputs": [
    {
     "name": "stdout",
     "output_type": "stream",
     "text": [
      "Station=USW00094728, rows=138, prep= 2.97,compute= 0.04,cleanup=0.7571605.2,total=3.7617215.2\n",
      "Station=USC00307633, rows=125, prep= 2.16,compute= 0.02,cleanup=0.0279115.2,total=2.2108955.2\n",
      "Station=USC00304912, rows=123, prep= 1.84,compute= 0.03,cleanup=0.0460985.2,total=1.9115095.2\n",
      "Station=USC00306774, rows=121, prep= 1.71,compute= 0.02,cleanup=0.0285075.2,total=1.7595045.2\n",
      "Station=USC00304174, rows=121, prep= 1.51,compute= 0.02,cleanup=0.0292615.2,total=1.5548735.2\n",
      "Station=USC00301752, rows=121, prep= 1.64,compute= 0.02,cleanup=0.0299655.2,total=1.6890575.2\n",
      "Station=USC00302610, rows=121, prep= 1.69,compute= 0.02,cleanup=0.0268645.2,total=1.7365575.2\n",
      "Station=USC00306164, rows=121, prep= 1.46,compute= 0.02,cleanup=0.0259125.2,total=1.5073795.2\n",
      "Station=USC00309000, rows=120, prep= 1.43,compute= 0.02,cleanup=0.0306955.2,total=1.4844845.2\n",
      "Station=USC00300183, rows=120, prep= 1.45,compute= 0.02,cleanup=0.0275005.2,total=1.5004775.2\n",
      "Station=USC00309292, rows=118, prep= 1.37,compute= 0.02,cleanup=0.0282805.2,total=1.4176635.2\n",
      "Station=USC00305426, rows=118, prep= 1.32,compute= 0.02,cleanup=0.0265235.2,total=1.3615995.2\n",
      "Station=USC00304791, rows=116, prep= 1.55,compute= 0.02,cleanup=0.0316445.2,total=1.6005485.2\n",
      "Station=USC00300023, rows=115, prep= 1.28,compute= 0.02,cleanup=0.0274725.2,total=1.3308545.2\n",
      "Station=USC00303773, rows=115, prep= 1.33,compute= 0.02,cleanup=0.0332125.2,total=1.3843805.2\n",
      "Station=USC00304102, rows=115, prep= 1.41,compute= 0.03,cleanup=0.0468395.2,total=1.4831795.2\n",
      "Station=USC00300343, rows=115, prep= 1.56,compute= 0.04,cleanup=0.0423495.2,total=1.6427025.2\n",
      "Station=USC00303319, rows=114, prep= 1.39,compute= 0.02,cleanup=0.0261025.2,total=1.4337105.2\n",
      "Station=USC00300085, rows=113, prep= 1.30,compute= 0.02,cleanup=0.0266705.2,total=1.3465235.2\n",
      "Station=USC00301401, rows=110, prep= 1.29,compute= 0.02,cleanup=0.0253765.2,total=1.3323575.2\n",
      "Station=USC00306085, rows=108, prep= 1.28,compute= 0.02,cleanup=0.0265405.2,total=1.3236735.2\n",
      "Station=USC00304555, rows=108, prep= 1.42,compute= 0.02,cleanup=0.0260975.2,total=1.4656375.2\n",
      "Station=USC00301966, rows=107, prep= 1.57,compute= 0.02,cleanup=0.0269775.2,total=1.6135715.2\n",
      "Station=USC00307705, rows=107, prep= 1.43,compute= 0.02,cleanup=0.0493025.2,total=1.5040675.2\n",
      "Station=USC00304844, rows=107, prep= 1.97,compute= 0.04,cleanup=0.0431195.2,total=2.0507055.2\n",
      "Station=USC00301799, rows=106, prep= 1.74,compute= 0.02,cleanup=0.0406795.2,total=1.8006205.2\n",
      "Station=USC00308631, rows=104, prep= 1.24,compute= 0.02,cleanup=0.0285505.2,total=1.2895045.2\n",
      "Station=USC00300443, rows=103, prep= 1.23,compute= 0.02,cleanup=0.0281495.2,total=1.2698545.2\n",
      "Station=USC00300321, rows=103, prep= 1.34,compute= 0.02,cleanup=0.0251195.2,total=1.3764745.2\n",
      "Station=USW00014743, rows=102, prep= 1.23,compute= 0.02,cleanup=0.0253475.2,total=1.2756555.2\n",
      "Station=USC00308944, rows=101, prep= 1.37,compute= 0.02,cleanup=0.0265415.2,total=1.4100905.2\n",
      "Station=USC00306196, rows=101, prep= 1.51,compute= 0.02,cleanup=0.0276505.2,total=1.5573155.2\n",
      "Station=USC00308578, rows=101, prep= 1.21,compute= 0.02,cleanup=0.0255845.2,total=1.2564805.2\n",
      "Station=USC00303033, rows=99, prep= 1.42,compute= 0.02,cleanup=0.0319465.2,total=1.4739955.2\n",
      "Station=USC00300379, rows=98, prep= 1.24,compute= 0.02,cleanup=0.0276635.2,total=1.2793685.2\n",
      "Station=USC00305512, rows=98, prep= 1.24,compute= 0.02,cleanup=0.0280235.2,total=1.2791165.2\n",
      "Station=USC00303025, rows=97, prep= 1.18,compute= 0.02,cleanup=0.0261155.2,total=1.2198885.2\n",
      "Station=USC00301974, rows=96, prep= 1.18,compute= 0.02,cleanup=0.0248135.2,total=1.2181095.2\n",
      "Station=USC00301207, rows=94, prep= 1.20,compute= 0.01,cleanup=0.0240765.2,total=1.2345735.2\n",
      "Station=USC00306062, rows=93, prep= 1.21,compute= 0.01,cleanup=0.0259615.2,total=1.2527695.2\n",
      "Station=USC00300937, rows=92, prep= 1.18,compute= 0.03,cleanup=0.0380065.2,total=1.2488175.2\n",
      "Station=USC00303851, rows=90, prep= 1.25,compute= 0.01,cleanup=0.0252695.2,total=1.2876925.2\n",
      "Station=USC00301787, rows=90, prep= 1.31,compute= 0.01,cleanup=0.0260745.2,total=1.3523285.2\n",
      "Station=USC00309189, rows=89, prep= 1.20,compute= 0.01,cleanup=0.0259785.2,total=1.2354115.2\n",
      "Station=USC00308248, rows=89, prep= 1.19,compute= 0.01,cleanup=0.0296435.2,total=1.2324965.2\n",
      "Station=USC00300093, rows=89, prep= 1.23,compute= 0.01,cleanup=0.0257555.2,total=1.2724165.2\n",
      "Station=USC00307497, rows=88, prep= 1.23,compute= 0.02,cleanup=0.0254415.2,total=1.2665635.2\n",
      "Station=USC00304731, rows=88, prep= 1.19,compute= 0.02,cleanup=0.0246625.2,total=1.2370195.2\n",
      "Station=USW00014768, rows=88, prep= 1.18,compute= 0.01,cleanup=0.0281275.2,total=1.2217175.2\n",
      "Station=USC00306314, rows=87, prep= 1.21,compute= 0.02,cleanup=0.0267955.2,total=1.2611025.2\n",
      "Station=USC00307842, rows=85, prep= 1.33,compute= 0.01,cleanup=0.0264855.2,total=1.3744305.2\n",
      "Station=USC00300889, rows=84, prep= 1.20,compute= 0.02,cleanup=0.0262095.2,total=1.2441805.2\n",
      "Station=USC00300360, rows=84, prep= 1.18,compute= 0.02,cleanup=0.0270545.2,total=1.2310025.2\n",
      "Station=USC00300668, rows=83, prep= 1.18,compute= 0.01,cleanup=0.0256405.2,total=1.2168515.2\n",
      "Station=USC00300870, rows=82, prep= 1.18,compute= 0.01,cleanup=0.0270015.2,total=1.2169475.2\n",
      "Station=USC00306745, rows=81, prep= 1.19,compute= 0.02,cleanup=0.0253185.2,total=1.2320125.2\n",
      "Station=USC00306510, rows=81, prep= 1.20,compute= 0.01,cleanup=0.0449455.2,total=1.2629525.2\n",
      "Station=USC00301580, rows=81, prep= 1.19,compute= 0.01,cleanup=0.0244865.2,total=1.2222815.2\n",
      "Station=USC00304836, rows=81, prep= 1.19,compute= 0.01,cleanup=0.0250865.2,total=1.2262255.2\n",
      "Station=USC00309389, rows=81, prep= 1.51,compute= 0.01,cleanup=0.0259545.2,total=1.5528175.2\n",
      "Station=USC00306184, rows=81, prep= 1.29,compute= 0.01,cleanup=0.0251735.2,total=1.3242645.2\n",
      "Station=USC00302036, rows=80, prep= 1.16,compute= 0.01,cleanup=0.0266265.2,total=1.2040245.2\n",
      "Station=USC00300511, rows=79, prep= 1.17,compute= 0.01,cleanup=0.0266505.2,total=1.2061495.2\n",
      "Station=USC00307413, rows=79, prep= 1.17,compute= 0.01,cleanup=0.0263005.2,total=1.2043115.2\n",
      "Station=USC00302079, rows=78, prep= 1.19,compute= 0.01,cleanup=0.0253895.2,total=1.2288245.2\n",
      "Station=USC00303346, rows=78, prep= 1.18,compute= 0.01,cleanup=0.0259455.2,total=1.2191825.2\n",
      "Station=USC00304647, rows=78, prep= 1.16,compute= 0.01,cleanup=0.0256075.2,total=1.1952515.2\n",
      "Station=USC00301664, rows=77, prep= 1.29,compute= 0.01,cleanup=0.0281925.2,total=1.3317575.2\n",
      "Station=USC00305310, rows=77, prep= 1.21,compute= 0.01,cleanup=0.0259085.2,total=1.2529545.2\n",
      "Station=USC00301413, rows=77, prep= 1.29,compute= 0.01,cleanup=0.0262595.2,total=1.3317905.2\n",
      "Station=USW00014771, rows=76, prep= 1.15,compute= 0.01,cleanup=0.0252705.2,total=1.1912745.2\n",
      "Station=USW00014735, rows=76, prep= 1.15,compute= 0.01,cleanup=0.0301805.2,total=1.1944835.2\n",
      "Station=USW00014733, rows=76, prep= 1.17,compute= 0.01,cleanup=0.0289095.2,total=1.2146085.2\n",
      "Station=USC00301949, rows=76, prep= 1.17,compute= 0.01,cleanup=0.0269175.2,total=1.2146295.2\n",
      "Station=USC00306538, rows=75, prep= 1.17,compute= 0.01,cleanup=0.0258565.2,total=1.2125295.2\n",
      "Station=USC00304796, rows=75, prep= 1.16,compute= 0.01,cleanup=0.0250295.2,total=1.1964615.2\n",
      "Station=USC00305597, rows=75, prep= 1.15,compute= 0.01,cleanup=0.0268745.2,total=1.1927095.2\n",
      "Station=USC00307134, rows=75, prep= 1.14,compute= 0.01,cleanup=0.0285285.2,total=1.1846305.2\n",
      "Station=USC00308104, rows=75, prep= 1.27,compute= 0.01,cleanup=0.0270855.2,total=1.3056725.2\n",
      "Station=USC00305377, rows=74, prep= 1.16,compute= 0.01,cleanup=0.0267595.2,total=1.2002175.2\n",
      "Station=USC00301010, rows=74, prep= 1.15,compute= 0.01,cleanup=0.0253895.2,total=1.1883005.2\n",
      "Station=USC00301387, rows=74, prep= 1.16,compute= 0.01,cleanup=0.0270935.2,total=1.1953455.2\n",
      "Station=USC00302554, rows=73, prep= 1.16,compute= 0.01,cleanup=0.0263765.2,total=1.2022675.2\n",
      "Station=USC00300681, rows=73, prep= 1.17,compute= 0.01,cleanup=0.0289955.2,total=1.2062975.2\n",
      "Station=USW00014717, rows=73, prep= 1.15,compute= 0.01,cleanup=0.0288965.2,total=1.1883135.2\n",
      "Station=USC00300063, rows=72, prep= 1.16,compute= 0.01,cleanup=0.0266015.2,total=1.1958065.2\n",
      "Station=USC00305925, rows=72, prep= 1.19,compute= 0.01,cleanup=0.0266825.2,total=1.2276755.2\n",
      "Station=USC00304808, rows=72, prep= 1.16,compute= 0.01,cleanup=0.0249715.2,total=1.1919995.2\n"
     ]
    },
    {
     "name": "stdout",
     "output_type": "stream",
     "text": [
      "Station=USC00301152, rows=72, prep= 1.21,compute= 0.01,cleanup=0.0266475.2,total=1.2516645.2\n",
      "Station=USC00303889, rows=72, prep= 1.18,compute= 0.01,cleanup=0.0280945.2,total=1.2229395.2\n",
      "Station=USC00300766, rows=71, prep= 1.16,compute= 0.01,cleanup=0.0324805.2,total=1.2007485.2\n",
      "Station=USC00306623, rows=70, prep= 2.20,compute= 0.01,cleanup=0.0335165.2,total=2.2478975.2\n",
      "Station=USW00014750, rows=70, prep= 1.23,compute= 0.01,cleanup=0.0281055.2,total=1.2734275.2\n",
      "Station=USW00014732, rows=70, prep= 1.17,compute= 0.01,cleanup=0.0316195.2,total=1.2134705.2\n",
      "Station=USC00302574, rows=70, prep= 1.19,compute= 0.01,cleanup=0.0272875.2,total=1.2255385.2\n",
      "Station=USC00303284, rows=70, prep= 1.27,compute= 0.01,cleanup=0.0263875.2,total=1.3071865.2\n",
      "Station=USC00302129, rows=68, prep= 1.15,compute= 0.01,cleanup=0.0256285.2,total=1.1865095.2\n",
      "Station=USW00094745, rows=68, prep= 1.36,compute= 0.01,cleanup=0.0378135.2,total=1.4097705.2\n",
      "Station=USC00300047, rows=68, prep= 1.33,compute= 0.01,cleanup=0.0252765.2,total=1.3616405.2\n",
      "Station=USC00300220, rows=68, prep= 1.36,compute= 0.01,cleanup=0.0305825.2,total=1.4043815.2\n",
      "Station=USC00302582, rows=68, prep= 1.17,compute= 0.01,cleanup=0.0273495.2,total=1.2111715.2\n",
      "Station=USC00309516, rows=67, prep= 1.17,compute= 0.01,cleanup=0.0345685.2,total=1.2188185.2\n",
      "Station=USW00094725, rows=66, prep= 1.59,compute= 0.01,cleanup=0.0294605.2,total=1.6315075.2\n",
      "Station=USC00300055, rows=66, prep= 1.17,compute= 0.01,cleanup=0.0344525.2,total=1.2176075.2\n",
      "Station=USC00303050, rows=66, prep= 1.20,compute= 0.01,cleanup=0.0266065.2,total=1.2413875.2\n",
      "Station=USW00014757, rows=65, prep= 1.25,compute= 0.01,cleanup=0.0273315.2,total=1.2928775.2\n",
      "Station=USC00301708, rows=65, prep= 1.30,compute= 0.01,cleanup=0.0421505.2,total=1.3551115.2\n",
      "Station=USC00300785, rows=65, prep= 2.20,compute= 0.01,cleanup=0.0268825.2,total=2.2345015.2\n",
      "Station=USC00303259, rows=65, prep= 1.25,compute= 0.01,cleanup=0.0284175.2,total=1.2929865.2\n",
      "Station=USW00094790, rows=65, prep= 1.22,compute= 0.01,cleanup=0.0285415.2,total=1.2545955.2\n",
      "Station=USC00307799, rows=65, prep= 1.28,compute= 0.01,cleanup=0.0348685.2,total=1.3244045.2\n",
      "Station=USC00301436, rows=64, prep= 3.17,compute= 0.01,cleanup=0.0272615.2,total=3.2033575.2\n",
      "Station=USC00306659, rows=64, prep= 1.16,compute= 0.01,cleanup=0.0272995.2,total=1.1969995.2\n",
      "Station=USC00305334, rows=63, prep= 1.16,compute= 0.01,cleanup=0.0268185.2,total=1.1963625.2\n",
      "Station=USW00004725, rows=63, prep= 1.15,compute= 0.01,cleanup=0.0282285.2,total=1.1918495.2\n",
      "Station=USC00306224, rows=63, prep= 1.15,compute= 0.01,cleanup=0.0265205.2,total=1.1856635.2\n",
      "Station=USC00308962, rows=62, prep= 1.26,compute= 0.01,cleanup=0.0286075.2,total=1.3030165.2\n",
      "Station=USC00303983, rows=62, prep= 1.14,compute= 0.01,cleanup=0.0325855.2,total=1.1789715.2\n",
      "Station=USC00306441, rows=61, prep= 1.13,compute= 0.01,cleanup=0.0298465.2,total=1.1704335.2\n",
      "Station=USC00300448, rows=61, prep= 1.14,compute= 0.01,cleanup=0.0273335.2,total=1.1802795.2\n",
      "Station=USC00301110, rows=60, prep= 1.14,compute= 0.01,cleanup=0.0264405.2,total=1.1794645.2\n",
      "Station=USC00308600, rows=59, prep= 1.13,compute= 0.01,cleanup=0.0309485.2,total=1.1724925.2\n",
      "Station=USC00305796, rows=59, prep= 1.15,compute= 0.01,cleanup=0.0278265.2,total=1.1828565.2\n",
      "Station=USC00300331, rows=58, prep= 1.14,compute= 0.01,cleanup=0.0283135.2,total=1.1749815.2\n",
      "Station=USC00303177, rows=58, prep= 1.13,compute= 0.01,cleanup=0.0289835.2,total=1.1748675.2\n",
      "Station=USC00308949, rows=58, prep= 1.14,compute= 0.01,cleanup=0.0272875.2,total=1.1776675.2\n",
      "Station=USC00307317, rows=58, prep= 1.14,compute= 0.01,cleanup=0.0280755.2,total=1.1761165.2\n",
      "Station=USW00094794, rows=58, prep= 1.16,compute= 0.01,cleanup=0.0274685.2,total=1.1939215.2\n",
      "Station=USW00094789, rows=58, prep= 1.13,compute= 0.01,cleanup=0.0274095.2,total=1.1670725.2\n",
      "Station=USC00309072, rows=58, prep= 1.27,compute= 0.01,cleanup=0.0283075.2,total=1.3047695.2\n",
      "Station=USC00307484, rows=58, prep= 1.13,compute= 0.01,cleanup=0.0280545.2,total=1.1699765.2\n",
      "Station=USC00303102, rows=57, prep= 1.14,compute= 0.01,cleanup=0.0336825.2,total=1.1854685.2\n",
      "Station=USC00304206, rows=56, prep= 2.61,compute= 0.01,cleanup=4.0664185.2,total=6.6849075.2\n",
      "Station=USC00304025, rows=56, prep= 5.94,compute= 0.02,cleanup=0.0569545.2,total=6.0147325.2\n",
      "Station=USC00307405, rows=56, prep= 1.76,compute= 0.01,cleanup=0.0328735.2,total=1.8038885.2\n",
      "Station=USC00303289, rows=56, prep= 1.29,compute= 0.01,cleanup=0.0282755.2,total=1.3245985.2\n",
      "Station=USC00303360, rows=55, prep= 1.40,compute= 0.02,cleanup=0.0414865.2,total=1.4615255.2\n",
      "Station=USC00306941, rows=55, prep= 6.01,compute= 0.01,cleanup=0.0263135.2,total=6.0487245.2\n",
      "Station=USC00308058, rows=55, prep= 1.13,compute= 0.01,cleanup=0.0307815.2,total=1.1675145.2\n",
      "Station=USC00305714, rows=55, prep= 1.19,compute= 0.01,cleanup=0.0336325.2,total=1.2347555.2\n",
      "Station=USC00309533, rows=54, prep= 1.14,compute= 0.01,cleanup=0.0265775.2,total=1.1767785.2\n",
      "Station=USC00303087, rows=53, prep= 1.14,compute= 0.01,cleanup=0.0285505.2,total=1.1747465.2\n",
      "Station=USC00301144, rows=53, prep= 1.14,compute= 0.01,cleanup=0.0274745.2,total=1.1744485.2\n",
      "Station=USC00303354, rows=53, prep= 1.15,compute= 0.01,cleanup=0.0280505.2,total=1.1895245.2\n",
      "Station=USC00303452, rows=53, prep= 3.70,compute= 0.01,cleanup=0.0280805.2,total=3.7409185.2\n",
      "Station=USC00300641, rows=52, prep= 1.14,compute= 0.01,cleanup=0.0339115.2,total=1.1813605.2\n",
      "Station=USC00308088, rows=52, prep= 1.27,compute= 0.01,cleanup=0.0343315.2,total=1.3140565.2\n",
      "Station=USC00306817, rows=52, prep= 1.52,compute= 0.01,cleanup=0.0340925.2,total=1.5650125.2\n",
      "Station=USC00302060, rows=51, prep= 1.35,compute= 0.01,cleanup=0.0273745.2,total=1.3877945.2\n",
      "Station=USC00307210, rows=51, prep= 2.26,compute= 0.01,cleanup=0.0286535.2,total=2.2939695.2\n",
      "Station=USW00014798, rows=49, prep= 1.13,compute= 0.01,cleanup=0.0268725.2,total=1.1656045.2\n",
      "Station=USC00309670, rows=49, prep= 3.53,compute= 0.01,cleanup=0.0270535.2,total=3.5676675.2\n",
      "Station=USC00309047, rows=48, prep= 1.15,compute= 0.01,cleanup=0.0284235.2,total=1.1886695.2\n",
      "Station=USW00004782, rows=48, prep= 1.14,compute= 0.01,cleanup=0.0268375.2,total=1.1700835.2\n",
      "Station=USC00307115, rows=47, prep= 1.32,compute= 0.01,cleanup=0.0295835.2,total=1.3585915.2\n",
      "Station=USC00308322, rows=46, prep= 1.46,compute= 0.01,cleanup=0.0285415.2,total=1.4943335.2\n",
      "Station=USC00306464, rows=46, prep= 3.15,compute= 0.02,cleanup=0.0688355.2,total=3.2335055.2\n",
      "Station=USC00301623, rows=46, prep= 1.25,compute= 0.01,cleanup=0.0299185.2,total=1.2841735.2\n",
      "Station=USC00303916, rows=46, prep= 1.13,compute= 0.01,cleanup=0.0293895.2,total=1.1692755.2\n",
      "Station=USC00306839, rows=46, prep= 1.13,compute= 0.01,cleanup=0.0268865.2,total=1.1645175.2\n",
      "Station=USC00305821, rows=45, prep= 1.27,compute= 0.01,cleanup=0.0450625.2,total=1.3303415.2\n",
      "Station=USC00303184, rows=45, prep= 1.45,compute= 0.01,cleanup=0.0416945.2,total=1.5024085.2\n",
      "Station=USC00304207, rows=43, prep= 1.35,compute= 0.01,cleanup=0.0291845.2,total=1.3842925.2\n",
      "Station=USC00308936, rows=42, prep= 1.13,compute= 0.01,cleanup=0.0294485.2,total=1.1667485.2\n",
      "Station=USC00307659, rows=42, prep= 1.15,compute= 0.01,cleanup=0.0273775.2,total=1.1809395.2\n",
      "Station=USC00308739, rows=42, prep= 1.13,compute= 0.01,cleanup=0.0290745.2,total=1.1698305.2\n",
      "Station=USC00308627, rows=41, prep= 1.44,compute= 0.01,cleanup=0.0298195.2,total=1.4755175.2\n",
      "Station=USC00300077, rows=41, prep= 1.14,compute= 0.01,cleanup=0.0284165.2,total=1.1733845.2\n",
      "Station=USC00303464, rows=41, prep= 1.19,compute= 0.01,cleanup=0.0266605.2,total=1.2195055.2\n",
      "Station=USC00308906, rows=41, prep= 1.16,compute= 0.01,cleanup=0.0289025.2,total=1.1928095.2\n",
      "Station=USC00304698, rows=41, prep= 1.12,compute= 0.01,cleanup=0.0277205.2,total=1.1520265.2\n",
      "Station=USC00306411, rows=41, prep= 1.14,compute= 0.01,cleanup=0.0276015.2,total=1.1790825.2\n",
      "Station=USC00308503, rows=40, prep= 1.11,compute= 0.01,cleanup=0.0307685.2,total=1.1451235.2\n",
      "Station=USC00301093, rows=40, prep= 1.15,compute= 0.01,cleanup=0.0295595.2,total=1.1840555.2\n",
      "Station=USC00308670, rows=39, prep= 1.16,compute= 0.01,cleanup=0.0279855.2,total=1.1925515.2\n",
      "Station=USC00307664, rows=38, prep= 1.44,compute= 0.01,cleanup=0.0388215.2,total=1.4951485.2\n",
      "Station=USC00307472, rows=38, prep= 1.44,compute= 0.01,cleanup=0.0428335.2,total=1.4890555.2\n"
     ]
    },
    {
     "name": "stdout",
     "output_type": "stream",
     "text": [
      "Station=USC00304715, rows=38, prep= 1.32,compute= 0.01,cleanup=0.0285955.2,total=1.3601615.2\n",
      "Station=USC00305711, rows=38, prep= 2.42,compute= 0.01,cleanup=0.0305065.2,total=2.4539845.2\n",
      "Station=USC00308902, rows=38, prep= 1.16,compute= 0.01,cleanup=0.0292465.2,total=1.1934285.2\n",
      "Station=USC00308746, rows=37, prep= 1.12,compute= 0.01,cleanup=0.0275565.2,total=1.1605295.2\n",
      "Station=USC00308152, rows=37, prep= 1.12,compute= 0.01,cleanup=0.0288445.2,total=1.1568745.2\n",
      "Station=USC00308080, rows=37, prep= 1.11,compute= 0.01,cleanup=0.0290915.2,total=1.1426035.2\n",
      "Station=USC00308946, rows=36, prep= 1.11,compute= 0.01,cleanup=0.0310215.2,total=1.1463205.2\n",
      "Station=USC00306957, rows=36, prep= 2.27,compute= 0.01,cleanup=0.0309035.2,total=2.3089625.2\n",
      "Station=USC00306356, rows=35, prep= 1.12,compute= 0.01,cleanup=0.0278665.2,total=1.1598725.2\n",
      "Station=USC00301095, rows=35, prep= 1.11,compute= 0.01,cleanup=0.0287125.2,total=1.1477185.2\n",
      "Station=USW00014748, rows=35, prep= 1.14,compute= 0.01,cleanup=0.0274715.2,total=1.1756005.2\n",
      "Station=USC00309100, rows=35, prep= 1.31,compute= 0.01,cleanup=0.0293845.2,total=1.3439725.2\n",
      "Station=USW00014719, rows=35, prep= 1.28,compute= 0.01,cleanup=0.0308935.2,total=1.3231585.2\n",
      "Station=USC00300159, rows=35, prep= 4.69,compute= 0.01,cleanup=0.0284305.2,total=4.7294305.2\n",
      "Station=USC00302169, rows=34, prep= 1.10,compute= 0.01,cleanup=0.0278805.2,total=1.1355245.2\n",
      "Station=USC00302760, rows=34, prep= 1.11,compute= 0.01,cleanup=0.0291185.2,total=1.1484635.2\n",
      "Station=USC00305804, rows=34, prep= 1.10,compute= 0.01,cleanup=0.0281085.2,total=1.1390345.2\n",
      "Station=USC00304849, rows=34, prep= 1.14,compute= 0.01,cleanup=0.0282595.2,total=1.1785295.2\n",
      "Station=USC00309055, rows=32, prep= 1.12,compute= 0.01,cleanup=0.0299105.2,total=1.1516845.2\n",
      "Station=USC00308910, rows=32, prep= 1.10,compute= 0.01,cleanup=0.0297345.2,total=1.1411355.2\n",
      "Station=USC00308733, rows=32, prep= 1.11,compute= 0.01,cleanup=0.0288185.2,total=1.1454285.2\n",
      "Station=USC00305291, rows=32, prep= 1.11,compute= 0.01,cleanup=0.0295485.2,total=1.1505285.2\n",
      "Station=USC00301593, rows=32, prep= 1.49,compute= 0.01,cleanup=0.0279645.2,total=1.5284215.2\n",
      "Station=USC00304996, rows=31, prep= 1.11,compute= 0.01,cleanup=0.0303175.2,total=1.1451805.2\n",
      "Station=USC00306047, rows=31, prep= 1.11,compute= 0.01,cleanup=0.0288445.2,total=1.1447965.2\n",
      "Station=USC00308839, rows=31, prep= 1.12,compute= 0.01,cleanup=0.0297665.2,total=1.1591095.2\n",
      "Station=USC00305113, rows=31, prep= 1.21,compute= 0.01,cleanup=0.0400255.2,total=1.2579025.2\n",
      "Station=USC00303602, rows=31, prep= 1.41,compute= 0.01,cleanup=0.0385715.2,total=1.4573825.2\n",
      "Station=USC00306867, rows=30, prep= 1.70,compute= 0.01,cleanup=0.0368935.2,total=1.7397385.2\n",
      "Station=USW00004724, rows=30, prep= 1.17,compute= 0.01,cleanup=0.0294825.2,total=1.2012215.2\n",
      "Station=USW00004781, rows=30, prep= 1.25,compute= 0.01,cleanup=0.0442205.2,total=1.3052135.2\n",
      "Station=USC00301391, rows=30, prep= 1.17,compute= 0.01,cleanup=0.0317995.2,total=1.2088615.2\n",
      "Station=USC00308096, rows=29, prep= 1.60,compute= 0.01,cleanup=0.0338865.2,total=1.6343135.2\n",
      "Station=USC00304575, rows=29, prep= 1.11,compute= 0.01,cleanup=0.0298215.2,total=1.1435285.2\n",
      "Station=USC00302366, rows=29, prep= 1.20,compute= 0.01,cleanup=0.0316185.2,total=1.2385465.2\n",
      "Station=USC00306557, rows=29, prep= 1.12,compute= 0.01,cleanup=0.0338025.2,total=1.1560915.2\n",
      "Station=USC00305199, rows=28, prep= 1.09,compute= 0.01,cleanup=0.0333065.2,total=1.1335195.2\n",
      "Station=USC00303124, rows=28, prep= 1.11,compute= 0.01,cleanup=0.0306475.2,total=1.1457365.2\n",
      "Station=USC00301595, rows=27, prep= 4.29,compute= 0.01,cleanup=0.0301445.2,total=4.3271315.2\n",
      "Station=USC00308831, rows=27, prep= 1.10,compute= 0.01,cleanup=0.0344965.2,total=1.1372275.2\n",
      "Station=USC00300015, rows=27, prep= 1.18,compute= 0.01,cleanup=0.0315765.2,total=1.2210565.2\n",
      "Station=USC00302599, rows=26, prep= 1.41,compute= 0.01,cleanup=0.0441785.2,total=1.4589435.2\n",
      "Station=USC00301761, rows=26, prep= 1.37,compute= 0.01,cleanup=0.0385675.2,total=1.4114025.2\n",
      "Station=USC00303786, rows=26, prep= 1.37,compute= 0.01,cleanup=0.0345365.2,total=1.4139985.2\n",
      "Station=USW00014747, rows=25, prep= 4.50,compute= 0.01,cleanup=0.0325425.2,total=4.5390455.2\n",
      "Station=USC00305840, rows=25, prep= 1.27,compute= 0.01,cleanup=0.0363245.2,total=1.3088095.2\n",
      "Station=USC00302868, rows=24, prep= 1.34,compute= 0.00,cleanup=0.0307675.2,total=1.3742315.2\n",
      "Station=USC00306459, rows=24, prep= 1.30,compute= 0.00,cleanup=0.0320965.2,total=1.3374975.2\n",
      "Station=USC00307035, rows=24, prep= 1.34,compute= 0.01,cleanup=0.0563635.2,total=1.4013345.2\n",
      "Station=USC00303781, rows=24, prep= 1.34,compute= 0.01,cleanup=0.0388105.2,total=1.3834015.2\n",
      "Station=USC00308935, rows=23, prep= 1.18,compute= 0.00,cleanup=0.0312605.2,total=1.2192335.2\n",
      "Station=USW00094704, rows=23, prep= 2.01,compute= 0.01,cleanup=0.0650105.2,total=2.0826225.2\n",
      "Station=USW00014714, rows=23, prep= 3.30,compute= 0.01,cleanup=0.0337955.2,total=3.3399405.2\n",
      "Station=USC00307918, rows=22, prep= 1.10,compute= 0.01,cleanup=0.0301515.2,total=1.1327855.2\n",
      "Station=USC00305604, rows=22, prep= 1.10,compute= 0.00,cleanup=0.0340175.2,total=1.1396715.2\n",
      "Station=USC00306229, rows=22, prep= 1.82,compute= 0.01,cleanup=0.0386095.2,total=1.8603985.2\n",
      "Station=USC00301260, rows=22, prep= 1.48,compute= 0.01,cleanup=0.0395555.2,total=1.5251215.2\n",
      "Station=USC00307742, rows=22, prep= 1.42,compute= 0.01,cleanup=0.0391005.2,total=1.4682875.2\n",
      "Station=USC00303955, rows=22, prep= 1.15,compute= 0.00,cleanup=0.0357725.2,total=1.1905595.2\n",
      "Station=USC00300351, rows=21, prep= 1.14,compute= 0.00,cleanup=0.0318015.2,total=1.1760085.2\n",
      "Station=USC00309495, rows=20, prep= 1.14,compute= 0.00,cleanup=0.0309765.2,total=1.1774725.2\n",
      "Station=USC00306301, rows=20, prep= 1.11,compute= 0.00,cleanup=0.0350235.2,total=1.1522455.2\n",
      "Station=USC00304024, rows=20, prep= 2.11,compute= 0.01,cleanup=0.0350265.2,total=2.1524155.2\n",
      "Station=USC00302627, rows=20, prep= 1.12,compute= 0.00,cleanup=0.0320195.2,total=1.1586065.2\n",
      "Station=USC00302964, rows=19, prep= 1.13,compute= 0.00,cleanup=0.0335835.2,total=1.1691765.2\n",
      "Station=USC00305635, rows=19, prep= 1.13,compute= 0.00,cleanup=0.0335455.2,total=1.1630845.2\n",
      "Station=USC00308380, rows=19, prep= 1.14,compute= 0.00,cleanup=0.0311995.2,total=1.1718975.2\n",
      "Station=USC00301101, rows=18, prep= 1.47,compute= 0.00,cleanup=0.0315955.2,total=1.5040205.2\n",
      "Station=USC00307400, rows=18, prep= 1.11,compute= 0.00,cleanup=0.0326225.2,total=1.1464645.2\n",
      "Station=USC00307524, rows=18, prep= 1.20,compute= 0.00,cleanup=0.0378015.2,total=1.2398495.2\n",
      "Station=USC00301723, rows=18, prep= 1.39,compute= 0.01,cleanup=0.0384415.2,total=1.4384785.2\n",
      "Station=USC00306810, rows=18, prep= 1.37,compute= 0.01,cleanup=0.0420535.2,total=1.4216115.2\n",
      "Station=USC00308304, rows=18, prep= 1.37,compute= 0.00,cleanup=0.0314945.2,total=1.4065905.2\n",
      "Station=USC00300961, rows=17, prep= 1.08,compute= 0.00,cleanup=0.0355695.2,total=1.1214005.2\n",
      "Station=USC00308932, rows=17, prep= 1.10,compute= 0.00,cleanup=0.0322305.2,total=1.1409285.2\n",
      "Station=USC00306138, rows=17, prep= 1.11,compute= 0.01,cleanup=0.0360475.2,total=1.1522465.2\n",
      "Station=USC00307480, rows=17, prep= 1.07,compute= 0.00,cleanup=0.0326785.2,total=1.1052415.2\n",
      "Station=USC00302071, rows=17, prep= 1.07,compute= 0.00,cleanup=0.0342605.2,total=1.1112535.2\n",
      "Station=USC00303038, rows=16, prep= 1.09,compute= 0.01,cleanup=0.0338845.2,total=1.1271515.2\n",
      "Station=USC00308625, rows=16, prep= 1.08,compute= 0.01,cleanup=0.0377765.2,total=1.1194215.2\n",
      "Station=USC00306649, rows=16, prep= 1.37,compute= 0.00,cleanup=0.0328545.2,total=1.4067425.2\n",
      "Station=USW00014772, rows=16, prep= 1.17,compute= 0.01,cleanup=0.0344715.2,total=1.2122685.2\n",
      "Station=USC00300540, rows=16, prep= 1.12,compute= 0.00,cleanup=0.0350425.2,total=1.1588675.2\n",
      "Station=USC00308321, rows=15, prep= 1.29,compute= 0.01,cleanup=0.0487525.2,total=1.3447315.2\n",
      "Station=USC00303881, rows=15, prep= 1.42,compute= 0.00,cleanup=0.0444045.2,total=1.4736205.2\n",
      "Station=USC00304450, rows=15, prep= 1.44,compute= 0.01,cleanup=0.0400305.2,total=1.4861635.2\n",
      "Station=USW00004742, rows=15, prep= 1.47,compute= 0.01,cleanup=0.0361465.2,total=1.5097355.2\n",
      "Station=USC00304984, rows=14, prep= 1.15,compute= 0.00,cleanup=0.0396775.2,total=1.1962705.2\n",
      "Station=USW00014708, rows=14, prep= 1.12,compute= 0.00,cleanup=0.0339015.2,total=1.1603355.2\n"
     ]
    },
    {
     "name": "stdout",
     "output_type": "stream",
     "text": [
      "Station=USC00309442, rows=14, prep= 1.15,compute= 0.00,cleanup=0.0335665.2,total=1.1887915.2\n",
      "Station=USC00302047, rows=14, prep= 1.14,compute= 0.00,cleanup=0.0346385.2,total=1.1793585.2\n",
      "Station=USC00304530, rows=13, prep= 1.14,compute= 0.00,cleanup=0.0397715.2,total=1.1870175.2\n",
      "Station=USC00306232, rows=13, prep= 1.13,compute= 0.00,cleanup=0.0348175.2,total=1.1715155.2\n",
      "Station=USC00301272, rows=13, prep= 1.11,compute= 0.00,cleanup=0.0356665.2,total=1.1494935.2\n",
      "Station=USC00308386, rows=13, prep= 1.07,compute= 0.00,cleanup=0.0333155.2,total=1.1056765.2\n",
      "Station=USC00304208, rows=13, prep= 4.41,compute= 0.00,cleanup=0.0369795.2,total=4.4479805.2\n",
      "Station=USC00308773, rows=13, prep= 1.07,compute= 0.00,cleanup=0.0339555.2,total=1.1050295.2\n",
      "Station=USC00305346, rows=13, prep= 1.08,compute= 0.00,cleanup=0.0353545.2,total=1.1248395.2\n",
      "Station=USC00305816, rows=13, prep= 1.54,compute= 0.01,cleanup=0.0403615.2,total=1.5894635.2\n",
      "Station=USC00300424, rows=12, prep= 1.61,compute= 0.01,cleanup=0.0441475.2,total=1.6640615.2\n",
      "Station=USC00307587, rows=12, prep= 1.35,compute= 0.00,cleanup=0.0478575.2,total=1.4026425.2\n",
      "Station=USC00305759, rows=12, prep= 1.18,compute= 0.00,cleanup=0.0335165.2,total=1.2173925.2\n",
      "Station=USC00303069, rows=12, prep= 1.06,compute= 0.00,cleanup=0.0348905.2,total=1.1010765.2\n",
      "Station=USC00304045, rows=12, prep= 1.07,compute= 0.00,cleanup=0.0373885.2,total=1.1123495.2\n",
      "Station=USC00306019, rows=12, prep= 1.11,compute= 0.00,cleanup=0.0338085.2,total=1.1461985.2\n",
      "Station=USC00303416, rows=11, prep= 1.08,compute= 0.00,cleanup=0.0398335.2,total=1.1232525.2\n",
      "Station=USC00301589, rows=11, prep= 1.08,compute= 0.00,cleanup=0.0354415.2,total=1.1206095.2\n",
      "Station=USC00305233, rows=11, prep= 1.10,compute= 0.00,cleanup=0.0367995.2,total=1.1415665.2\n",
      "Station=USC00301211, rows=11, prep= 1.08,compute= 0.00,cleanup=0.0351645.2,total=1.1178735.2\n",
      "Station=USC00308036, rows=11, prep= 1.08,compute= 0.00,cleanup=0.0365265.2,total=1.1233355.2\n",
      "Station=USC00302934, rows=11, prep= 1.09,compute= 0.00,cleanup=0.0342165.2,total=1.1292565.2\n",
      "Station=USC00308086, rows=11, prep= 1.07,compute= 0.00,cleanup=0.0450095.2,total=1.1219265.2\n",
      "Station=USC00306525, rows=11, prep= 1.30,compute= 0.01,cleanup=0.0502295.2,total=1.3593655.2\n",
      "Station=USC00306517, rows=11, prep= 1.40,compute= 0.00,cleanup=0.0441325.2,total=1.4483225.2\n",
      "Station=USC00309117, rows=11, prep= 1.37,compute= 0.00,cleanup=0.0567625.2,total=1.4289105.2\n",
      "Station=USC00308309, rows=11, prep= 1.59,compute= 0.00,cleanup=0.0461275.2,total=1.6376935.2\n",
      "Station=USC00301309, rows=11, prep= 1.15,compute= 0.00,cleanup=0.0403855.2,total=1.1944595.2\n",
      "Station=USC00302454, rows=11, prep= 1.09,compute= 0.00,cleanup=0.0352035.2,total=1.1320205.2\n",
      "Station=USC00305769, rows=11, prep= 1.08,compute= 0.00,cleanup=0.0349825.2,total=1.1159575.2\n",
      "Station=USC00300090, rows=10, prep= 1.09,compute= 0.00,cleanup=0.0385715.2,total=1.1292425.2\n",
      "Station=USC00307077, rows=10, prep= 1.11,compute= 0.00,cleanup=0.0366525.2,total=1.1525445.2\n",
      "Station=USC00309690, rows=10, prep= 1.09,compute= 0.00,cleanup=0.0345505.2,total=1.1288005.2\n",
      "Station=USW00014786, rows=10, prep= 1.09,compute= 0.00,cleanup=0.0347295.2,total=1.1320295.2\n",
      "Station=USC00305658, rows=9, prep= 1.10,compute= 0.00,cleanup=0.0455275.2,total=1.1528355.2\n",
      "Station=USC00302031, rows=9, prep= 1.07,compute= 0.00,cleanup=0.0363945.2,total=1.1132825.2\n",
      "Station=USC00309270, rows=9, prep= 1.14,compute= 0.00,cleanup=0.0360635.2,total=1.1783825.2\n",
      "Station=USC00309660, rows=9, prep= 1.66,compute= 0.00,cleanup=0.0428145.2,total=1.7099715.2\n",
      "Station=USC00302286, rows=9, prep= 1.74,compute= 0.00,cleanup=0.0939845.2,total=1.8341605.2\n",
      "Station=USC00301625, rows=9, prep= 1.67,compute= 0.00,cleanup=0.0452745.2,total=1.7132175.2\n",
      "Station=USC00308833, rows=9, prep= 1.37,compute= 0.00,cleanup=0.0491265.2,total=1.4220365.2\n",
      "Station=USC00307514, rows=9, prep= 1.14,compute= 0.00,cleanup=0.0360385.2,total=1.1805875.2\n",
      "Station=USC00304717, rows=8, prep= 1.08,compute= 0.00,cleanup=0.0376925.2,total=1.1200535.2\n",
      "Station=USC00304939, rows=8, prep= 1.30,compute= 0.00,cleanup=0.0368975.2,total=1.3417735.2\n",
      "Station=USC00303938, rows=8, prep= 1.08,compute= 0.00,cleanup=0.0379575.2,total=1.1236885.2\n",
      "Station=USC00303152, rows=7, prep= 1.09,compute= 0.00,cleanup=0.0363475.2,total=1.1333505.2\n",
      "Station=USC00309021, rows=7, prep= 1.50,compute= 0.00,cleanup=0.0584705.2,total=1.5573025.2\n",
      "Station=USC00308317, rows=7, prep= 1.88,compute= 0.00,cleanup=0.0413555.2,total=1.9278445.2\n",
      "Station=USC00306789, rows=7, prep= 1.26,compute= 0.00,cleanup=0.0381955.2,total=1.2953395.2\n",
      "Station=USC00305380, rows=7, prep= 1.17,compute= 0.00,cleanup=0.0436975.2,total=1.2192955.2\n",
      "Station=USC00305441, rows=7, prep= 1.10,compute= 0.00,cleanup=0.0382955.2,total=1.1399885.2\n",
      "Station=USC00300732, rows=6, prep= 1.08,compute= 0.00,cleanup=0.0381585.2,total=1.1158195.2\n",
      "Station=USW00014774, rows=6, prep= 1.38,compute= 0.00,cleanup=0.0473605.2,total=1.4286435.2\n",
      "Station=USC00300505, rows=6, prep= 1.38,compute= 0.00,cleanup=0.0436415.2,total=1.4307845.2\n",
      "Station=USC00309020, rows=6, prep= 1.40,compute= 0.00,cleanup=0.0496345.2,total=1.4498565.2\n",
      "Station=USW00014749, rows=6, prep= 1.36,compute= 0.00,cleanup=0.0426815.2,total=1.4025435.2\n",
      "Station=USW00014797, rows=6, prep= 1.07,compute= 0.00,cleanup=0.0366375.2,total=1.1126075.2\n",
      "Station=USC00301732, rows=5, prep= 1.08,compute= 0.00,cleanup=0.0370185.2,total=1.1215815.2\n",
      "Station=USW00004727, rows=5, prep= 1.09,compute= 0.00,cleanup=0.0386085.2,total=1.1357715.2\n",
      "Station=USC00309049, rows=5, prep= 1.27,compute= 0.00,cleanup=0.0367825.2,total=1.3049395.2\n",
      "Station=USC00302091, rows=5, prep= 1.14,compute= 0.00,cleanup=0.0374385.2,total=1.1770335.2\n",
      "Station=USW00014738, rows=4, prep= 1.10,compute= 0.00,cleanup=0.0365365.2,total=1.1335425.2\n",
      "Station=USC00306965, rows=4, prep= 1.09,compute= 0.00,cleanup=0.0400385.2,total=1.1306415.2\n",
      "Station=USC00306217, rows=4, prep= 1.09,compute= 0.00,cleanup=0.0370635.2,total=1.1274065.2\n",
      "Station=USC00300028, rows=3, prep= 1.08,compute= 0.00,cleanup=0.0400925.2,total=1.1262275.2\n",
      "Station=USC00308742, rows=3, prep= 1.08,compute= 0.00,cleanup=0.0384295.2,total=1.1218605.2\n",
      "Station=USC00305798, rows=3, prep= 1.81,compute= 0.00,cleanup=0.0650155.2,total=1.8797895.2\n",
      "Station=USC00302720, rows=3, prep= 1.39,compute= 0.00,cleanup=0.0490925.2,total=1.4455285.2\n",
      "Station=USC00307356, rows=3, prep= 1.35,compute= 0.00,cleanup=0.0443805.2,total=1.3995755.2\n",
      "Station=USW00093732, rows=3, prep= 1.30,compute= 0.00,cleanup=0.0444095.2,total=1.3445045.2\n",
      "Station=USC00304520, rows=2, prep= 2.03,compute= 0.00,cleanup=0.0431755.2,total=2.0748505.2\n",
      "Station=USC00303769, rows=2, prep= 1.08,compute= 0.00,cleanup=0.0392635.2,total=1.1162415.2\n",
      "Station=USC00305676, rows=2, prep= 1.09,compute= 0.00,cleanup=0.0397045.2,total=1.1318755.2\n",
      "Station=USC00307291, rows=2, prep= 1.21,compute= 0.00,cleanup=0.0432905.2,total=1.2552905.2\n",
      "Station=USC00307520, rows=2, prep= 1.08,compute= 0.00,cleanup=0.0415535.2,total=1.1227075.2\n",
      "Station=USC00301068, rows=2, prep= 1.07,compute= 0.00,cleanup=0.0396705.2,total=1.1116155.2\n"
     ]
    }
   ],
   "source": [
    "from time import time\n",
    "# get all measurements for a particular year and a particular station\n",
    "measurement='PRCP'\n",
    "Query_template=\"\"\"\n",
    "SELECT *\n",
    "FROM jdf \n",
    "WHERE Measurement='%s'\n",
    "AND Station='%s'\n",
    "ORDER BY YEAR\"\"\"\n",
    "\n",
    "for station in stations:\n",
    "    t0=time()\n",
    "    Query=Query_template%(measurement,station)\n",
    "\n",
    "    pdf=sqlContext.sql(Query).toPandas()\n",
    "    t1=time()\n",
    "    smoothed_pdf=Smoother(pdf)\n",
    "    t2=time()\n",
    "    smoothed_df= sqlContext.createDataFrame(smoothed_pdf)\n",
    "    jdf=jdf.union(smoothed_df)\n",
    "    t3=time()\n",
    "    print('Station=%s, rows=%d, prep=%5.2f,compute=%5.2f,cleanup=%f5.2,total=%f5.2'\n",
    "          %(station,pdf.shape[0],t1-t0,t2-t1,t3-t2,t3-t0))"
   ]
  },
  {
   "cell_type": "code",
   "execution_count": 41,
   "metadata": {},
   "outputs": [
    {
     "data": {
      "text/plain": [
       "184514"
      ]
     },
     "execution_count": 41,
     "metadata": {},
     "output_type": "execute_result"
    }
   ],
   "source": [
    "jdf.count()"
   ]
  },
  {
   "cell_type": "code",
   "execution_count": 58,
   "metadata": {},
   "outputs": [
    {
     "name": "stdout",
     "output_type": "stream",
     "text": [
      "ls: cannot access '../../Data/Weather/': No such file or directory\r\n"
     ]
    }
   ],
   "source": [
    "!ls ../../Data/Weather/"
   ]
  },
  {
   "cell_type": "code",
   "execution_count": 59,
   "metadata": {},
   "outputs": [
    {
     "ename": "AnalysisException",
     "evalue": "'Found duplicate column(s) when inserting into file:/home/nick/git/analytics_with_spark/Data/Weather/Joined_smoothed_PRCP.parquet: `latitude`, `longitude`, `dist_coast`, `elevation`;'",
     "output_type": "error",
     "traceback": [
      "\u001b[0;31m---------------------------------------------------------------------------\u001b[0m",
      "\u001b[0;31mPy4JJavaError\u001b[0m                             Traceback (most recent call last)",
      "\u001b[0;32m/usr/local/lib/python3.5/dist-packages/pyspark/sql/utils.py\u001b[0m in \u001b[0;36mdeco\u001b[0;34m(*a, **kw)\u001b[0m\n\u001b[1;32m     62\u001b[0m         \u001b[0;32mtry\u001b[0m\u001b[0;34m:\u001b[0m\u001b[0;34m\u001b[0m\u001b[0m\n\u001b[0;32m---> 63\u001b[0;31m             \u001b[0;32mreturn\u001b[0m \u001b[0mf\u001b[0m\u001b[0;34m(\u001b[0m\u001b[0;34m*\u001b[0m\u001b[0ma\u001b[0m\u001b[0;34m,\u001b[0m \u001b[0;34m**\u001b[0m\u001b[0mkw\u001b[0m\u001b[0;34m)\u001b[0m\u001b[0;34m\u001b[0m\u001b[0m\n\u001b[0m\u001b[1;32m     64\u001b[0m         \u001b[0;32mexcept\u001b[0m \u001b[0mpy4j\u001b[0m\u001b[0;34m.\u001b[0m\u001b[0mprotocol\u001b[0m\u001b[0;34m.\u001b[0m\u001b[0mPy4JJavaError\u001b[0m \u001b[0;32mas\u001b[0m \u001b[0me\u001b[0m\u001b[0;34m:\u001b[0m\u001b[0;34m\u001b[0m\u001b[0m\n",
      "\u001b[0;32m/usr/local/lib/python3.5/dist-packages/py4j/protocol.py\u001b[0m in \u001b[0;36mget_return_value\u001b[0;34m(answer, gateway_client, target_id, name)\u001b[0m\n\u001b[1;32m    327\u001b[0m                     \u001b[0;34m\"An error occurred while calling {0}{1}{2}.\\n\"\u001b[0m\u001b[0;34m.\u001b[0m\u001b[0;34m\u001b[0m\u001b[0m\n\u001b[0;32m--> 328\u001b[0;31m                     format(target_id, \".\", name), value)\n\u001b[0m\u001b[1;32m    329\u001b[0m             \u001b[0;32melse\u001b[0m\u001b[0;34m:\u001b[0m\u001b[0;34m\u001b[0m\u001b[0m\n",
      "\u001b[0;31mPy4JJavaError\u001b[0m: An error occurred while calling o6176.save.\n: org.apache.spark.sql.AnalysisException: Found duplicate column(s) when inserting into file:/home/nick/git/analytics_with_spark/Data/Weather/Joined_smoothed_PRCP.parquet: `latitude`, `longitude`, `dist_coast`, `elevation`;\n\tat org.apache.spark.sql.util.SchemaUtils$.checkColumnNameDuplication(SchemaUtils.scala:85)\n\tat org.apache.spark.sql.util.SchemaUtils$.checkSchemaColumnNameDuplication(SchemaUtils.scala:42)\n\tat org.apache.spark.sql.execution.datasources.InsertIntoHadoopFsRelationCommand.run(InsertIntoHadoopFsRelationCommand.scala:64)\n\tat org.apache.spark.sql.execution.command.DataWritingCommandExec.sideEffectResult$lzycompute(commands.scala:104)\n\tat org.apache.spark.sql.execution.command.DataWritingCommandExec.sideEffectResult(commands.scala:102)\n\tat org.apache.spark.sql.execution.command.DataWritingCommandExec.doExecute(commands.scala:122)\n\tat org.apache.spark.sql.execution.SparkPlan$$anonfun$execute$1.apply(SparkPlan.scala:131)\n\tat org.apache.spark.sql.execution.SparkPlan$$anonfun$execute$1.apply(SparkPlan.scala:127)\n\tat org.apache.spark.sql.execution.SparkPlan$$anonfun$executeQuery$1.apply(SparkPlan.scala:155)\n\tat org.apache.spark.rdd.RDDOperationScope$.withScope(RDDOperationScope.scala:151)\n\tat org.apache.spark.sql.execution.SparkPlan.executeQuery(SparkPlan.scala:152)\n\tat org.apache.spark.sql.execution.SparkPlan.execute(SparkPlan.scala:127)\n\tat org.apache.spark.sql.execution.QueryExecution.toRdd$lzycompute(QueryExecution.scala:80)\n\tat org.apache.spark.sql.execution.QueryExecution.toRdd(QueryExecution.scala:80)\n\tat org.apache.spark.sql.DataFrameWriter$$anonfun$runCommand$1.apply(DataFrameWriter.scala:654)\n\tat org.apache.spark.sql.DataFrameWriter$$anonfun$runCommand$1.apply(DataFrameWriter.scala:654)\n\tat org.apache.spark.sql.execution.SQLExecution$.withNewExecutionId(SQLExecution.scala:77)\n\tat org.apache.spark.sql.DataFrameWriter.runCommand(DataFrameWriter.scala:654)\n\tat org.apache.spark.sql.DataFrameWriter.saveToV1Source(DataFrameWriter.scala:273)\n\tat org.apache.spark.sql.DataFrameWriter.save(DataFrameWriter.scala:267)\n\tat org.apache.spark.sql.DataFrameWriter.save(DataFrameWriter.scala:225)\n\tat sun.reflect.NativeMethodAccessorImpl.invoke0(Native Method)\n\tat sun.reflect.NativeMethodAccessorImpl.invoke(NativeMethodAccessorImpl.java:62)\n\tat sun.reflect.DelegatingMethodAccessorImpl.invoke(DelegatingMethodAccessorImpl.java:43)\n\tat java.lang.reflect.Method.invoke(Method.java:498)\n\tat py4j.reflection.MethodInvoker.invoke(MethodInvoker.java:244)\n\tat py4j.reflection.ReflectionEngine.invoke(ReflectionEngine.java:357)\n\tat py4j.Gateway.invoke(Gateway.java:282)\n\tat py4j.commands.AbstractCommand.invokeMethod(AbstractCommand.java:132)\n\tat py4j.commands.CallCommand.execute(CallCommand.java:79)\n\tat py4j.GatewayConnection.run(GatewayConnection.java:238)\n\tat java.lang.Thread.run(Thread.java:748)\n",
      "\nDuring handling of the above exception, another exception occurred:\n",
      "\u001b[0;31mAnalysisException\u001b[0m                         Traceback (most recent call last)",
      "\u001b[0;32m<ipython-input-59-09b87e7a4f44>\u001b[0m in \u001b[0;36m<module>\u001b[0;34m()\u001b[0m\n\u001b[1;32m      1\u001b[0m \u001b[0moutfilename\u001b[0m\u001b[0;34m=\u001b[0m\u001b[0;34m'../../Data/Weather/Joined_smoothed_PRCP.parquet'\u001b[0m\u001b[0;34m\u001b[0m\u001b[0m\n\u001b[0;32m----> 2\u001b[0;31m \u001b[0mjdf\u001b[0m\u001b[0;34m.\u001b[0m\u001b[0mwrite\u001b[0m\u001b[0;34m.\u001b[0m\u001b[0msave\u001b[0m\u001b[0;34m(\u001b[0m\u001b[0moutfilename\u001b[0m\u001b[0;34m)\u001b[0m\u001b[0;34m\u001b[0m\u001b[0m\n\u001b[0m",
      "\u001b[0;32m/usr/local/lib/python3.5/dist-packages/pyspark/sql/readwriter.py\u001b[0m in \u001b[0;36msave\u001b[0;34m(self, path, format, mode, partitionBy, **options)\u001b[0m\n\u001b[1;32m    703\u001b[0m             \u001b[0mself\u001b[0m\u001b[0;34m.\u001b[0m\u001b[0m_jwrite\u001b[0m\u001b[0;34m.\u001b[0m\u001b[0msave\u001b[0m\u001b[0;34m(\u001b[0m\u001b[0;34m)\u001b[0m\u001b[0;34m\u001b[0m\u001b[0m\n\u001b[1;32m    704\u001b[0m         \u001b[0;32melse\u001b[0m\u001b[0;34m:\u001b[0m\u001b[0;34m\u001b[0m\u001b[0m\n\u001b[0;32m--> 705\u001b[0;31m             \u001b[0mself\u001b[0m\u001b[0;34m.\u001b[0m\u001b[0m_jwrite\u001b[0m\u001b[0;34m.\u001b[0m\u001b[0msave\u001b[0m\u001b[0;34m(\u001b[0m\u001b[0mpath\u001b[0m\u001b[0;34m)\u001b[0m\u001b[0;34m\u001b[0m\u001b[0m\n\u001b[0m\u001b[1;32m    706\u001b[0m \u001b[0;34m\u001b[0m\u001b[0m\n\u001b[1;32m    707\u001b[0m     \u001b[0;34m@\u001b[0m\u001b[0msince\u001b[0m\u001b[0;34m(\u001b[0m\u001b[0;36m1.4\u001b[0m\u001b[0;34m)\u001b[0m\u001b[0;34m\u001b[0m\u001b[0m\n",
      "\u001b[0;32m/usr/local/lib/python3.5/dist-packages/py4j/java_gateway.py\u001b[0m in \u001b[0;36m__call__\u001b[0;34m(self, *args)\u001b[0m\n\u001b[1;32m   1255\u001b[0m         \u001b[0manswer\u001b[0m \u001b[0;34m=\u001b[0m \u001b[0mself\u001b[0m\u001b[0;34m.\u001b[0m\u001b[0mgateway_client\u001b[0m\u001b[0;34m.\u001b[0m\u001b[0msend_command\u001b[0m\u001b[0;34m(\u001b[0m\u001b[0mcommand\u001b[0m\u001b[0;34m)\u001b[0m\u001b[0;34m\u001b[0m\u001b[0m\n\u001b[1;32m   1256\u001b[0m         return_value = get_return_value(\n\u001b[0;32m-> 1257\u001b[0;31m             answer, self.gateway_client, self.target_id, self.name)\n\u001b[0m\u001b[1;32m   1258\u001b[0m \u001b[0;34m\u001b[0m\u001b[0m\n\u001b[1;32m   1259\u001b[0m         \u001b[0;32mfor\u001b[0m \u001b[0mtemp_arg\u001b[0m \u001b[0;32min\u001b[0m \u001b[0mtemp_args\u001b[0m\u001b[0;34m:\u001b[0m\u001b[0;34m\u001b[0m\u001b[0m\n",
      "\u001b[0;32m/usr/local/lib/python3.5/dist-packages/pyspark/sql/utils.py\u001b[0m in \u001b[0;36mdeco\u001b[0;34m(*a, **kw)\u001b[0m\n\u001b[1;32m     67\u001b[0m                                              e.java_exception.getStackTrace()))\n\u001b[1;32m     68\u001b[0m             \u001b[0;32mif\u001b[0m \u001b[0ms\u001b[0m\u001b[0;34m.\u001b[0m\u001b[0mstartswith\u001b[0m\u001b[0;34m(\u001b[0m\u001b[0;34m'org.apache.spark.sql.AnalysisException: '\u001b[0m\u001b[0;34m)\u001b[0m\u001b[0;34m:\u001b[0m\u001b[0;34m\u001b[0m\u001b[0m\n\u001b[0;32m---> 69\u001b[0;31m                 \u001b[0;32mraise\u001b[0m \u001b[0mAnalysisException\u001b[0m\u001b[0;34m(\u001b[0m\u001b[0ms\u001b[0m\u001b[0;34m.\u001b[0m\u001b[0msplit\u001b[0m\u001b[0;34m(\u001b[0m\u001b[0;34m': '\u001b[0m\u001b[0;34m,\u001b[0m \u001b[0;36m1\u001b[0m\u001b[0;34m)\u001b[0m\u001b[0;34m[\u001b[0m\u001b[0;36m1\u001b[0m\u001b[0;34m]\u001b[0m\u001b[0;34m,\u001b[0m \u001b[0mstackTrace\u001b[0m\u001b[0;34m)\u001b[0m\u001b[0;34m\u001b[0m\u001b[0m\n\u001b[0m\u001b[1;32m     70\u001b[0m             \u001b[0;32mif\u001b[0m \u001b[0ms\u001b[0m\u001b[0;34m.\u001b[0m\u001b[0mstartswith\u001b[0m\u001b[0;34m(\u001b[0m\u001b[0;34m'org.apache.spark.sql.catalyst.analysis'\u001b[0m\u001b[0;34m)\u001b[0m\u001b[0;34m:\u001b[0m\u001b[0;34m\u001b[0m\u001b[0m\n\u001b[1;32m     71\u001b[0m                 \u001b[0;32mraise\u001b[0m \u001b[0mAnalysisException\u001b[0m\u001b[0;34m(\u001b[0m\u001b[0ms\u001b[0m\u001b[0;34m.\u001b[0m\u001b[0msplit\u001b[0m\u001b[0;34m(\u001b[0m\u001b[0;34m': '\u001b[0m\u001b[0;34m,\u001b[0m \u001b[0;36m1\u001b[0m\u001b[0;34m)\u001b[0m\u001b[0;34m[\u001b[0m\u001b[0;36m1\u001b[0m\u001b[0;34m]\u001b[0m\u001b[0;34m,\u001b[0m \u001b[0mstackTrace\u001b[0m\u001b[0;34m)\u001b[0m\u001b[0;34m\u001b[0m\u001b[0m\n",
      "\u001b[0;31mAnalysisException\u001b[0m: 'Found duplicate column(s) when inserting into file:/home/nick/git/analytics_with_spark/Data/Weather/Joined_smoothed_PRCP.parquet: `latitude`, `longitude`, `dist_coast`, `elevation`;'"
     ]
    }
   ],
   "source": [
    "outfilename='../../Data/Weather/Joined_smoothed_PRCP.parquet'\n",
    "jdf.write.save(outfilename)"
   ]
  },
  {
   "cell_type": "code",
   "execution_count": 60,
   "metadata": {},
   "outputs": [
    {
     "name": "stdout",
     "output_type": "stream",
     "text": [
      "du: cannot access '../../Data/Weather/Joined_smoothed_PRCP.parquet': No such file or directory\r\n"
     ]
    }
   ],
   "source": [
    "!du -sh $outfilename"
   ]
  },
  {
   "cell_type": "code",
   "execution_count": 61,
   "metadata": {},
   "outputs": [
    {
     "name": "stdout",
     "output_type": "stream",
     "text": [
      "Index(['Station', 'Measurement', 'Year', 'Values', 'dist_coast', 'latitude',\n",
      "       'longitude', 'elevation', 'state', 'name', 'Dist_coast', 'Latitude',\n",
      "       'Longitude', 'Elevation', 'Station_Name'],\n",
      "      dtype='object')\n"
     ]
    },
    {
     "data": {
      "text/plain": [
       "StructType(List(StructField(Station,StringType,true),StructField(Measurement,StringType,true),StructField(Year,LongType,true),StructField(Values,BinaryType,true),StructField(dist_coast,DoubleType,true),StructField(latitude,DoubleType,true),StructField(longitude,DoubleType,true),StructField(elevation,DoubleType,true),StructField(state,StringType,true),StructField(name,StringType,true),StructField(Dist_coast,DoubleType,true),StructField(Latitude,DoubleType,true),StructField(Longitude,DoubleType,true),StructField(Elevation,DoubleType,true),StructField(Station_Name,StringType,true)))"
      ]
     },
     "execution_count": 61,
     "metadata": {},
     "output_type": "execute_result"
    }
   ],
   "source": [
    "print(pdf.columns)\n",
    "sdf = sqlContext.createDataFrame(pdf)\n",
    "sdf.schema"
   ]
  },
  {
   "cell_type": "code",
   "execution_count": 62,
   "metadata": {},
   "outputs": [
    {
     "data": {
      "text/plain": [
       "2"
      ]
     },
     "execution_count": 62,
     "metadata": {},
     "output_type": "execute_result"
    }
   ],
   "source": [
    "# 'smoothed_%s'%(station),\n",
    "sdf.count()"
   ]
  },
  {
   "cell_type": "code",
   "execution_count": 63,
   "metadata": {},
   "outputs": [
    {
     "data": {
      "text/plain": [
       "184516"
      ]
     },
     "execution_count": 63,
     "metadata": {},
     "output_type": "execute_result"
    }
   ],
   "source": [
    "jdf.count()"
   ]
  },
  {
   "cell_type": "code",
   "execution_count": 64,
   "metadata": {},
   "outputs": [
    {
     "data": {
      "text/plain": [
       "184518"
      ]
     },
     "execution_count": 64,
     "metadata": {},
     "output_type": "execute_result"
    }
   ],
   "source": [
    "jdf=jdf.union(sdf)\n",
    "jdf.count()"
   ]
  },
  {
   "cell_type": "markdown",
   "metadata": {},
   "source": [
    "## BinaryType not supported  by pandas_udf\n",
    "Running the following code: \n",
    "```python\n",
    "import pyspark.sql.functions as sqlf\n",
    "import pyspark\n",
    "import pyarrow\n",
    "pyspark.__version__  (2.3.0)\n",
    "\n",
    "from pyspark.sql.functions import pandas_udf, PandasUDFType\n",
    "def Smoother(orig_pdf):\n",
    "    return orig_pdf\n",
    "\n",
    "### Offending command\n",
    "smoother_udf=pandas_udf(Smoother,df.select(['Station','Year','Values']).schema, PandasUDFType.GROUPED_MAP) \n",
    "\n",
    "X=df.groupby(\"Station\").apply(smoother_udf)\n",
    "X.show()\n",
    "```\n",
    "Generates the following error message\n",
    "```\n",
    "NotImplementedError: Invalid returnType with grouped map Pandas UDFs: StructType(List(StructField(Station,StringType,true),StructField(Year,IntegerType,true),StructField(Values,BinaryType,true))) is not supported\n",
    "```\n",
    "\n",
    "Works find if only ('Station','Year') are used"
   ]
  },
  {
   "cell_type": "code",
   "execution_count": 65,
   "metadata": {},
   "outputs": [
    {
     "ename": "NameError",
     "evalue": "name 'orig_df' is not defined",
     "output_type": "error",
     "traceback": [
      "\u001b[0;31m---------------------------------------------------------------------------\u001b[0m",
      "\u001b[0;31mNameError\u001b[0m                                 Traceback (most recent call last)",
      "\u001b[0;32m<ipython-input-65-e860a6a310e4>\u001b[0m in \u001b[0;36m<module>\u001b[0;34m()\u001b[0m\n\u001b[0;32m----> 1\u001b[0;31m \u001b[0morig_df\u001b[0m\u001b[0;34m.\u001b[0m\u001b[0mschema\u001b[0m\u001b[0;34m\u001b[0m\u001b[0m\n\u001b[0m",
      "\u001b[0;31mNameError\u001b[0m: name 'orig_df' is not defined"
     ]
    }
   ],
   "source": [
    "orig_df.schema"
   ]
  },
  {
   "cell_type": "code",
   "execution_count": 66,
   "metadata": {
    "scrolled": false
   },
   "outputs": [
    {
     "ename": "NameError",
     "evalue": "name 'smoothed' is not defined",
     "output_type": "error",
     "traceback": [
      "\u001b[0;31m---------------------------------------------------------------------------\u001b[0m",
      "\u001b[0;31mNameError\u001b[0m                                 Traceback (most recent call last)",
      "\u001b[0;32m<ipython-input-66-59a3c28c7bf5>\u001b[0m in \u001b[0;36m<module>\u001b[0;34m()\u001b[0m\n\u001b[1;32m      2\u001b[0m \u001b[0mfig\u001b[0m\u001b[0;34m,\u001b[0m \u001b[0max\u001b[0m \u001b[0;34m=\u001b[0m \u001b[0mplt\u001b[0m\u001b[0;34m.\u001b[0m\u001b[0msubplots\u001b[0m\u001b[0;34m(\u001b[0m\u001b[0mfigsize\u001b[0m\u001b[0;34m=\u001b[0m\u001b[0;34m(\u001b[0m\u001b[0;36m10\u001b[0m\u001b[0;34m,\u001b[0m\u001b[0;36m7\u001b[0m\u001b[0;34m)\u001b[0m\u001b[0;34m)\u001b[0m\u001b[0;34m;\u001b[0m\u001b[0;34m\u001b[0m\u001b[0m\n\u001b[1;32m      3\u001b[0m \u001b[0mYP\u001b[0m\u001b[0;34m=\u001b[0m\u001b[0mYearPlotter\u001b[0m\u001b[0;34m(\u001b[0m\u001b[0;34m)\u001b[0m\u001b[0;34m\u001b[0m\u001b[0m\n\u001b[0;32m----> 4\u001b[0;31m \u001b[0mYP\u001b[0m\u001b[0;34m.\u001b[0m\u001b[0mplot\u001b[0m\u001b[0;34m(\u001b[0m\u001b[0msmoothed\u001b[0m\u001b[0;34m[\u001b[0m\u001b[0;36m110\u001b[0m\u001b[0;34m:\u001b[0m\u001b[0;36m120\u001b[0m\u001b[0;34m,\u001b[0m\u001b[0;34m:\u001b[0m\u001b[0;34m]\u001b[0m\u001b[0;34m.\u001b[0m\u001b[0mtranspose\u001b[0m\u001b[0;34m(\u001b[0m\u001b[0;34m)\u001b[0m\u001b[0;34m,\u001b[0m\u001b[0mfig\u001b[0m\u001b[0;34m,\u001b[0m\u001b[0max\u001b[0m\u001b[0;34m,\u001b[0m\u001b[0mtitle\u001b[0m\u001b[0;34m=\u001b[0m\u001b[0;34m'smoothed %s for %s'\u001b[0m\u001b[0;34m%\u001b[0m\u001b[0;34m(\u001b[0m\u001b[0mmeasurement\u001b[0m\u001b[0;34m,\u001b[0m\u001b[0mstat\u001b[0m\u001b[0;34m)\u001b[0m\u001b[0;34m)\u001b[0m\u001b[0;34m;\u001b[0m\u001b[0;34m\u001b[0m\u001b[0m\n\u001b[0m\u001b[1;32m      5\u001b[0m \u001b[0mplt\u001b[0m\u001b[0;34m.\u001b[0m\u001b[0msavefig\u001b[0m\u001b[0;34m(\u001b[0m\u001b[0;34m'percipitation.png'\u001b[0m\u001b[0;34m)\u001b[0m\u001b[0;34m\u001b[0m\u001b[0m\n\u001b[1;32m      6\u001b[0m \u001b[0;31m#title('A sample of graphs');\u001b[0m\u001b[0;34m\u001b[0m\u001b[0;34m\u001b[0m\u001b[0m\n",
      "\u001b[0;31mNameError\u001b[0m: name 'smoothed' is not defined"
     ]
    },
    {
     "data": {
      "image/png": "[encoded data removed]",
      "text/plain": [
       "<Figure size 720x504 with 1 Axes>"
      ]
     },
     "metadata": {},
     "output_type": "display_data"
    }
   ],
   "source": [
    "from lib.YearPlotter import YearPlotter\n",
    "fig, ax = plt.subplots(figsize=(10,7));\n",
    "YP=YearPlotter()\n",
    "YP.plot(smoothed[110:120,:].transpose(),fig,ax,title='smoothed %s for %s'%(measurement,stat));\n",
    "plt.savefig('percipitation.png')\n",
    "#title('A sample of graphs');"
   ]
  },
  {
   "cell_type": "code",
   "execution_count": 67,
   "metadata": {},
   "outputs": [
    {
     "ename": "NameError",
     "evalue": "name 'orig' is not defined",
     "output_type": "error",
     "traceback": [
      "\u001b[0;31m---------------------------------------------------------------------------\u001b[0m",
      "\u001b[0;31mNameError\u001b[0m                                 Traceback (most recent call last)",
      "\u001b[0;32m<ipython-input-67-d7bfddf78e81>\u001b[0m in \u001b[0;36m<module>\u001b[0;34m()\u001b[0m\n\u001b[1;32m      3\u001b[0m \u001b[0mi\u001b[0m\u001b[0;34m=\u001b[0m\u001b[0;36m85\u001b[0m\u001b[0;34m\u001b[0m\u001b[0m\n\u001b[1;32m      4\u001b[0m \u001b[0mfactor\u001b[0m\u001b[0;34m=\u001b[0m\u001b[0;36m5\u001b[0m\u001b[0;34m\u001b[0m\u001b[0m\n\u001b[0;32m----> 5\u001b[0;31m \u001b[0mpair\u001b[0m\u001b[0;34m=\u001b[0m\u001b[0mnp\u001b[0m\u001b[0;34m.\u001b[0m\u001b[0mstack\u001b[0m\u001b[0;34m(\u001b[0m\u001b[0;34m[\u001b[0m\u001b[0morig\u001b[0m\u001b[0;34m[\u001b[0m\u001b[0mi\u001b[0m\u001b[0;34m,\u001b[0m\u001b[0;34m:\u001b[0m\u001b[0;34m]\u001b[0m\u001b[0;34m,\u001b[0m\u001b[0msmoothed\u001b[0m\u001b[0;34m[\u001b[0m\u001b[0mi\u001b[0m\u001b[0;34m,\u001b[0m\u001b[0;34m:\u001b[0m\u001b[0;34m]\u001b[0m\u001b[0;34m*\u001b[0m\u001b[0mfactor\u001b[0m\u001b[0;34m]\u001b[0m\u001b[0;34m)\u001b[0m\u001b[0;34m\u001b[0m\u001b[0m\n\u001b[0m\u001b[1;32m      6\u001b[0m \u001b[0mpair\u001b[0m\u001b[0;34m.\u001b[0m\u001b[0mshape\u001b[0m\u001b[0;34m\u001b[0m\u001b[0m\n\u001b[1;32m      7\u001b[0m \u001b[0;34m\u001b[0m\u001b[0m\n",
      "\u001b[0;31mNameError\u001b[0m: name 'orig' is not defined"
     ]
    },
    {
     "data": {
      "image/png": "[encoded data removed]",
      "text/plain": [
       "<Figure size 720x504 with 1 Axes>"
      ]
     },
     "metadata": {},
     "output_type": "display_data"
    }
   ],
   "source": [
    "fig, ax = plt.subplots(figsize=(10,7));\n",
    "YP=YearPlotter()\n",
    "i=85\n",
    "factor=5\n",
    "pair=np.stack([orig[i,:],smoothed[i,:]*factor])\n",
    "pair.shape\n",
    "\n",
    "YP.plot(pair.transpose(),fig,ax,title='smoothed %s for %s'%(measurement,stat));"
   ]
  },
  {
   "cell_type": "code",
   "execution_count": 68,
   "metadata": {
    "collapsed": true
   },
   "outputs": [],
   "source": [
    "from scipy import signal\n",
    "from astropy.convolution import convolve\n",
    "window = signal.gaussian(81, std=20)\n",
    "\n",
    "window/=sum(window)"
   ]
  },
  {
   "cell_type": "code",
   "execution_count": 69,
   "metadata": {},
   "outputs": [
    {
     "ename": "NameError",
     "evalue": "name 'T' is not defined",
     "output_type": "error",
     "traceback": [
      "\u001b[0;31m---------------------------------------------------------------------------\u001b[0m",
      "\u001b[0;31mNameError\u001b[0m                                 Traceback (most recent call last)",
      "\u001b[0;32m<ipython-input-69-a102eaf88493>\u001b[0m in \u001b[0;36m<module>\u001b[0;34m()\u001b[0m\n\u001b[0;32m----> 1\u001b[0;31m \u001b[0mP\u001b[0m\u001b[0;34m=\u001b[0m\u001b[0mT\u001b[0m\u001b[0;34m[\u001b[0m\u001b[0;36m3\u001b[0m\u001b[0;34m,\u001b[0m\u001b[0;34m:\u001b[0m\u001b[0;34m]\u001b[0m\u001b[0;34m\u001b[0m\u001b[0m\n\u001b[0m\u001b[1;32m      2\u001b[0m \u001b[0mP\u001b[0m\u001b[0;34m[\u001b[0m\u001b[0;36m10\u001b[0m\u001b[0;34m:\u001b[0m\u001b[0;36m30\u001b[0m\u001b[0;34m]\u001b[0m\u001b[0;34m=\u001b[0m\u001b[0mnp\u001b[0m\u001b[0;34m.\u001b[0m\u001b[0mnan\u001b[0m\u001b[0;34m\u001b[0m\u001b[0m\n\u001b[1;32m      3\u001b[0m \u001b[0mf\u001b[0m\u001b[0;34m=\u001b[0m\u001b[0mfiltered\u001b[0m \u001b[0;34m=\u001b[0m \u001b[0mconvolve\u001b[0m\u001b[0;34m(\u001b[0m\u001b[0mP\u001b[0m\u001b[0;34m,\u001b[0m \u001b[0mwindow\u001b[0m\u001b[0;34m)\u001b[0m\u001b[0;34m\u001b[0m\u001b[0m\n\u001b[1;32m      4\u001b[0m \u001b[0mprint\u001b[0m\u001b[0;34m(\u001b[0m\u001b[0mlen\u001b[0m\u001b[0;34m(\u001b[0m\u001b[0mf\u001b[0m\u001b[0;34m)\u001b[0m\u001b[0;34m)\u001b[0m\u001b[0;34m\u001b[0m\u001b[0m\n\u001b[1;32m      5\u001b[0m \u001b[0mplot\u001b[0m\u001b[0;34m(\u001b[0m\u001b[0mf\u001b[0m\u001b[0;34m)\u001b[0m\u001b[0;34m\u001b[0m\u001b[0m\n",
      "\u001b[0;31mNameError\u001b[0m: name 'T' is not defined"
     ]
    }
   ],
   "source": [
    "P=T[3,:]\n",
    "P[10:30]=np.nan\n",
    "f=filtered = convolve(P, window)\n",
    "print(len(f))\n",
    "plot(f)\n",
    "plot(P)"
   ]
  },
  {
   "cell_type": "markdown",
   "metadata": {
    "slideshow": {
     "slide_type": "slide"
    }
   },
   "source": [
    "### Distribution of missing observations\n",
    "The distribution of missing observations is not uniform throughout the year. We visualize it below."
   ]
  },
  {
   "cell_type": "code",
   "execution_count": 70,
   "metadata": {
    "slideshow": {
     "slide_type": "subslide"
    }
   },
   "outputs": [
    {
     "ename": "ImportError",
     "evalue": "No module named 'MultiPlot'",
     "output_type": "error",
     "traceback": [
      "\u001b[0;31m---------------------------------------------------------------------------\u001b[0m",
      "\u001b[0;31mImportError\u001b[0m                               Traceback (most recent call last)",
      "\u001b[0;32m<ipython-input-70-260639ef0a41>\u001b[0m in \u001b[0;36m<module>\u001b[0;34m()\u001b[0m\n\u001b[0;32m----> 1\u001b[0;31m \u001b[0;32mfrom\u001b[0m \u001b[0mMultiPlot\u001b[0m \u001b[0;32mimport\u001b[0m \u001b[0;34m*\u001b[0m\u001b[0;34m\u001b[0m\u001b[0m\n\u001b[0m\u001b[1;32m      2\u001b[0m \u001b[0;32mdef\u001b[0m \u001b[0mplot_valid\u001b[0m\u001b[0;34m(\u001b[0m\u001b[0mm\u001b[0m\u001b[0;34m,\u001b[0m\u001b[0mfig\u001b[0m\u001b[0;34m,\u001b[0m\u001b[0maxis\u001b[0m\u001b[0;34m)\u001b[0m\u001b[0;34m:\u001b[0m\u001b[0;34m\u001b[0m\u001b[0m\n\u001b[1;32m      3\u001b[0m     \u001b[0mvalid_m\u001b[0m\u001b[0;34m=\u001b[0m\u001b[0mSTAT\u001b[0m\u001b[0;34m[\u001b[0m\u001b[0mm\u001b[0m\u001b[0;34m]\u001b[0m\u001b[0;34m[\u001b[0m\u001b[0;34m'NE'\u001b[0m\u001b[0;34m]\u001b[0m\u001b[0;34m\u001b[0m\u001b[0m\n\u001b[1;32m      4\u001b[0m     \u001b[0mYP\u001b[0m\u001b[0;34m.\u001b[0m\u001b[0mplot\u001b[0m\u001b[0;34m(\u001b[0m\u001b[0mvalid_m\u001b[0m\u001b[0;34m,\u001b[0m\u001b[0mfig\u001b[0m\u001b[0;34m,\u001b[0m\u001b[0maxis\u001b[0m\u001b[0;34m,\u001b[0m\u001b[0mtitle\u001b[0m\u001b[0;34m=\u001b[0m\u001b[0;34m'valid-counts '\u001b[0m\u001b[0;34m+\u001b[0m\u001b[0mm\u001b[0m\u001b[0;34m)\u001b[0m\u001b[0;34m\u001b[0m\u001b[0m\n\u001b[1;32m      5\u001b[0m \u001b[0;34m\u001b[0m\u001b[0m\n",
      "\u001b[0;31mImportError\u001b[0m: No module named 'MultiPlot'"
     ]
    }
   ],
   "source": [
    "from MultiPlot import *                \n",
    "def plot_valid(m,fig,axis):\n",
    "    valid_m=STAT[m]['NE']\n",
    "    YP.plot(valid_m,fig,axis,title='valid-counts '+m)\n",
    "    "
   ]
  },
  {
   "cell_type": "code",
   "execution_count": 71,
   "metadata": {
    "scrolled": false,
    "slideshow": {
     "slide_type": "subslide"
    }
   },
   "outputs": [
    {
     "ename": "NameError",
     "evalue": "name 'plot_pair' is not defined",
     "output_type": "error",
     "traceback": [
      "\u001b[0;31m---------------------------------------------------------------------------\u001b[0m",
      "\u001b[0;31mNameError\u001b[0m                                 Traceback (most recent call last)",
      "\u001b[0;32m<ipython-input-71-9340064e66af>\u001b[0m in \u001b[0;36m<module>\u001b[0;34m()\u001b[0m\n\u001b[0;32m----> 1\u001b[0;31m \u001b[0mplot_pair\u001b[0m\u001b[0;34m(\u001b[0m\u001b[0;34m[\u001b[0m\u001b[0;34m'TMIN'\u001b[0m\u001b[0;34m,\u001b[0m\u001b[0;34m'TMAX'\u001b[0m\u001b[0;34m]\u001b[0m\u001b[0;34m,\u001b[0m\u001b[0mplot_valid\u001b[0m\u001b[0;34m)\u001b[0m\u001b[0;34m\u001b[0m\u001b[0m\n\u001b[0m",
      "\u001b[0;31mNameError\u001b[0m: name 'plot_pair' is not defined"
     ]
    }
   ],
   "source": [
    "plot_pair(['TMIN','TMAX'],plot_valid)"
   ]
  },
  {
   "cell_type": "code",
   "execution_count": 72,
   "metadata": {
    "slideshow": {
     "slide_type": "subslide"
    }
   },
   "outputs": [
    {
     "ename": "NameError",
     "evalue": "name 'plot_pair' is not defined",
     "output_type": "error",
     "traceback": [
      "\u001b[0;31m---------------------------------------------------------------------------\u001b[0m",
      "\u001b[0;31mNameError\u001b[0m                                 Traceback (most recent call last)",
      "\u001b[0;32m<ipython-input-72-b02ae41eb13a>\u001b[0m in \u001b[0;36m<module>\u001b[0;34m()\u001b[0m\n\u001b[0;32m----> 1\u001b[0;31m \u001b[0mplot_pair\u001b[0m\u001b[0;34m(\u001b[0m\u001b[0;34m[\u001b[0m\u001b[0;34m'TOBS'\u001b[0m\u001b[0;34m,\u001b[0m\u001b[0;34m'PRCP'\u001b[0m\u001b[0;34m]\u001b[0m\u001b[0;34m,\u001b[0m\u001b[0mplot_valid\u001b[0m\u001b[0;34m)\u001b[0m\u001b[0;34m\u001b[0m\u001b[0m\n\u001b[0m",
      "\u001b[0;31mNameError\u001b[0m: name 'plot_pair' is not defined"
     ]
    }
   ],
   "source": [
    "plot_pair(['TOBS','PRCP'],plot_valid)"
   ]
  },
  {
   "cell_type": "code",
   "execution_count": 73,
   "metadata": {
    "slideshow": {
     "slide_type": "subslide"
    }
   },
   "outputs": [
    {
     "ename": "NameError",
     "evalue": "name 'plot_pair' is not defined",
     "output_type": "error",
     "traceback": [
      "\u001b[0;31m---------------------------------------------------------------------------\u001b[0m",
      "\u001b[0;31mNameError\u001b[0m                                 Traceback (most recent call last)",
      "\u001b[0;32m<ipython-input-73-6b9a14fa3f23>\u001b[0m in \u001b[0;36m<module>\u001b[0;34m()\u001b[0m\n\u001b[0;32m----> 1\u001b[0;31m \u001b[0mplot_pair\u001b[0m\u001b[0;34m(\u001b[0m\u001b[0;34m[\u001b[0m\u001b[0;34m'SNOW'\u001b[0m\u001b[0;34m,\u001b[0m \u001b[0;34m'SNWD'\u001b[0m\u001b[0;34m]\u001b[0m\u001b[0;34m,\u001b[0m\u001b[0mplot_valid\u001b[0m\u001b[0;34m)\u001b[0m\u001b[0;34m\u001b[0m\u001b[0m\n\u001b[0m",
      "\u001b[0;31mNameError\u001b[0m: name 'plot_pair' is not defined"
     ]
    }
   ],
   "source": [
    "plot_pair(['SNOW', 'SNWD'],plot_valid)"
   ]
  },
  {
   "cell_type": "markdown",
   "metadata": {
    "slideshow": {
     "slide_type": "slide"
    }
   },
   "source": [
    "### Plots of mean and std of observations"
   ]
  },
  {
   "cell_type": "code",
   "execution_count": 74,
   "metadata": {
    "collapsed": true,
    "slideshow": {
     "slide_type": "skip"
    }
   },
   "outputs": [],
   "source": [
    "def plot_mean_std(m,fig,axis):\n",
    "    scale=1.\n",
    "    temps=['TMIN','TMAX','TOBS']\n",
    "    percipitation=['PRCP','SNOW','SNWD']\n",
    "    _labels=['mean+std','mean','mean-std']\n",
    "    if (m in temps or m=='PRCP'):\n",
    "        scale=10.\n",
    "    mean=STAT[m]['Mean']/scale\n",
    "    std=np.sqrt(STAT[m]['Var'])/scale\n",
    "    graphs=np.vstack([mean+std,mean,mean-std]).transpose()\n",
    "    YP.plot(graphs,fig,axis,labels=_labels,title='Mean+-std   '+m)\n",
    "    if (m in temps):\n",
    "        axis.set_ylabel('Degrees Celsius')\n",
    "    if (m in percipitation):\n",
    "        axis.set_ylabel('millimeter')\n",
    "\n"
   ]
  },
  {
   "cell_type": "code",
   "execution_count": 75,
   "metadata": {
    "slideshow": {
     "slide_type": "subslide"
    }
   },
   "outputs": [
    {
     "ename": "NameError",
     "evalue": "name 'plot_pair' is not defined",
     "output_type": "error",
     "traceback": [
      "\u001b[0;31m---------------------------------------------------------------------------\u001b[0m",
      "\u001b[0;31mNameError\u001b[0m                                 Traceback (most recent call last)",
      "\u001b[0;32m<ipython-input-75-020ab9ffad5b>\u001b[0m in \u001b[0;36m<module>\u001b[0;34m()\u001b[0m\n\u001b[0;32m----> 1\u001b[0;31m \u001b[0mplot_pair\u001b[0m\u001b[0;34m(\u001b[0m\u001b[0;34m[\u001b[0m\u001b[0;34m'TMIN'\u001b[0m\u001b[0;34m,\u001b[0m\u001b[0;34m'TMAX'\u001b[0m\u001b[0;34m]\u001b[0m\u001b[0;34m,\u001b[0m\u001b[0mplot_mean_std\u001b[0m\u001b[0;34m)\u001b[0m\u001b[0;34m\u001b[0m\u001b[0m\n\u001b[0m",
      "\u001b[0;31mNameError\u001b[0m: name 'plot_pair' is not defined"
     ]
    }
   ],
   "source": [
    "plot_pair(['TMIN','TMAX'],plot_mean_std)"
   ]
  },
  {
   "cell_type": "code",
   "execution_count": 76,
   "metadata": {
    "slideshow": {
     "slide_type": "subslide"
    }
   },
   "outputs": [
    {
     "ename": "NameError",
     "evalue": "name 'plot_pair' is not defined",
     "output_type": "error",
     "traceback": [
      "\u001b[0;31m---------------------------------------------------------------------------\u001b[0m",
      "\u001b[0;31mNameError\u001b[0m                                 Traceback (most recent call last)",
      "\u001b[0;32m<ipython-input-76-0613454ce720>\u001b[0m in \u001b[0;36m<module>\u001b[0;34m()\u001b[0m\n\u001b[0;32m----> 1\u001b[0;31m \u001b[0mplot_pair\u001b[0m\u001b[0;34m(\u001b[0m\u001b[0;34m[\u001b[0m\u001b[0;34m'TOBS'\u001b[0m\u001b[0;34m,\u001b[0m\u001b[0;34m'PRCP'\u001b[0m\u001b[0;34m]\u001b[0m\u001b[0;34m,\u001b[0m\u001b[0mplot_mean_std\u001b[0m\u001b[0;34m)\u001b[0m\u001b[0;34m\u001b[0m\u001b[0m\n\u001b[0m",
      "\u001b[0;31mNameError\u001b[0m: name 'plot_pair' is not defined"
     ]
    }
   ],
   "source": [
    "plot_pair(['TOBS','PRCP'],plot_mean_std)"
   ]
  },
  {
   "cell_type": "code",
   "execution_count": 77,
   "metadata": {},
   "outputs": [
    {
     "ename": "NameError",
     "evalue": "name 'plot_single' is not defined",
     "output_type": "error",
     "traceback": [
      "\u001b[0;31m---------------------------------------------------------------------------\u001b[0m",
      "\u001b[0;31mNameError\u001b[0m                                 Traceback (most recent call last)",
      "\u001b[0;32m<ipython-input-77-ad52a44da37e>\u001b[0m in \u001b[0;36m<module>\u001b[0;34m()\u001b[0m\n\u001b[0;32m----> 1\u001b[0;31m \u001b[0mplot_single\u001b[0m\u001b[0;34m(\u001b[0m\u001b[0;34m'TOBS'\u001b[0m\u001b[0;34m,\u001b[0m\u001b[0mplot_mean_std\u001b[0m\u001b[0;34m,\u001b[0m\u001b[0;34m'r_figures/TOBS.png'\u001b[0m\u001b[0;34m)\u001b[0m\u001b[0;34m\u001b[0m\u001b[0m\n\u001b[0m",
      "\u001b[0;31mNameError\u001b[0m: name 'plot_single' is not defined"
     ]
    }
   ],
   "source": [
    "plot_single('TOBS',plot_mean_std,'r_figures/TOBS.png')"
   ]
  },
  {
   "cell_type": "code",
   "execution_count": 78,
   "metadata": {
    "slideshow": {
     "slide_type": "subslide"
    }
   },
   "outputs": [
    {
     "ename": "NameError",
     "evalue": "name 'plot_pair' is not defined",
     "output_type": "error",
     "traceback": [
      "\u001b[0;31m---------------------------------------------------------------------------\u001b[0m",
      "\u001b[0;31mNameError\u001b[0m                                 Traceback (most recent call last)",
      "\u001b[0;32m<ipython-input-78-63c403668ffb>\u001b[0m in \u001b[0;36m<module>\u001b[0;34m()\u001b[0m\n\u001b[0;32m----> 1\u001b[0;31m \u001b[0mplot_pair\u001b[0m\u001b[0;34m(\u001b[0m\u001b[0;34m[\u001b[0m\u001b[0;34m'SNOW'\u001b[0m\u001b[0;34m,\u001b[0m \u001b[0;34m'SNWD'\u001b[0m\u001b[0;34m]\u001b[0m\u001b[0;34m,\u001b[0m\u001b[0mplot_mean_std\u001b[0m\u001b[0;34m)\u001b[0m\u001b[0;34m\u001b[0m\u001b[0m\n\u001b[0m",
      "\u001b[0;31mNameError\u001b[0m: name 'plot_pair' is not defined"
     ]
    }
   ],
   "source": [
    "plot_pair(['SNOW', 'SNWD'],plot_mean_std)"
   ]
  },
  {
   "cell_type": "code",
   "execution_count": 79,
   "metadata": {
    "scrolled": true
   },
   "outputs": [
    {
     "ename": "NameError",
     "evalue": "name 'plot_single' is not defined",
     "output_type": "error",
     "traceback": [
      "\u001b[0;31m---------------------------------------------------------------------------\u001b[0m",
      "\u001b[0;31mNameError\u001b[0m                                 Traceback (most recent call last)",
      "\u001b[0;32m<ipython-input-79-4303ae7b1807>\u001b[0m in \u001b[0;36m<module>\u001b[0;34m()\u001b[0m\n\u001b[0;32m----> 1\u001b[0;31m \u001b[0mplot_single\u001b[0m\u001b[0;34m(\u001b[0m\u001b[0;34m'SNOW'\u001b[0m\u001b[0;34m,\u001b[0m\u001b[0mplot_mean_std\u001b[0m\u001b[0;34m,\u001b[0m\u001b[0;34m'r_figures/SNOW.png'\u001b[0m\u001b[0;34m)\u001b[0m\u001b[0;34m\u001b[0m\u001b[0m\n\u001b[0m",
      "\u001b[0;31mNameError\u001b[0m: name 'plot_single' is not defined"
     ]
    }
   ],
   "source": [
    "plot_single('SNOW',plot_mean_std,'r_figures/SNOW.png')"
   ]
  },
  {
   "cell_type": "code",
   "execution_count": 80,
   "metadata": {},
   "outputs": [
    {
     "ename": "NameError",
     "evalue": "name 'plot_single' is not defined",
     "output_type": "error",
     "traceback": [
      "\u001b[0;31m---------------------------------------------------------------------------\u001b[0m",
      "\u001b[0;31mNameError\u001b[0m                                 Traceback (most recent call last)",
      "\u001b[0;32m<ipython-input-80-2379a319698c>\u001b[0m in \u001b[0;36m<module>\u001b[0;34m()\u001b[0m\n\u001b[0;32m----> 1\u001b[0;31m \u001b[0mplot_single\u001b[0m\u001b[0;34m(\u001b[0m\u001b[0;34m'SNWD'\u001b[0m\u001b[0;34m,\u001b[0m\u001b[0mplot_mean_std\u001b[0m\u001b[0;34m,\u001b[0m\u001b[0;34m'r_figures/SNWD.png'\u001b[0m\u001b[0;34m)\u001b[0m\u001b[0;34m\u001b[0m\u001b[0m\n\u001b[0m",
      "\u001b[0;31mNameError\u001b[0m: name 'plot_single' is not defined"
     ]
    }
   ],
   "source": [
    "plot_single('SNWD',plot_mean_std,'r_figures/SNWD.png')"
   ]
  },
  {
   "cell_type": "markdown",
   "metadata": {
    "slideshow": {
     "slide_type": "slide"
    }
   },
   "source": [
    "### plotting top 3 eigenvectors"
   ]
  },
  {
   "cell_type": "code",
   "execution_count": 81,
   "metadata": {
    "collapsed": true,
    "slideshow": {
     "slide_type": "skip"
    }
   },
   "outputs": [],
   "source": [
    "def plot_eigen(m,fig,axis):\n",
    "    EV=STAT[m]['eigvec']\n",
    "    YP.plot(EV[:,:3],fig,axis,title='Top Eigenvectors '+m)"
   ]
  },
  {
   "cell_type": "code",
   "execution_count": 82,
   "metadata": {
    "slideshow": {
     "slide_type": "subslide"
    }
   },
   "outputs": [
    {
     "ename": "NameError",
     "evalue": "name 'plot_pair' is not defined",
     "output_type": "error",
     "traceback": [
      "\u001b[0;31m---------------------------------------------------------------------------\u001b[0m",
      "\u001b[0;31mNameError\u001b[0m                                 Traceback (most recent call last)",
      "\u001b[0;32m<ipython-input-82-26bfd5fcbc37>\u001b[0m in \u001b[0;36m<module>\u001b[0;34m()\u001b[0m\n\u001b[0;32m----> 1\u001b[0;31m \u001b[0mplot_pair\u001b[0m\u001b[0;34m(\u001b[0m\u001b[0;34m[\u001b[0m\u001b[0;34m'TMIN'\u001b[0m\u001b[0;34m,\u001b[0m\u001b[0;34m'TMAX'\u001b[0m\u001b[0;34m]\u001b[0m\u001b[0;34m,\u001b[0m\u001b[0mplot_eigen\u001b[0m\u001b[0;34m)\u001b[0m\u001b[0;34m\u001b[0m\u001b[0m\n\u001b[0m",
      "\u001b[0;31mNameError\u001b[0m: name 'plot_pair' is not defined"
     ]
    }
   ],
   "source": [
    "plot_pair(['TMIN','TMAX'],plot_eigen)"
   ]
  },
  {
   "cell_type": "code",
   "execution_count": 83,
   "metadata": {
    "slideshow": {
     "slide_type": "subslide"
    }
   },
   "outputs": [
    {
     "ename": "NameError",
     "evalue": "name 'plot_pair' is not defined",
     "output_type": "error",
     "traceback": [
      "\u001b[0;31m---------------------------------------------------------------------------\u001b[0m",
      "\u001b[0;31mNameError\u001b[0m                                 Traceback (most recent call last)",
      "\u001b[0;32m<ipython-input-83-ba8a96fe9d73>\u001b[0m in \u001b[0;36m<module>\u001b[0;34m()\u001b[0m\n\u001b[0;32m----> 1\u001b[0;31m \u001b[0mplot_pair\u001b[0m\u001b[0;34m(\u001b[0m\u001b[0;34m[\u001b[0m\u001b[0;34m'TOBS'\u001b[0m\u001b[0;34m,\u001b[0m\u001b[0;34m'PRCP'\u001b[0m\u001b[0;34m]\u001b[0m\u001b[0;34m,\u001b[0m\u001b[0mplot_eigen\u001b[0m\u001b[0;34m)\u001b[0m\u001b[0;34m\u001b[0m\u001b[0m\n\u001b[0m",
      "\u001b[0;31mNameError\u001b[0m: name 'plot_pair' is not defined"
     ]
    }
   ],
   "source": [
    "plot_pair(['TOBS','PRCP'],plot_eigen)"
   ]
  },
  {
   "cell_type": "code",
   "execution_count": 84,
   "metadata": {
    "slideshow": {
     "slide_type": "subslide"
    }
   },
   "outputs": [
    {
     "ename": "NameError",
     "evalue": "name 'plot_pair' is not defined",
     "output_type": "error",
     "traceback": [
      "\u001b[0;31m---------------------------------------------------------------------------\u001b[0m",
      "\u001b[0;31mNameError\u001b[0m                                 Traceback (most recent call last)",
      "\u001b[0;32m<ipython-input-84-24424de0c6ba>\u001b[0m in \u001b[0;36m<module>\u001b[0;34m()\u001b[0m\n\u001b[0;32m----> 1\u001b[0;31m \u001b[0mplot_pair\u001b[0m\u001b[0;34m(\u001b[0m\u001b[0;34m[\u001b[0m\u001b[0;34m'SNOW'\u001b[0m\u001b[0;34m,\u001b[0m \u001b[0;34m'SNWD'\u001b[0m\u001b[0;34m]\u001b[0m\u001b[0;34m,\u001b[0m\u001b[0mplot_eigen\u001b[0m\u001b[0;34m)\u001b[0m\u001b[0;34m\u001b[0m\u001b[0m\n\u001b[0m",
      "\u001b[0;31mNameError\u001b[0m: name 'plot_pair' is not defined"
     ]
    }
   ],
   "source": [
    "plot_pair(['SNOW', 'SNWD'],plot_eigen)"
   ]
  },
  {
   "cell_type": "markdown",
   "metadata": {
    "slideshow": {
     "slide_type": "slide"
    }
   },
   "source": [
    "### Script for plotting percentage of variance explained"
   ]
  },
  {
   "cell_type": "code",
   "execution_count": 85,
   "metadata": {
    "collapsed": true,
    "slideshow": {
     "slide_type": "skip"
    }
   },
   "outputs": [],
   "source": [
    "def pltVarExplained(j):\n",
    "    subplot(1,3,j)\n",
    "    EV=STAT[m]['eigval']\n",
    "    k=5\n",
    "    L=([0,]+list(cumsum(EV[:k])))/sum(EV)\n",
    "    #print m,L\n",
    "    plot(L)\n",
    "    title('Percentage of Variance Explained for '+ m)\n",
    "    ylabel('Percentage of Variance')\n",
    "    xlabel('# Eigenvector')\n",
    "    grid()\n",
    "    "
   ]
  },
  {
   "cell_type": "code",
   "execution_count": 86,
   "metadata": {
    "scrolled": true,
    "slideshow": {
     "slide_type": "subslide"
    }
   },
   "outputs": [
    {
     "data": {
      "image/png": "[encoded data removed]",
      "text/plain": [
       "<Figure size 1080x288 with 3 Axes>"
      ]
     },
     "metadata": {},
     "output_type": "display_data"
    }
   ],
   "source": [
    "f=plt.figure(figsize=(15,4))\n",
    "j=1\n",
    "for m in ['TMIN', 'TOBS', 'TMAX']: #,\n",
    "    pltVarExplained(j)\n",
    "    j+=1\n",
    "f.savefig('r_figures/VarExplained1.png')"
   ]
  },
  {
   "cell_type": "code",
   "execution_count": 87,
   "metadata": {
    "slideshow": {
     "slide_type": "subslide"
    }
   },
   "outputs": [
    {
     "data": {
      "image/png": "[encoded data removed]",
      "text/plain": [
       "<Figure size 1080x288 with 3 Axes>"
      ]
     },
     "metadata": {},
     "output_type": "display_data"
    }
   ],
   "source": [
    "f=plt.figure(figsize=(15,4))\n",
    "j=1\n",
    "for m in ['SNOW', 'SNWD', 'PRCP']:\n",
    "    pltVarExplained(j)\n",
    "    j+=1 \n",
    "f.savefig('r_figures/VarExplained2.png')"
   ]
  },
  {
   "cell_type": "code",
   "execution_count": 88,
   "metadata": {
    "collapsed": true,
    "slideshow": {
     "slide_type": "skip"
    }
   },
   "outputs": [],
   "source": [
    "#sc.stop()"
   ]
  },
  {
   "cell_type": "code",
   "execution_count": null,
   "metadata": {
    "collapsed": true
   },
   "outputs": [],
   "source": []
  },
  {
   "cell_type": "code",
   "execution_count": null,
   "metadata": {
    "collapsed": true
   },
   "outputs": [],
   "source": []
  }
 ],
 "metadata": {
  "anaconda-cloud": {},
  "celltoolbar": "Slideshow",
  "hide_input": false,
  "kernelspec": {
   "display_name": "Python 3",
   "language": "python",
   "name": "python3"
  },
  "language_info": {
   "codemirror_mode": {
    "name": "ipython",
    "version": 3
   },
   "file_extension": ".py",
   "mimetype": "text/x-python",
   "name": "python",
   "nbconvert_exporter": "python",
   "pygments_lexer": "ipython3",
   "version": "3.5.2"
  },
  "toc": {
   "base_numbering": 1,
   "nav_menu": {
    "height": "190px",
    "width": "252px"
   },
   "number_sections": true,
   "sideBar": true,
   "skip_h1_title": false,
   "title_cell": "Table of Contents",
   "title_sidebar": "Contents",
   "toc_cell": false,
   "toc_position": {
    "height": "514px",
    "left": "0px",
    "right": "925px",
    "top": "107px",
    "width": "323px"
   },
   "toc_section_display": "block",
   "toc_window_display": false
  }
 },
 "nbformat": 4,
 "nbformat_minor": 1
}
