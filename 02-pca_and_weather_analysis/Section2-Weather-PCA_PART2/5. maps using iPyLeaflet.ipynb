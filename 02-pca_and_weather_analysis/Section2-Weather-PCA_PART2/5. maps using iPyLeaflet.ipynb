{
 "cells": [
  {
   "cell_type": "code",
   "execution_count": 1,
   "metadata": {
    "ExecuteTime": {
     "end_time": "2018-04-26T15:19:38.069330Z",
     "start_time": "2018-04-26T15:19:37.933073Z"
    },
    "slideshow": {
     "slide_type": "skip"
    }
   },
   "outputs": [
    {
     "name": "stdout",
     "output_type": "stream",
     "text": [
      "decon_NY_PRCP_s20.parquet  NY.tgz\t\t  STAT_NY.pickle\r\n",
      "decon_NY_SNWD.parquet\t   recon_NY_SNWD.parquet  Weather_Stations.tgz\r\n",
      "NY.parquet\t\t   stations.parquet\r\n"
     ]
    }
   ],
   "source": [
    "!ls ../Data/Weather/"
   ]
  },
  {
   "cell_type": "code",
   "execution_count": 2,
   "metadata": {
    "ExecuteTime": {
     "end_time": "2018-04-26T15:17:49.660935Z",
     "start_time": "2018-04-26T15:17:49.331615Z"
    },
    "slideshow": {
     "slide_type": "skip"
    }
   },
   "outputs": [
    {
     "name": "stderr",
     "output_type": "stream",
     "text": [
      "/usr/lib/python3.5/importlib/_bootstrap.py:222: RuntimeWarning: numpy.dtype size changed, may indicate binary incompatibility. Expected 96, got 88\n",
      "  return f(*args, **kwds)\n",
      "/usr/lib/python3.5/importlib/_bootstrap.py:222: RuntimeWarning: numpy.dtype size changed, may indicate binary incompatibility. Expected 96, got 88\n",
      "  return f(*args, **kwds)\n"
     ]
    },
    {
     "name": "stdout",
     "output_type": "stream",
     "text": [
      "Populating the interactive namespace from numpy and matplotlib\n"
     ]
    }
   ],
   "source": [
    "import ipyleaflet\n",
    "%pylab inline"
   ]
  },
  {
   "cell_type": "code",
   "execution_count": 3,
   "metadata": {
    "ExecuteTime": {
     "end_time": "2018-04-26T15:17:49.666209Z",
     "start_time": "2018-04-26T15:17:49.662769Z"
    },
    "collapsed": true,
    "slideshow": {
     "slide_type": "skip"
    }
   },
   "outputs": [],
   "source": [
    "from ipyleaflet import (\n",
    "    Map,\n",
    "    Marker,\n",
    "    TileLayer, ImageOverlay,\n",
    "    Polyline, Polygon, Rectangle, Circle, CircleMarker,\n",
    "    GeoJSON,\n",
    "    DrawControl\n",
    ")"
   ]
  },
  {
   "cell_type": "markdown",
   "metadata": {
    "slideshow": {
     "slide_type": "slide"
    }
   },
   "source": [
    "## Visualizing the distribution coefficients on a map"
   ]
  },
  {
   "cell_type": "markdown",
   "metadata": {
    "slideshow": {
     "slide_type": "subslide"
    }
   },
   "source": [
    "## Loading libraries and information"
   ]
  },
  {
   "cell_type": "markdown",
   "metadata": {
    "slideshow": {
     "slide_type": "skip"
    }
   },
   "source": [
    "### Load the required libraries"
   ]
  },
  {
   "cell_type": "code",
   "execution_count": 4,
   "metadata": {
    "ExecuteTime": {
     "end_time": "2018-04-26T15:17:50.089027Z",
     "start_time": "2018-04-26T15:17:49.668188Z"
    },
    "slideshow": {
     "slide_type": "skip"
    }
   },
   "outputs": [
    {
     "name": "stderr",
     "output_type": "stream",
     "text": [
      "/usr/lib/python3.5/importlib/_bootstrap.py:222: RuntimeWarning: numpy.dtype size changed, may indicate binary incompatibility. Expected 96, got 88\n",
      "  return f(*args, **kwds)\n",
      "/usr/lib/python3.5/importlib/_bootstrap.py:222: RuntimeWarning: numpy.dtype size changed, may indicate binary incompatibility. Expected 96, got 88\n",
      "  return f(*args, **kwds)\n",
      "/usr/lib/python3.5/importlib/_bootstrap.py:222: RuntimeWarning: numpy.dtype size changed, may indicate binary incompatibility. Expected 96, got 88\n",
      "  return f(*args, **kwds)\n"
     ]
    }
   ],
   "source": [
    "import pandas as pd\n",
    "import numpy as np\n",
    "import sklearn as sk\n",
    "import urllib\n",
    "import math"
   ]
  },
  {
   "cell_type": "code",
   "execution_count": 5,
   "metadata": {
    "ExecuteTime": {
     "end_time": "2018-04-26T15:17:52.819716Z",
     "start_time": "2018-04-26T15:17:50.091241Z"
    },
    "collapsed": true,
    "slideshow": {
     "slide_type": "skip"
    }
   },
   "outputs": [],
   "source": [
    "#import findspark\n",
    "#findspark.init()\n",
    "\n",
    "from pyspark import SparkContext\n",
    "#sc.stop()\n",
    "sc = SparkContext(master=\"local[3]\",pyFiles=['lib/numpy_pack.py','lib/spark_PCA.py','lib/computeStatistics.py'])\n",
    "\n",
    "from pyspark import SparkContext\n",
    "from pyspark.sql import *\n",
    "sqlContext = SQLContext(sc)"
   ]
  },
  {
   "cell_type": "code",
   "execution_count": 6,
   "metadata": {
    "ExecuteTime": {
     "end_time": "2018-04-26T15:17:52.843124Z",
     "start_time": "2018-04-26T15:17:52.822038Z"
    },
    "collapsed": true,
    "slideshow": {
     "slide_type": "skip"
    }
   },
   "outputs": [],
   "source": [
    "import numpy as np\n",
    "from lib.numpy_pack import packArray,unpackArray\n",
    "from lib.spark_PCA import computeCov\n",
    "from lib.computeStatistics import *"
   ]
  },
  {
   "cell_type": "markdown",
   "metadata": {
    "slideshow": {
     "slide_type": "subslide"
    }
   },
   "source": [
    "###  Load stations information"
   ]
  },
  {
   "cell_type": "code",
   "execution_count": 7,
   "metadata": {
    "ExecuteTime": {
     "end_time": "2018-04-26T15:17:52.993423Z",
     "start_time": "2018-04-26T15:17:52.844971Z"
    },
    "slideshow": {
     "slide_type": "skip"
    }
   },
   "outputs": [
    {
     "name": "stdout",
     "output_type": "stream",
     "text": [
      "77M\t../Data/Weather//NY.parquet\n",
      "64M\t../Data/Weather//NY.tgz\n",
      "49M\t../Data/Weather//STAT_NY.pickle\n",
      "348K\t../Data/Weather//Weather_Stations.tgz\n",
      "13M\t../Data/Weather//decon_NY_PRCP_s20.parquet\n",
      "1.9M\t../Data/Weather//decon_NY_SNWD.parquet\n",
      "1.9M\t../Data/Weather//recon_NY_SNWD.parquet\n",
      "420K\t../Data/Weather//stations.parquet\n"
     ]
    }
   ],
   "source": [
    "data_dir='../Data/Weather/'\n",
    "!du -sh $data_dir/*"
   ]
  },
  {
   "cell_type": "code",
   "execution_count": 8,
   "metadata": {
    "ExecuteTime": {
     "end_time": "2018-04-26T15:17:56.102720Z",
     "start_time": "2018-04-26T15:17:52.996085Z"
    },
    "slideshow": {
     "slide_type": "fragment"
    }
   },
   "outputs": [
    {
     "name": "stdout",
     "output_type": "stream",
     "text": [
      "+-----------+----------+--------+---------+---------+-----+----------------+\n",
      "|    Station|Dist_coast|Latitude|Longitude|Elevation|State|            Name|\n",
      "+-----------+----------+--------+---------+---------+-----+----------------+\n",
      "|USC00341900|   739.956|    36.3| -96.4667|    242.3|   OK|       CLEVELAND|\n",
      "|USC00428114|    908.22|    40.1|-111.6667|   1409.1|   UT|SPANISH FORK 1 S|\n",
      "|USC00165926|   23.8801| 29.7853| -90.1158|      0.9|   LA|   MARRERO 9 SSW|\n",
      "+-----------+----------+--------+---------+---------+-----+----------------+\n",
      "only showing top 3 rows\n",
      "\n"
     ]
    }
   ],
   "source": [
    "stations_df=sqlContext.read.parquet(data_dir+'/stations.parquet')\n",
    "stations_df.show(3)"
   ]
  },
  {
   "cell_type": "markdown",
   "metadata": {
    "slideshow": {
     "slide_type": "subslide"
    }
   },
   "source": [
    "### Load the reconstructions DataFrame\n",
    "\n",
    "For details about the columns in this DataFrame see the README notebook"
   ]
  },
  {
   "cell_type": "code",
   "execution_count": 9,
   "metadata": {
    "ExecuteTime": {
     "end_time": "2018-04-26T15:23:32.465051Z",
     "start_time": "2018-04-26T15:23:31.880068Z"
    },
    "slideshow": {
     "slide_type": "skip"
    }
   },
   "outputs": [
    {
     "name": "stdout",
     "output_type": "stream",
     "text": [
      "8174\n",
      "+-----------+-----------+--------------------+----+------------------+------------------+------------------+------------------+------------------+------------------+----------------+------------------+------------------+---------+------------------+------------------+-----------------+------------------+-------------------+------------------+---------+-----+\n",
      "|    Station|Measurement|              Values|Year|           coeff_1|           coeff_2|           coeff_3|           coeff_4|           coeff_5|        dist_coast|       elevation|          latitude|         longitude|     name|             res_1|             res_2|            res_3|             res_4|              res_5|          res_mean|total_var|State|\n",
      "+-----------+-----------+--------------------+----+------------------+------------------+------------------+------------------+------------------+------------------+----------------+------------------+------------------+---------+------------------+------------------+-----------------+------------------+-------------------+------------------+---------+-----+\n",
      "|USW00014735|       SNWD|[C0 54 60 56 00 0...|1939|-659.3190458468584|-169.3223185674074|114.03551919851718|457.63475616405776|418.85486776821057|175.44400024414062|95.0999984741211|42.743099212646484|-73.80919647216797|ALBANY AP|0.6936982956503619|0.6717348260864184|0.663298809472818|0.5188018093532125|0.39955117079145136|0.9805876688449685|1466850.0|   NY|\n",
      "+-----------+-----------+--------------------+----+------------------+------------------+------------------+------------------+------------------+------------------+----------------+------------------+------------------+---------+------------------+------------------+-----------------+------------------+-------------------+------------------+---------+-----+\n",
      "only showing top 1 row\n",
      "\n"
     ]
    }
   ],
   "source": [
    "### Read the data frame from a parquet file.\n",
    "\n",
    "state='NY'\n",
    "meas='SNWD'\n",
    "\n",
    "#read data\n",
    "filename=data_dir+'/decon_%s_%s.parquet'%(state,meas)\n",
    "\n",
    "df=sqlContext.read.parquet(filename)\n",
    "print(df.count())\n",
    "df.show(1)"
   ]
  },
  {
   "cell_type": "markdown",
   "metadata": {
    "slideshow": {
     "slide_type": "subslide"
    }
   },
   "source": [
    "## Compute the count and average of `coef_1` for each station."
   ]
  },
  {
   "cell_type": "code",
   "execution_count": 10,
   "metadata": {
    "ExecuteTime": {
     "end_time": "2018-04-26T15:23:37.910760Z",
     "start_time": "2018-04-26T15:23:34.431577Z"
    },
    "hide_input": true,
    "scrolled": true,
    "slideshow": {
     "slide_type": "fragment"
    }
   },
   "outputs": [
    {
     "name": "stdout",
     "output_type": "stream",
     "text": [
      "SELECT station, latitude,longitude,elevation,Dist_coast,coeff_1 FROM weather\n"
     ]
    },
    {
     "data": {
      "text/html": [
       "<div>\n",
       "<style scoped>\n",
       "    .dataframe tbody tr th:only-of-type {\n",
       "        vertical-align: middle;\n",
       "    }\n",
       "\n",
       "    .dataframe tbody tr th {\n",
       "        vertical-align: top;\n",
       "    }\n",
       "\n",
       "    .dataframe thead th {\n",
       "        text-align: right;\n",
       "    }\n",
       "</style>\n",
       "<table border=\"1\" class=\"dataframe\">\n",
       "  <thead>\n",
       "    <tr style=\"text-align: right;\">\n",
       "      <th></th>\n",
       "      <th>station</th>\n",
       "      <th>latitude</th>\n",
       "      <th>longitude</th>\n",
       "      <th>elevation</th>\n",
       "      <th>Dist_coast</th>\n",
       "      <th>count(station)</th>\n",
       "      <th>avg(coeff_1)</th>\n",
       "    </tr>\n",
       "  </thead>\n",
       "  <tbody>\n",
       "    <tr>\n",
       "      <th>294</th>\n",
       "      <td>USC00300015</td>\n",
       "      <td>43.900002</td>\n",
       "      <td>-76.066704</td>\n",
       "      <td>121.900002</td>\n",
       "      <td>376.802002</td>\n",
       "      <td>25</td>\n",
       "      <td>1550.908341</td>\n",
       "    </tr>\n",
       "    <tr>\n",
       "      <th>182</th>\n",
       "      <td>USC00300023</td>\n",
       "      <td>42.101398</td>\n",
       "      <td>-77.234398</td>\n",
       "      <td>304.500000</td>\n",
       "      <td>296.167999</td>\n",
       "      <td>46</td>\n",
       "      <td>-90.305486</td>\n",
       "    </tr>\n",
       "    <tr>\n",
       "      <th>275</th>\n",
       "      <td>USC00300047</td>\n",
       "      <td>42.646099</td>\n",
       "      <td>-73.747200</td>\n",
       "      <td>0.000000</td>\n",
       "      <td>166.001007</td>\n",
       "      <td>4</td>\n",
       "      <td>-107.478530</td>\n",
       "    </tr>\n",
       "    <tr>\n",
       "      <th>69</th>\n",
       "      <td>USC00300055</td>\n",
       "      <td>43.272202</td>\n",
       "      <td>-78.166397</td>\n",
       "      <td>134.100006</td>\n",
       "      <td>436.303009</td>\n",
       "      <td>29</td>\n",
       "      <td>43.864554</td>\n",
       "    </tr>\n",
       "    <tr>\n",
       "      <th>239</th>\n",
       "      <td>USC00300063</td>\n",
       "      <td>42.469700</td>\n",
       "      <td>-73.926697</td>\n",
       "      <td>185.000000</td>\n",
       "      <td>152.889999</td>\n",
       "      <td>5</td>\n",
       "      <td>-6.938177</td>\n",
       "    </tr>\n",
       "  </tbody>\n",
       "</table>\n",
       "</div>"
      ],
      "text/plain": [
       "         station   latitude  longitude   elevation  Dist_coast  \\\n",
       "294  USC00300015  43.900002 -76.066704  121.900002  376.802002   \n",
       "182  USC00300023  42.101398 -77.234398  304.500000  296.167999   \n",
       "275  USC00300047  42.646099 -73.747200    0.000000  166.001007   \n",
       "69   USC00300055  43.272202 -78.166397  134.100006  436.303009   \n",
       "239  USC00300063  42.469700 -73.926697  185.000000  152.889999   \n",
       "\n",
       "     count(station)  avg(coeff_1)  \n",
       "294              25   1550.908341  \n",
       "182              46    -90.305486  \n",
       "275               4   -107.478530  \n",
       "69               29     43.864554  \n",
       "239               5     -6.938177  "
      ]
     },
     "execution_count": 10,
     "metadata": {},
     "output_type": "execute_result"
    }
   ],
   "source": [
    "#extract longitude and latitude for each station\n",
    "feature='coeff_1'\n",
    "sqlContext.registerDataFrameAsTable(df,'weather')\n",
    "Query=\"SELECT station, latitude,longitude,elevation,Dist_coast,%s FROM weather\"%feature\n",
    "print(Query)\n",
    "df1 = sqlContext.sql(Query)\n",
    "\n",
    "df2=df1.groupby(['station','latitude','longitude','elevation','Dist_coast']).agg({\"station\": \"count\", feature: \"mean\"})\n",
    "#df2=df1.groupby(['station']).agg({\"station\": \"count\", feature: \"mean\"})\n",
    "pdf=df2.toPandas()\n",
    "pdf.sort_values(by=['station'],inplace=True)\n",
    "pdf.head(5)"
   ]
  },
  {
   "cell_type": "code",
   "execution_count": 11,
   "metadata": {
    "ExecuteTime": {
     "end_time": "2018-04-26T15:23:38.797161Z",
     "start_time": "2018-04-26T15:23:38.791095Z"
    },
    "collapsed": true,
    "slideshow": {
     "slide_type": "skip"
    }
   },
   "outputs": [],
   "source": [
    "# Find long/lat bounding box\n",
    "max_long=pdf['longitude'].max()\n",
    "min_long=pdf['longitude'].min()\n",
    "max_lat=pdf['latitude'].max()\n",
    "min_lat=pdf['latitude'].min()\n"
   ]
  },
  {
   "cell_type": "code",
   "execution_count": 12,
   "metadata": {
    "ExecuteTime": {
     "end_time": "2018-04-26T15:23:39.433574Z",
     "start_time": "2018-04-26T15:23:39.422373Z"
    },
    "collapsed": true,
    "slideshow": {
     "slide_type": "skip"
    }
   },
   "outputs": [],
   "source": [
    "#define a mapping from the range of the value to hex colors.\n",
    "from matplotlib.colors import rgb2hex\n",
    "_avg='avg(%s)'%feature\n",
    "_min=pdf[_avg].min()\n",
    "_max=pdf[_avg].max()\n",
    "_min,_max\n",
    "\n",
    "import pylab as plt\n",
    "cmap=plt.get_cmap('jet')\n",
    "def get_color(val):\n",
    "    x=(val-_min)/(_max-_min)\n",
    "    return(rgb2hex(cmap(x)[:3]))\n"
   ]
  },
  {
   "cell_type": "markdown",
   "metadata": {
    "slideshow": {
     "slide_type": "slide"
    }
   },
   "source": [
    "## Map\n",
    "* Each circle is centered at a station.  \n",
    "* The area of the circle corresponds to the number of years SNWD was recorded at the station.  \n",
    "* The color fill of the circle corresponds to the value of `avg(coeff_1)` defined by color-bar."
   ]
  },
  {
   "cell_type": "code",
   "execution_count": 13,
   "metadata": {
    "ExecuteTime": {
     "end_time": "2018-04-26T15:23:42.653309Z",
     "start_time": "2018-04-26T15:23:42.439703Z"
    },
    "hide_input": false,
    "slideshow": {
     "slide_type": "fragment"
    }
   },
   "outputs": [
    {
     "data": {
      "image/png": "[encoded data removed]",
      "text/plain": [
       "<Figure size 720x72 with 1 Axes>"
      ]
     },
     "metadata": {},
     "output_type": "display_data"
    }
   ],
   "source": [
    "#def color_bar(_min,_max)\n",
    "import pylab as plt\n",
    "from matplotlib.pyplot import xticks,yticks\n",
    "figure(figsize=[10,1])\n",
    "ax = plt.subplot(111)\n",
    "vals=cmap(np.arange(0,1,0.005))[:,:3]\n",
    "vals3=np.stack([vals]*10)\n",
    "vals3.shape\n",
    "ax.imshow(vals3);\n",
    "\n",
    "midpoint=200.*-_min/(_max-_min)\n",
    "xticks((0,midpoint,200),[\"%4.1f\"%v for v in (_min,0.,_max)])\n",
    "yticks(());\n"
   ]
  },
  {
   "cell_type": "code",
   "execution_count": 14,
   "metadata": {
    "ExecuteTime": {
     "end_time": "2018-04-26T15:23:45.293487Z",
     "start_time": "2018-04-26T15:23:43.903067Z"
    },
    "hide_input": true,
    "slideshow": {
     "slide_type": "fragment"
    }
   },
   "outputs": [
    {
     "data": {
      "application/vnd.jupyter.widget-view+json": {
       "model_id": "20c7a48558304624af2ac7b3bc838ae1",
       "version_major": 2,
       "version_minor": 0
      },
      "text/plain": [
       "A Jupyter Widget"
      ]
     },
     "metadata": {},
     "output_type": "display_data"
    }
   ],
   "source": [
    "center = [(min_lat+max_lat)/2, (min_long+max_long)/2]\n",
    "zoom = 6\n",
    "\n",
    "m = Map(default_tiles=TileLayer(opacity=1.0), center=center, zoom=zoom)\n",
    "\n",
    "r = Rectangle(bounds=[[min_lat,min_long],[max_lat,max_long]], weight=5, fill_opacity=0.0)\n",
    "m += r\n",
    "\n",
    "lat_margin=(max_lat-min_lat)/4\n",
    "long_margin=(max_long-min_long)/4\n",
    "circles = []\n",
    "for index,row in pdf.iterrows():\n",
    "    _lat=row['latitude']\n",
    "    _long=row['longitude']\n",
    "    _count=row['count(station)']\n",
    "    _coef=row[_avg]\n",
    "    # taking sqrt of count so that the  area of the circle corresponds to the count\n",
    "    c = Circle(location=(_lat,_long), radius=int(1200*np.sqrt(_count+0.0)), weight=1,\n",
    "            color='#F00', opacity=0.8, fill_opacity=0.4,\n",
    "            fill_color=get_color(_coef))\n",
    "    circles.append(c)\n",
    "    m.add_layer(c)\n",
    "m    "
   ]
  },
  {
   "cell_type": "markdown",
   "metadata": {
    "slideshow": {
     "slide_type": "skip"
    }
   },
   "source": [
    "### Something to try\n",
    "* Leaflet supports a variety of maps. See if you can get a topographical map as the background."
   ]
  },
  {
   "cell_type": "markdown",
   "metadata": {
    "slideshow": {
     "slide_type": "subslide"
    }
   },
   "source": [
    "### Is coef_1 related to elevation ?"
   ]
  },
  {
   "cell_type": "code",
   "execution_count": 15,
   "metadata": {
    "ExecuteTime": {
     "end_time": "2018-04-26T15:17:56.331766Z",
     "start_time": "2018-04-26T15:17:49.586Z"
    },
    "hide_input": true,
    "slideshow": {
     "slide_type": "fragment"
    }
   },
   "outputs": [
    {
     "data": {
      "text/plain": [
       "(-100, 1000)"
      ]
     },
     "execution_count": 15,
     "metadata": {},
     "output_type": "execute_result"
    },
    {
     "data": {
      "image/png": "[encoded data removed]",
      "text/plain": [
       "<Figure size 576x432 with 1 Axes>"
      ]
     },
     "metadata": {},
     "output_type": "display_data"
    }
   ],
   "source": [
    "pdf.plot.scatter(x='elevation',y='avg(coeff_1)',figsize=(8,6));\n",
    "grid()\n",
    "xlim([-100,1000])"
   ]
  },
  {
   "cell_type": "markdown",
   "metadata": {
    "slideshow": {
     "slide_type": "slide"
    }
   },
   "source": [
    "## Summary\n",
    "* We saw how to use `ipyLeaflet` to present data on top of maps.\n",
    "* We saw that in NY state, most of the snow accumulation is in the Adirondacks.\n",
    "* Snow accumulation increases with elevation, but the relationship is weak: locations with elevation 400-600 meters have widely varying accumulations of snow."
   ]
  },
  {
   "cell_type": "markdown",
   "metadata": {
    "slideshow": {
     "slide_type": "slide"
    }
   },
   "source": [
    "## See you next time"
   ]
  },
  {
   "cell_type": "code",
   "execution_count": null,
   "metadata": {
    "collapsed": true
   },
   "outputs": [],
   "source": []
  }
 ],
 "metadata": {
  "anaconda-cloud": {},
  "celltoolbar": "Slideshow",
  "hide_input": false,
  "kernelspec": {
   "display_name": "Python 3",
   "language": "python",
   "name": "python3"
  },
  "language_info": {
   "codemirror_mode": {
    "name": "ipython",
    "version": 3
   },
   "file_extension": ".py",
   "mimetype": "text/x-python",
   "name": "python",
   "nbconvert_exporter": "python",
   "pygments_lexer": "ipython3",
   "version": "3.5.2"
  },
  "toc": {
   "nav_menu": {
    "height": "174px",
    "width": "252px"
   },
   "number_sections": true,
   "sideBar": true,
   "skip_h1_title": false,
   "title_cell": "Table of Contents",
   "title_sidebar": "Contents",
   "toc_cell": false,
   "toc_position": {
    "height": "calc(100% - 180px)",
    "left": "10px",
    "top": "150px",
    "width": "334px"
   },
   "toc_section_display": "block",
   "toc_window_display": false
  },
  "widgets": {
   "state": {},
   "version": "1.0.0"
  }
 },
 "nbformat": 4,
 "nbformat_minor": 1
}
